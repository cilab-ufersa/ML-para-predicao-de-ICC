{
 "cells": [
  {
   "cell_type": "code",
   "execution_count": 162,
   "metadata": {},
   "outputs": [
    {
     "data": {
      "text/html": [
       "<div>\n",
       "<style scoped>\n",
       "    .dataframe tbody tr th:only-of-type {\n",
       "        vertical-align: middle;\n",
       "    }\n",
       "\n",
       "    .dataframe tbody tr th {\n",
       "        vertical-align: top;\n",
       "    }\n",
       "\n",
       "    .dataframe thead th {\n",
       "        text-align: right;\n",
       "    }\n",
       "</style>\n",
       "<table border=\"1\" class=\"dataframe\">\n",
       "  <thead>\n",
       "    <tr style=\"text-align: right;\">\n",
       "      <th></th>\n",
       "      <th>ID</th>\n",
       "      <th>AGE</th>\n",
       "      <th>SEX</th>\n",
       "      <th>INF_ANAM</th>\n",
       "      <th>STENOK_AN</th>\n",
       "      <th>FK_STENOK</th>\n",
       "      <th>IBS_POST</th>\n",
       "      <th>IBS_NASL</th>\n",
       "      <th>GB</th>\n",
       "      <th>SIM_GIPERT</th>\n",
       "      <th>...</th>\n",
       "      <th>JELUD_TAH</th>\n",
       "      <th>FIBR_JELUD</th>\n",
       "      <th>A_V_BLOK</th>\n",
       "      <th>OTEK_LANC</th>\n",
       "      <th>RAZRIV</th>\n",
       "      <th>DRESSLER</th>\n",
       "      <th>ZSN</th>\n",
       "      <th>REC_IM</th>\n",
       "      <th>P_IM_STEN</th>\n",
       "      <th>LET_IS</th>\n",
       "    </tr>\n",
       "  </thead>\n",
       "  <tbody>\n",
       "    <tr>\n",
       "      <th>0</th>\n",
       "      <td>1</td>\n",
       "      <td>77.0</td>\n",
       "      <td>1</td>\n",
       "      <td>2.0</td>\n",
       "      <td>1.0</td>\n",
       "      <td>1.0</td>\n",
       "      <td>2.0</td>\n",
       "      <td>NaN</td>\n",
       "      <td>3.0</td>\n",
       "      <td>0.0</td>\n",
       "      <td>...</td>\n",
       "      <td>0</td>\n",
       "      <td>0</td>\n",
       "      <td>0</td>\n",
       "      <td>0</td>\n",
       "      <td>0</td>\n",
       "      <td>0</td>\n",
       "      <td>0</td>\n",
       "      <td>0</td>\n",
       "      <td>0</td>\n",
       "      <td>0</td>\n",
       "    </tr>\n",
       "    <tr>\n",
       "      <th>1</th>\n",
       "      <td>2</td>\n",
       "      <td>55.0</td>\n",
       "      <td>1</td>\n",
       "      <td>1.0</td>\n",
       "      <td>0.0</td>\n",
       "      <td>0.0</td>\n",
       "      <td>0.0</td>\n",
       "      <td>0.0</td>\n",
       "      <td>0.0</td>\n",
       "      <td>0.0</td>\n",
       "      <td>...</td>\n",
       "      <td>0</td>\n",
       "      <td>0</td>\n",
       "      <td>0</td>\n",
       "      <td>0</td>\n",
       "      <td>0</td>\n",
       "      <td>0</td>\n",
       "      <td>0</td>\n",
       "      <td>0</td>\n",
       "      <td>0</td>\n",
       "      <td>0</td>\n",
       "    </tr>\n",
       "    <tr>\n",
       "      <th>2</th>\n",
       "      <td>3</td>\n",
       "      <td>52.0</td>\n",
       "      <td>1</td>\n",
       "      <td>0.0</td>\n",
       "      <td>0.0</td>\n",
       "      <td>0.0</td>\n",
       "      <td>2.0</td>\n",
       "      <td>NaN</td>\n",
       "      <td>2.0</td>\n",
       "      <td>0.0</td>\n",
       "      <td>...</td>\n",
       "      <td>0</td>\n",
       "      <td>0</td>\n",
       "      <td>0</td>\n",
       "      <td>0</td>\n",
       "      <td>0</td>\n",
       "      <td>0</td>\n",
       "      <td>0</td>\n",
       "      <td>0</td>\n",
       "      <td>0</td>\n",
       "      <td>0</td>\n",
       "    </tr>\n",
       "    <tr>\n",
       "      <th>3</th>\n",
       "      <td>4</td>\n",
       "      <td>68.0</td>\n",
       "      <td>0</td>\n",
       "      <td>0.0</td>\n",
       "      <td>0.0</td>\n",
       "      <td>0.0</td>\n",
       "      <td>2.0</td>\n",
       "      <td>NaN</td>\n",
       "      <td>2.0</td>\n",
       "      <td>0.0</td>\n",
       "      <td>...</td>\n",
       "      <td>0</td>\n",
       "      <td>0</td>\n",
       "      <td>0</td>\n",
       "      <td>0</td>\n",
       "      <td>0</td>\n",
       "      <td>0</td>\n",
       "      <td>1</td>\n",
       "      <td>0</td>\n",
       "      <td>0</td>\n",
       "      <td>0</td>\n",
       "    </tr>\n",
       "    <tr>\n",
       "      <th>4</th>\n",
       "      <td>5</td>\n",
       "      <td>60.0</td>\n",
       "      <td>1</td>\n",
       "      <td>0.0</td>\n",
       "      <td>0.0</td>\n",
       "      <td>0.0</td>\n",
       "      <td>2.0</td>\n",
       "      <td>NaN</td>\n",
       "      <td>3.0</td>\n",
       "      <td>0.0</td>\n",
       "      <td>...</td>\n",
       "      <td>0</td>\n",
       "      <td>0</td>\n",
       "      <td>0</td>\n",
       "      <td>0</td>\n",
       "      <td>0</td>\n",
       "      <td>0</td>\n",
       "      <td>0</td>\n",
       "      <td>0</td>\n",
       "      <td>0</td>\n",
       "      <td>0</td>\n",
       "    </tr>\n",
       "    <tr>\n",
       "      <th>...</th>\n",
       "      <td>...</td>\n",
       "      <td>...</td>\n",
       "      <td>...</td>\n",
       "      <td>...</td>\n",
       "      <td>...</td>\n",
       "      <td>...</td>\n",
       "      <td>...</td>\n",
       "      <td>...</td>\n",
       "      <td>...</td>\n",
       "      <td>...</td>\n",
       "      <td>...</td>\n",
       "      <td>...</td>\n",
       "      <td>...</td>\n",
       "      <td>...</td>\n",
       "      <td>...</td>\n",
       "      <td>...</td>\n",
       "      <td>...</td>\n",
       "      <td>...</td>\n",
       "      <td>...</td>\n",
       "      <td>...</td>\n",
       "      <td>...</td>\n",
       "    </tr>\n",
       "    <tr>\n",
       "      <th>1695</th>\n",
       "      <td>1696</td>\n",
       "      <td>77.0</td>\n",
       "      <td>0</td>\n",
       "      <td>0.0</td>\n",
       "      <td>4.0</td>\n",
       "      <td>2.0</td>\n",
       "      <td>1.0</td>\n",
       "      <td>NaN</td>\n",
       "      <td>2.0</td>\n",
       "      <td>0.0</td>\n",
       "      <td>...</td>\n",
       "      <td>0</td>\n",
       "      <td>0</td>\n",
       "      <td>1</td>\n",
       "      <td>0</td>\n",
       "      <td>1</td>\n",
       "      <td>0</td>\n",
       "      <td>0</td>\n",
       "      <td>0</td>\n",
       "      <td>0</td>\n",
       "      <td>3</td>\n",
       "    </tr>\n",
       "    <tr>\n",
       "      <th>1696</th>\n",
       "      <td>1697</td>\n",
       "      <td>70.0</td>\n",
       "      <td>0</td>\n",
       "      <td>0.0</td>\n",
       "      <td>6.0</td>\n",
       "      <td>2.0</td>\n",
       "      <td>1.0</td>\n",
       "      <td>NaN</td>\n",
       "      <td>2.0</td>\n",
       "      <td>0.0</td>\n",
       "      <td>...</td>\n",
       "      <td>0</td>\n",
       "      <td>0</td>\n",
       "      <td>0</td>\n",
       "      <td>0</td>\n",
       "      <td>0</td>\n",
       "      <td>0</td>\n",
       "      <td>0</td>\n",
       "      <td>0</td>\n",
       "      <td>0</td>\n",
       "      <td>1</td>\n",
       "    </tr>\n",
       "    <tr>\n",
       "      <th>1697</th>\n",
       "      <td>1698</td>\n",
       "      <td>55.0</td>\n",
       "      <td>1</td>\n",
       "      <td>3.0</td>\n",
       "      <td>6.0</td>\n",
       "      <td>2.0</td>\n",
       "      <td>2.0</td>\n",
       "      <td>NaN</td>\n",
       "      <td>0.0</td>\n",
       "      <td>0.0</td>\n",
       "      <td>...</td>\n",
       "      <td>0</td>\n",
       "      <td>0</td>\n",
       "      <td>0</td>\n",
       "      <td>0</td>\n",
       "      <td>0</td>\n",
       "      <td>0</td>\n",
       "      <td>0</td>\n",
       "      <td>1</td>\n",
       "      <td>0</td>\n",
       "      <td>6</td>\n",
       "    </tr>\n",
       "    <tr>\n",
       "      <th>1698</th>\n",
       "      <td>1699</td>\n",
       "      <td>79.0</td>\n",
       "      <td>0</td>\n",
       "      <td>2.0</td>\n",
       "      <td>2.0</td>\n",
       "      <td>2.0</td>\n",
       "      <td>1.0</td>\n",
       "      <td>NaN</td>\n",
       "      <td>2.0</td>\n",
       "      <td>0.0</td>\n",
       "      <td>...</td>\n",
       "      <td>0</td>\n",
       "      <td>0</td>\n",
       "      <td>0</td>\n",
       "      <td>1</td>\n",
       "      <td>0</td>\n",
       "      <td>0</td>\n",
       "      <td>0</td>\n",
       "      <td>0</td>\n",
       "      <td>0</td>\n",
       "      <td>1</td>\n",
       "    </tr>\n",
       "    <tr>\n",
       "      <th>1699</th>\n",
       "      <td>1700</td>\n",
       "      <td>63.0</td>\n",
       "      <td>1</td>\n",
       "      <td>2.0</td>\n",
       "      <td>NaN</td>\n",
       "      <td>NaN</td>\n",
       "      <td>NaN</td>\n",
       "      <td>NaN</td>\n",
       "      <td>2.0</td>\n",
       "      <td>0.0</td>\n",
       "      <td>...</td>\n",
       "      <td>0</td>\n",
       "      <td>0</td>\n",
       "      <td>0</td>\n",
       "      <td>0</td>\n",
       "      <td>0</td>\n",
       "      <td>0</td>\n",
       "      <td>0</td>\n",
       "      <td>0</td>\n",
       "      <td>0</td>\n",
       "      <td>1</td>\n",
       "    </tr>\n",
       "  </tbody>\n",
       "</table>\n",
       "<p>1700 rows × 124 columns</p>\n",
       "</div>"
      ],
      "text/plain": [
       "        ID   AGE  SEX  INF_ANAM  STENOK_AN  FK_STENOK  IBS_POST  IBS_NASL   \n",
       "0        1  77.0    1       2.0        1.0        1.0       2.0       NaN  \\\n",
       "1        2  55.0    1       1.0        0.0        0.0       0.0       0.0   \n",
       "2        3  52.0    1       0.0        0.0        0.0       2.0       NaN   \n",
       "3        4  68.0    0       0.0        0.0        0.0       2.0       NaN   \n",
       "4        5  60.0    1       0.0        0.0        0.0       2.0       NaN   \n",
       "...    ...   ...  ...       ...        ...        ...       ...       ...   \n",
       "1695  1696  77.0    0       0.0        4.0        2.0       1.0       NaN   \n",
       "1696  1697  70.0    0       0.0        6.0        2.0       1.0       NaN   \n",
       "1697  1698  55.0    1       3.0        6.0        2.0       2.0       NaN   \n",
       "1698  1699  79.0    0       2.0        2.0        2.0       1.0       NaN   \n",
       "1699  1700  63.0    1       2.0        NaN        NaN       NaN       NaN   \n",
       "\n",
       "       GB  SIM_GIPERT  ...  JELUD_TAH  FIBR_JELUD  A_V_BLOK  OTEK_LANC   \n",
       "0     3.0         0.0  ...          0           0         0          0  \\\n",
       "1     0.0         0.0  ...          0           0         0          0   \n",
       "2     2.0         0.0  ...          0           0         0          0   \n",
       "3     2.0         0.0  ...          0           0         0          0   \n",
       "4     3.0         0.0  ...          0           0         0          0   \n",
       "...   ...         ...  ...        ...         ...       ...        ...   \n",
       "1695  2.0         0.0  ...          0           0         1          0   \n",
       "1696  2.0         0.0  ...          0           0         0          0   \n",
       "1697  0.0         0.0  ...          0           0         0          0   \n",
       "1698  2.0         0.0  ...          0           0         0          1   \n",
       "1699  2.0         0.0  ...          0           0         0          0   \n",
       "\n",
       "      RAZRIV  DRESSLER  ZSN  REC_IM  P_IM_STEN  LET_IS  \n",
       "0          0         0    0       0          0       0  \n",
       "1          0         0    0       0          0       0  \n",
       "2          0         0    0       0          0       0  \n",
       "3          0         0    1       0          0       0  \n",
       "4          0         0    0       0          0       0  \n",
       "...      ...       ...  ...     ...        ...     ...  \n",
       "1695       1         0    0       0          0       3  \n",
       "1696       0         0    0       0          0       1  \n",
       "1697       0         0    0       1          0       6  \n",
       "1698       0         0    0       0          0       1  \n",
       "1699       0         0    0       0          0       1  \n",
       "\n",
       "[1700 rows x 124 columns]"
      ]
     },
     "execution_count": 162,
     "metadata": {},
     "output_type": "execute_result"
    }
   ],
   "source": [
    "import pandas as pd\n",
    "df = pd.read_csv('../notebooks/Myocardial infarction complications Database (1).csv')\n",
    "df.head(1700)\n",
    "\n"
   ]
  },
  {
   "cell_type": "code",
   "execution_count": 163,
   "metadata": {},
   "outputs": [
    {
     "name": "stdout",
     "output_type": "stream",
     "text": [
      "<class 'pandas.core.frame.DataFrame'>\n",
      "RangeIndex: 1700 entries, 0 to 1699\n",
      "Columns: 124 entries, ID to LET_IS\n",
      "dtypes: float64(110), int64(14)\n",
      "memory usage: 1.6 MB\n"
     ]
    }
   ],
   "source": [
    "df.info()"
   ]
  },
  {
   "cell_type": "markdown",
   "metadata": {},
   "source": [
    "#Coluna com mais de 90% de valores vazios"
   ]
  },
  {
   "cell_type": "code",
   "execution_count": 164,
   "metadata": {},
   "outputs": [
    {
     "data": {
      "text/html": [
       "<div>\n",
       "<style scoped>\n",
       "    .dataframe tbody tr th:only-of-type {\n",
       "        vertical-align: middle;\n",
       "    }\n",
       "\n",
       "    .dataframe tbody tr th {\n",
       "        vertical-align: top;\n",
       "    }\n",
       "\n",
       "    .dataframe thead th {\n",
       "        text-align: right;\n",
       "    }\n",
       "</style>\n",
       "<table border=\"1\" class=\"dataframe\">\n",
       "  <thead>\n",
       "    <tr style=\"text-align: right;\">\n",
       "      <th></th>\n",
       "      <th>ID</th>\n",
       "      <th>AGE</th>\n",
       "      <th>SEX</th>\n",
       "      <th>INF_ANAM</th>\n",
       "      <th>STENOK_AN</th>\n",
       "      <th>FK_STENOK</th>\n",
       "      <th>IBS_POST</th>\n",
       "      <th>GB</th>\n",
       "      <th>SIM_GIPERT</th>\n",
       "      <th>DLIT_AG</th>\n",
       "      <th>...</th>\n",
       "      <th>JELUD_TAH</th>\n",
       "      <th>FIBR_JELUD</th>\n",
       "      <th>A_V_BLOK</th>\n",
       "      <th>OTEK_LANC</th>\n",
       "      <th>RAZRIV</th>\n",
       "      <th>DRESSLER</th>\n",
       "      <th>ZSN</th>\n",
       "      <th>REC_IM</th>\n",
       "      <th>P_IM_STEN</th>\n",
       "      <th>LET_IS</th>\n",
       "    </tr>\n",
       "  </thead>\n",
       "  <tbody>\n",
       "    <tr>\n",
       "      <th>0</th>\n",
       "      <td>1</td>\n",
       "      <td>77.0</td>\n",
       "      <td>1</td>\n",
       "      <td>2.0</td>\n",
       "      <td>1.0</td>\n",
       "      <td>1.0</td>\n",
       "      <td>2.0</td>\n",
       "      <td>3.0</td>\n",
       "      <td>0.0</td>\n",
       "      <td>7.0</td>\n",
       "      <td>...</td>\n",
       "      <td>0</td>\n",
       "      <td>0</td>\n",
       "      <td>0</td>\n",
       "      <td>0</td>\n",
       "      <td>0</td>\n",
       "      <td>0</td>\n",
       "      <td>0</td>\n",
       "      <td>0</td>\n",
       "      <td>0</td>\n",
       "      <td>0</td>\n",
       "    </tr>\n",
       "    <tr>\n",
       "      <th>1</th>\n",
       "      <td>2</td>\n",
       "      <td>55.0</td>\n",
       "      <td>1</td>\n",
       "      <td>1.0</td>\n",
       "      <td>0.0</td>\n",
       "      <td>0.0</td>\n",
       "      <td>0.0</td>\n",
       "      <td>0.0</td>\n",
       "      <td>0.0</td>\n",
       "      <td>0.0</td>\n",
       "      <td>...</td>\n",
       "      <td>0</td>\n",
       "      <td>0</td>\n",
       "      <td>0</td>\n",
       "      <td>0</td>\n",
       "      <td>0</td>\n",
       "      <td>0</td>\n",
       "      <td>0</td>\n",
       "      <td>0</td>\n",
       "      <td>0</td>\n",
       "      <td>0</td>\n",
       "    </tr>\n",
       "    <tr>\n",
       "      <th>2</th>\n",
       "      <td>3</td>\n",
       "      <td>52.0</td>\n",
       "      <td>1</td>\n",
       "      <td>0.0</td>\n",
       "      <td>0.0</td>\n",
       "      <td>0.0</td>\n",
       "      <td>2.0</td>\n",
       "      <td>2.0</td>\n",
       "      <td>0.0</td>\n",
       "      <td>2.0</td>\n",
       "      <td>...</td>\n",
       "      <td>0</td>\n",
       "      <td>0</td>\n",
       "      <td>0</td>\n",
       "      <td>0</td>\n",
       "      <td>0</td>\n",
       "      <td>0</td>\n",
       "      <td>0</td>\n",
       "      <td>0</td>\n",
       "      <td>0</td>\n",
       "      <td>0</td>\n",
       "    </tr>\n",
       "    <tr>\n",
       "      <th>3</th>\n",
       "      <td>4</td>\n",
       "      <td>68.0</td>\n",
       "      <td>0</td>\n",
       "      <td>0.0</td>\n",
       "      <td>0.0</td>\n",
       "      <td>0.0</td>\n",
       "      <td>2.0</td>\n",
       "      <td>2.0</td>\n",
       "      <td>0.0</td>\n",
       "      <td>3.0</td>\n",
       "      <td>...</td>\n",
       "      <td>0</td>\n",
       "      <td>0</td>\n",
       "      <td>0</td>\n",
       "      <td>0</td>\n",
       "      <td>0</td>\n",
       "      <td>0</td>\n",
       "      <td>1</td>\n",
       "      <td>0</td>\n",
       "      <td>0</td>\n",
       "      <td>0</td>\n",
       "    </tr>\n",
       "    <tr>\n",
       "      <th>4</th>\n",
       "      <td>5</td>\n",
       "      <td>60.0</td>\n",
       "      <td>1</td>\n",
       "      <td>0.0</td>\n",
       "      <td>0.0</td>\n",
       "      <td>0.0</td>\n",
       "      <td>2.0</td>\n",
       "      <td>3.0</td>\n",
       "      <td>0.0</td>\n",
       "      <td>7.0</td>\n",
       "      <td>...</td>\n",
       "      <td>0</td>\n",
       "      <td>0</td>\n",
       "      <td>0</td>\n",
       "      <td>0</td>\n",
       "      <td>0</td>\n",
       "      <td>0</td>\n",
       "      <td>0</td>\n",
       "      <td>0</td>\n",
       "      <td>0</td>\n",
       "      <td>0</td>\n",
       "    </tr>\n",
       "    <tr>\n",
       "      <th>...</th>\n",
       "      <td>...</td>\n",
       "      <td>...</td>\n",
       "      <td>...</td>\n",
       "      <td>...</td>\n",
       "      <td>...</td>\n",
       "      <td>...</td>\n",
       "      <td>...</td>\n",
       "      <td>...</td>\n",
       "      <td>...</td>\n",
       "      <td>...</td>\n",
       "      <td>...</td>\n",
       "      <td>...</td>\n",
       "      <td>...</td>\n",
       "      <td>...</td>\n",
       "      <td>...</td>\n",
       "      <td>...</td>\n",
       "      <td>...</td>\n",
       "      <td>...</td>\n",
       "      <td>...</td>\n",
       "      <td>...</td>\n",
       "      <td>...</td>\n",
       "    </tr>\n",
       "    <tr>\n",
       "      <th>1695</th>\n",
       "      <td>1696</td>\n",
       "      <td>77.0</td>\n",
       "      <td>0</td>\n",
       "      <td>0.0</td>\n",
       "      <td>4.0</td>\n",
       "      <td>2.0</td>\n",
       "      <td>1.0</td>\n",
       "      <td>2.0</td>\n",
       "      <td>0.0</td>\n",
       "      <td>7.0</td>\n",
       "      <td>...</td>\n",
       "      <td>0</td>\n",
       "      <td>0</td>\n",
       "      <td>1</td>\n",
       "      <td>0</td>\n",
       "      <td>1</td>\n",
       "      <td>0</td>\n",
       "      <td>0</td>\n",
       "      <td>0</td>\n",
       "      <td>0</td>\n",
       "      <td>3</td>\n",
       "    </tr>\n",
       "    <tr>\n",
       "      <th>1696</th>\n",
       "      <td>1697</td>\n",
       "      <td>70.0</td>\n",
       "      <td>0</td>\n",
       "      <td>0.0</td>\n",
       "      <td>6.0</td>\n",
       "      <td>2.0</td>\n",
       "      <td>1.0</td>\n",
       "      <td>2.0</td>\n",
       "      <td>0.0</td>\n",
       "      <td>7.0</td>\n",
       "      <td>...</td>\n",
       "      <td>0</td>\n",
       "      <td>0</td>\n",
       "      <td>0</td>\n",
       "      <td>0</td>\n",
       "      <td>0</td>\n",
       "      <td>0</td>\n",
       "      <td>0</td>\n",
       "      <td>0</td>\n",
       "      <td>0</td>\n",
       "      <td>1</td>\n",
       "    </tr>\n",
       "    <tr>\n",
       "      <th>1697</th>\n",
       "      <td>1698</td>\n",
       "      <td>55.0</td>\n",
       "      <td>1</td>\n",
       "      <td>3.0</td>\n",
       "      <td>6.0</td>\n",
       "      <td>2.0</td>\n",
       "      <td>2.0</td>\n",
       "      <td>0.0</td>\n",
       "      <td>0.0</td>\n",
       "      <td>0.0</td>\n",
       "      <td>...</td>\n",
       "      <td>0</td>\n",
       "      <td>0</td>\n",
       "      <td>0</td>\n",
       "      <td>0</td>\n",
       "      <td>0</td>\n",
       "      <td>0</td>\n",
       "      <td>0</td>\n",
       "      <td>1</td>\n",
       "      <td>0</td>\n",
       "      <td>6</td>\n",
       "    </tr>\n",
       "    <tr>\n",
       "      <th>1698</th>\n",
       "      <td>1699</td>\n",
       "      <td>79.0</td>\n",
       "      <td>0</td>\n",
       "      <td>2.0</td>\n",
       "      <td>2.0</td>\n",
       "      <td>2.0</td>\n",
       "      <td>1.0</td>\n",
       "      <td>2.0</td>\n",
       "      <td>0.0</td>\n",
       "      <td>7.0</td>\n",
       "      <td>...</td>\n",
       "      <td>0</td>\n",
       "      <td>0</td>\n",
       "      <td>0</td>\n",
       "      <td>1</td>\n",
       "      <td>0</td>\n",
       "      <td>0</td>\n",
       "      <td>0</td>\n",
       "      <td>0</td>\n",
       "      <td>0</td>\n",
       "      <td>1</td>\n",
       "    </tr>\n",
       "    <tr>\n",
       "      <th>1699</th>\n",
       "      <td>1700</td>\n",
       "      <td>63.0</td>\n",
       "      <td>1</td>\n",
       "      <td>2.0</td>\n",
       "      <td>NaN</td>\n",
       "      <td>NaN</td>\n",
       "      <td>NaN</td>\n",
       "      <td>2.0</td>\n",
       "      <td>0.0</td>\n",
       "      <td>NaN</td>\n",
       "      <td>...</td>\n",
       "      <td>0</td>\n",
       "      <td>0</td>\n",
       "      <td>0</td>\n",
       "      <td>0</td>\n",
       "      <td>0</td>\n",
       "      <td>0</td>\n",
       "      <td>0</td>\n",
       "      <td>0</td>\n",
       "      <td>0</td>\n",
       "      <td>1</td>\n",
       "    </tr>\n",
       "  </tbody>\n",
       "</table>\n",
       "<p>1700 rows × 123 columns</p>\n",
       "</div>"
      ],
      "text/plain": [
       "        ID   AGE  SEX  INF_ANAM  STENOK_AN  FK_STENOK  IBS_POST   GB   \n",
       "0        1  77.0    1       2.0        1.0        1.0       2.0  3.0  \\\n",
       "1        2  55.0    1       1.0        0.0        0.0       0.0  0.0   \n",
       "2        3  52.0    1       0.0        0.0        0.0       2.0  2.0   \n",
       "3        4  68.0    0       0.0        0.0        0.0       2.0  2.0   \n",
       "4        5  60.0    1       0.0        0.0        0.0       2.0  3.0   \n",
       "...    ...   ...  ...       ...        ...        ...       ...  ...   \n",
       "1695  1696  77.0    0       0.0        4.0        2.0       1.0  2.0   \n",
       "1696  1697  70.0    0       0.0        6.0        2.0       1.0  2.0   \n",
       "1697  1698  55.0    1       3.0        6.0        2.0       2.0  0.0   \n",
       "1698  1699  79.0    0       2.0        2.0        2.0       1.0  2.0   \n",
       "1699  1700  63.0    1       2.0        NaN        NaN       NaN  2.0   \n",
       "\n",
       "      SIM_GIPERT  DLIT_AG  ...  JELUD_TAH  FIBR_JELUD  A_V_BLOK  OTEK_LANC   \n",
       "0            0.0      7.0  ...          0           0         0          0  \\\n",
       "1            0.0      0.0  ...          0           0         0          0   \n",
       "2            0.0      2.0  ...          0           0         0          0   \n",
       "3            0.0      3.0  ...          0           0         0          0   \n",
       "4            0.0      7.0  ...          0           0         0          0   \n",
       "...          ...      ...  ...        ...         ...       ...        ...   \n",
       "1695         0.0      7.0  ...          0           0         1          0   \n",
       "1696         0.0      7.0  ...          0           0         0          0   \n",
       "1697         0.0      0.0  ...          0           0         0          0   \n",
       "1698         0.0      7.0  ...          0           0         0          1   \n",
       "1699         0.0      NaN  ...          0           0         0          0   \n",
       "\n",
       "      RAZRIV  DRESSLER  ZSN  REC_IM  P_IM_STEN  LET_IS  \n",
       "0          0         0    0       0          0       0  \n",
       "1          0         0    0       0          0       0  \n",
       "2          0         0    0       0          0       0  \n",
       "3          0         0    1       0          0       0  \n",
       "4          0         0    0       0          0       0  \n",
       "...      ...       ...  ...     ...        ...     ...  \n",
       "1695       1         0    0       0          0       3  \n",
       "1696       0         0    0       0          0       1  \n",
       "1697       0         0    0       1          0       6  \n",
       "1698       0         0    0       0          0       1  \n",
       "1699       0         0    0       0          0       1  \n",
       "\n",
       "[1700 rows x 123 columns]"
      ]
     },
     "execution_count": 164,
     "metadata": {},
     "output_type": "execute_result"
    }
   ],
   "source": [
    "IBS = \"IBS_NASL\"\n",
    "df = df.drop(IBS, axis=1)\n",
    "df.head(1700)\n"
   ]
  },
  {
   "cell_type": "code",
   "execution_count": 165,
   "metadata": {},
   "outputs": [
    {
     "data": {
      "text/html": [
       "<div>\n",
       "<style scoped>\n",
       "    .dataframe tbody tr th:only-of-type {\n",
       "        vertical-align: middle;\n",
       "    }\n",
       "\n",
       "    .dataframe tbody tr th {\n",
       "        vertical-align: top;\n",
       "    }\n",
       "\n",
       "    .dataframe thead th {\n",
       "        text-align: right;\n",
       "    }\n",
       "</style>\n",
       "<table border=\"1\" class=\"dataframe\">\n",
       "  <thead>\n",
       "    <tr style=\"text-align: right;\">\n",
       "      <th></th>\n",
       "      <th>fibr_ter_08</th>\n",
       "      <th>GIPO_K</th>\n",
       "      <th>K_BLOOD</th>\n",
       "      <th>GIPER_NA</th>\n",
       "      <th>NA_BLOOD</th>\n",
       "      <th>ALT_BLOOD</th>\n",
       "      <th>AST_BLOOD</th>\n",
       "      <th>L_BLOOD</th>\n",
       "      <th>ROE</th>\n",
       "      <th>TIME_B_S</th>\n",
       "    </tr>\n",
       "  </thead>\n",
       "  <tbody>\n",
       "    <tr>\n",
       "      <th>0</th>\n",
       "      <td>0.0</td>\n",
       "      <td>0.0</td>\n",
       "      <td>4.7</td>\n",
       "      <td>0.0</td>\n",
       "      <td>138.0</td>\n",
       "      <td>NaN</td>\n",
       "      <td>NaN</td>\n",
       "      <td>8.0</td>\n",
       "      <td>16.0</td>\n",
       "      <td>4.0</td>\n",
       "    </tr>\n",
       "    <tr>\n",
       "      <th>1</th>\n",
       "      <td>0.0</td>\n",
       "      <td>1.0</td>\n",
       "      <td>3.5</td>\n",
       "      <td>0.0</td>\n",
       "      <td>132.0</td>\n",
       "      <td>0.38</td>\n",
       "      <td>0.18</td>\n",
       "      <td>7.8</td>\n",
       "      <td>3.0</td>\n",
       "      <td>2.0</td>\n",
       "    </tr>\n",
       "    <tr>\n",
       "      <th>2</th>\n",
       "      <td>0.0</td>\n",
       "      <td>0.0</td>\n",
       "      <td>4.0</td>\n",
       "      <td>0.0</td>\n",
       "      <td>132.0</td>\n",
       "      <td>0.30</td>\n",
       "      <td>0.11</td>\n",
       "      <td>10.8</td>\n",
       "      <td>NaN</td>\n",
       "      <td>3.0</td>\n",
       "    </tr>\n",
       "    <tr>\n",
       "      <th>3</th>\n",
       "      <td>0.0</td>\n",
       "      <td>1.0</td>\n",
       "      <td>3.9</td>\n",
       "      <td>0.0</td>\n",
       "      <td>146.0</td>\n",
       "      <td>0.75</td>\n",
       "      <td>0.37</td>\n",
       "      <td>NaN</td>\n",
       "      <td>NaN</td>\n",
       "      <td>2.0</td>\n",
       "    </tr>\n",
       "    <tr>\n",
       "      <th>4</th>\n",
       "      <td>0.0</td>\n",
       "      <td>1.0</td>\n",
       "      <td>3.5</td>\n",
       "      <td>0.0</td>\n",
       "      <td>132.0</td>\n",
       "      <td>0.45</td>\n",
       "      <td>0.22</td>\n",
       "      <td>8.3</td>\n",
       "      <td>NaN</td>\n",
       "      <td>9.0</td>\n",
       "    </tr>\n",
       "  </tbody>\n",
       "</table>\n",
       "</div>"
      ],
      "text/plain": [
       "   fibr_ter_08  GIPO_K  K_BLOOD  GIPER_NA  NA_BLOOD  ALT_BLOOD  AST_BLOOD   \n",
       "0          0.0     0.0      4.7       0.0     138.0        NaN        NaN  \\\n",
       "1          0.0     1.0      3.5       0.0     132.0       0.38       0.18   \n",
       "2          0.0     0.0      4.0       0.0     132.0       0.30       0.11   \n",
       "3          0.0     1.0      3.9       0.0     146.0       0.75       0.37   \n",
       "4          0.0     1.0      3.5       0.0     132.0       0.45       0.22   \n",
       "\n",
       "   L_BLOOD   ROE  TIME_B_S  \n",
       "0      8.0  16.0       4.0  \n",
       "1      7.8   3.0       2.0  \n",
       "2     10.8   NaN       3.0  \n",
       "3      NaN   NaN       2.0  \n",
       "4      8.3   NaN       9.0  "
      ]
     },
     "execution_count": 165,
     "metadata": {},
     "output_type": "execute_result"
    }
   ],
   "source": [
    "KFK = \"KFK_BLOOD\"\n",
    "df = df.drop(KFK, axis=1)\n",
    "df.iloc[:, 80:90].head(5)"
   ]
  },
  {
   "cell_type": "code",
   "execution_count": 166,
   "metadata": {},
   "outputs": [
    {
     "data": {
      "text/html": [
       "<div>\n",
       "<style scoped>\n",
       "    .dataframe tbody tr th:only-of-type {\n",
       "        vertical-align: middle;\n",
       "    }\n",
       "\n",
       "    .dataframe tbody tr th {\n",
       "        vertical-align: top;\n",
       "    }\n",
       "\n",
       "    .dataframe thead th {\n",
       "        text-align: right;\n",
       "    }\n",
       "</style>\n",
       "<table border=\"1\" class=\"dataframe\">\n",
       "  <thead>\n",
       "    <tr style=\"text-align: right;\">\n",
       "      <th></th>\n",
       "      <th>ID</th>\n",
       "      <th>AGE</th>\n",
       "      <th>SEX</th>\n",
       "      <th>INF_ANAM</th>\n",
       "      <th>STENOK_AN</th>\n",
       "      <th>FK_STENOK</th>\n",
       "      <th>IBS_POST</th>\n",
       "      <th>GB</th>\n",
       "      <th>SIM_GIPERT</th>\n",
       "      <th>DLIT_AG</th>\n",
       "      <th>...</th>\n",
       "      <th>JELUD_TAH</th>\n",
       "      <th>FIBR_JELUD</th>\n",
       "      <th>A_V_BLOK</th>\n",
       "      <th>OTEK_LANC</th>\n",
       "      <th>RAZRIV</th>\n",
       "      <th>DRESSLER</th>\n",
       "      <th>ZSN</th>\n",
       "      <th>REC_IM</th>\n",
       "      <th>P_IM_STEN</th>\n",
       "      <th>LET_IS</th>\n",
       "    </tr>\n",
       "  </thead>\n",
       "  <tbody>\n",
       "    <tr>\n",
       "      <th>0</th>\n",
       "      <td>1</td>\n",
       "      <td>77.0</td>\n",
       "      <td>1</td>\n",
       "      <td>2.0</td>\n",
       "      <td>1.0</td>\n",
       "      <td>1.0</td>\n",
       "      <td>2.0</td>\n",
       "      <td>3.0</td>\n",
       "      <td>0.0</td>\n",
       "      <td>7.0</td>\n",
       "      <td>...</td>\n",
       "      <td>0</td>\n",
       "      <td>0</td>\n",
       "      <td>0</td>\n",
       "      <td>0</td>\n",
       "      <td>0</td>\n",
       "      <td>0</td>\n",
       "      <td>0</td>\n",
       "      <td>0</td>\n",
       "      <td>0</td>\n",
       "      <td>0</td>\n",
       "    </tr>\n",
       "    <tr>\n",
       "      <th>1</th>\n",
       "      <td>2</td>\n",
       "      <td>55.0</td>\n",
       "      <td>1</td>\n",
       "      <td>1.0</td>\n",
       "      <td>0.0</td>\n",
       "      <td>0.0</td>\n",
       "      <td>0.0</td>\n",
       "      <td>0.0</td>\n",
       "      <td>0.0</td>\n",
       "      <td>0.0</td>\n",
       "      <td>...</td>\n",
       "      <td>0</td>\n",
       "      <td>0</td>\n",
       "      <td>0</td>\n",
       "      <td>0</td>\n",
       "      <td>0</td>\n",
       "      <td>0</td>\n",
       "      <td>0</td>\n",
       "      <td>0</td>\n",
       "      <td>0</td>\n",
       "      <td>0</td>\n",
       "    </tr>\n",
       "    <tr>\n",
       "      <th>2</th>\n",
       "      <td>3</td>\n",
       "      <td>52.0</td>\n",
       "      <td>1</td>\n",
       "      <td>0.0</td>\n",
       "      <td>0.0</td>\n",
       "      <td>0.0</td>\n",
       "      <td>2.0</td>\n",
       "      <td>2.0</td>\n",
       "      <td>0.0</td>\n",
       "      <td>2.0</td>\n",
       "      <td>...</td>\n",
       "      <td>0</td>\n",
       "      <td>0</td>\n",
       "      <td>0</td>\n",
       "      <td>0</td>\n",
       "      <td>0</td>\n",
       "      <td>0</td>\n",
       "      <td>0</td>\n",
       "      <td>0</td>\n",
       "      <td>0</td>\n",
       "      <td>0</td>\n",
       "    </tr>\n",
       "    <tr>\n",
       "      <th>3</th>\n",
       "      <td>4</td>\n",
       "      <td>68.0</td>\n",
       "      <td>0</td>\n",
       "      <td>0.0</td>\n",
       "      <td>0.0</td>\n",
       "      <td>0.0</td>\n",
       "      <td>2.0</td>\n",
       "      <td>2.0</td>\n",
       "      <td>0.0</td>\n",
       "      <td>3.0</td>\n",
       "      <td>...</td>\n",
       "      <td>0</td>\n",
       "      <td>0</td>\n",
       "      <td>0</td>\n",
       "      <td>0</td>\n",
       "      <td>0</td>\n",
       "      <td>0</td>\n",
       "      <td>1</td>\n",
       "      <td>0</td>\n",
       "      <td>0</td>\n",
       "      <td>0</td>\n",
       "    </tr>\n",
       "    <tr>\n",
       "      <th>4</th>\n",
       "      <td>5</td>\n",
       "      <td>60.0</td>\n",
       "      <td>1</td>\n",
       "      <td>0.0</td>\n",
       "      <td>0.0</td>\n",
       "      <td>0.0</td>\n",
       "      <td>2.0</td>\n",
       "      <td>3.0</td>\n",
       "      <td>0.0</td>\n",
       "      <td>7.0</td>\n",
       "      <td>...</td>\n",
       "      <td>0</td>\n",
       "      <td>0</td>\n",
       "      <td>0</td>\n",
       "      <td>0</td>\n",
       "      <td>0</td>\n",
       "      <td>0</td>\n",
       "      <td>0</td>\n",
       "      <td>0</td>\n",
       "      <td>0</td>\n",
       "      <td>0</td>\n",
       "    </tr>\n",
       "  </tbody>\n",
       "</table>\n",
       "<p>5 rows × 122 columns</p>\n",
       "</div>"
      ],
      "text/plain": [
       "   ID   AGE  SEX  INF_ANAM  STENOK_AN  FK_STENOK  IBS_POST   GB  SIM_GIPERT   \n",
       "0   1  77.0    1       2.0        1.0        1.0       2.0  3.0         0.0  \\\n",
       "1   2  55.0    1       1.0        0.0        0.0       0.0  0.0         0.0   \n",
       "2   3  52.0    1       0.0        0.0        0.0       2.0  2.0         0.0   \n",
       "3   4  68.0    0       0.0        0.0        0.0       2.0  2.0         0.0   \n",
       "4   5  60.0    1       0.0        0.0        0.0       2.0  3.0         0.0   \n",
       "\n",
       "   DLIT_AG  ...  JELUD_TAH  FIBR_JELUD  A_V_BLOK  OTEK_LANC  RAZRIV  DRESSLER   \n",
       "0      7.0  ...          0           0         0          0       0         0  \\\n",
       "1      0.0  ...          0           0         0          0       0         0   \n",
       "2      2.0  ...          0           0         0          0       0         0   \n",
       "3      3.0  ...          0           0         0          0       0         0   \n",
       "4      7.0  ...          0           0         0          0       0         0   \n",
       "\n",
       "   ZSN  REC_IM  P_IM_STEN  LET_IS  \n",
       "0    0       0          0       0  \n",
       "1    0       0          0       0  \n",
       "2    0       0          0       0  \n",
       "3    1       0          0       0  \n",
       "4    0       0          0       0  \n",
       "\n",
       "[5 rows x 122 columns]"
      ]
     },
     "execution_count": 166,
     "metadata": {},
     "output_type": "execute_result"
    }
   ],
   "source": [
    "df.head()"
   ]
  },
  {
   "cell_type": "code",
   "execution_count": 167,
   "metadata": {},
   "outputs": [],
   "source": [
    "df = df.drop(df.iloc[:, 110: 118], axis=1)"
   ]
  },
  {
   "cell_type": "code",
   "execution_count": 168,
   "metadata": {},
   "outputs": [],
   "source": [
    "df = df.drop(df.iloc[:, 111: 114], axis=1)"
   ]
  },
  {
   "cell_type": "code",
   "execution_count": 169,
   "metadata": {},
   "outputs": [
    {
     "data": {
      "text/html": [
       "<div>\n",
       "<style scoped>\n",
       "    .dataframe tbody tr th:only-of-type {\n",
       "        vertical-align: middle;\n",
       "    }\n",
       "\n",
       "    .dataframe tbody tr th {\n",
       "        vertical-align: top;\n",
       "    }\n",
       "\n",
       "    .dataframe thead th {\n",
       "        text-align: right;\n",
       "    }\n",
       "</style>\n",
       "<table border=\"1\" class=\"dataframe\">\n",
       "  <thead>\n",
       "    <tr style=\"text-align: right;\">\n",
       "      <th></th>\n",
       "      <th>AGE</th>\n",
       "      <th>SEX</th>\n",
       "      <th>INF_ANAM</th>\n",
       "      <th>STENOK_AN</th>\n",
       "      <th>FK_STENOK</th>\n",
       "      <th>IBS_POST</th>\n",
       "      <th>GB</th>\n",
       "      <th>SIM_GIPERT</th>\n",
       "      <th>DLIT_AG</th>\n",
       "      <th>ZSN_A</th>\n",
       "      <th>...</th>\n",
       "      <th>NOT_NA_2_n</th>\n",
       "      <th>NOT_NA_3_n</th>\n",
       "      <th>LID_S_n</th>\n",
       "      <th>B_BLOK_S_n</th>\n",
       "      <th>ANT_CA_S_n</th>\n",
       "      <th>GEPAR_S_n</th>\n",
       "      <th>ASP_S_n</th>\n",
       "      <th>TIKL_S_n</th>\n",
       "      <th>TRENT_S_n</th>\n",
       "      <th>ZSN</th>\n",
       "    </tr>\n",
       "  </thead>\n",
       "  <tbody>\n",
       "    <tr>\n",
       "      <th>0</th>\n",
       "      <td>77.0</td>\n",
       "      <td>1</td>\n",
       "      <td>2.0</td>\n",
       "      <td>1.0</td>\n",
       "      <td>1.0</td>\n",
       "      <td>2.0</td>\n",
       "      <td>3.0</td>\n",
       "      <td>0.0</td>\n",
       "      <td>7.0</td>\n",
       "      <td>0.0</td>\n",
       "      <td>...</td>\n",
       "      <td>0.0</td>\n",
       "      <td>0.0</td>\n",
       "      <td>1.0</td>\n",
       "      <td>0.0</td>\n",
       "      <td>0.0</td>\n",
       "      <td>1.0</td>\n",
       "      <td>1.0</td>\n",
       "      <td>0.0</td>\n",
       "      <td>0.0</td>\n",
       "      <td>0</td>\n",
       "    </tr>\n",
       "    <tr>\n",
       "      <th>1</th>\n",
       "      <td>55.0</td>\n",
       "      <td>1</td>\n",
       "      <td>1.0</td>\n",
       "      <td>0.0</td>\n",
       "      <td>0.0</td>\n",
       "      <td>0.0</td>\n",
       "      <td>0.0</td>\n",
       "      <td>0.0</td>\n",
       "      <td>0.0</td>\n",
       "      <td>0.0</td>\n",
       "      <td>...</td>\n",
       "      <td>0.0</td>\n",
       "      <td>0.0</td>\n",
       "      <td>1.0</td>\n",
       "      <td>0.0</td>\n",
       "      <td>1.0</td>\n",
       "      <td>1.0</td>\n",
       "      <td>1.0</td>\n",
       "      <td>0.0</td>\n",
       "      <td>1.0</td>\n",
       "      <td>0</td>\n",
       "    </tr>\n",
       "    <tr>\n",
       "      <th>2</th>\n",
       "      <td>52.0</td>\n",
       "      <td>1</td>\n",
       "      <td>0.0</td>\n",
       "      <td>0.0</td>\n",
       "      <td>0.0</td>\n",
       "      <td>2.0</td>\n",
       "      <td>2.0</td>\n",
       "      <td>0.0</td>\n",
       "      <td>2.0</td>\n",
       "      <td>0.0</td>\n",
       "      <td>...</td>\n",
       "      <td>2.0</td>\n",
       "      <td>2.0</td>\n",
       "      <td>1.0</td>\n",
       "      <td>1.0</td>\n",
       "      <td>0.0</td>\n",
       "      <td>1.0</td>\n",
       "      <td>1.0</td>\n",
       "      <td>0.0</td>\n",
       "      <td>0.0</td>\n",
       "      <td>0</td>\n",
       "    </tr>\n",
       "    <tr>\n",
       "      <th>3</th>\n",
       "      <td>68.0</td>\n",
       "      <td>0</td>\n",
       "      <td>0.0</td>\n",
       "      <td>0.0</td>\n",
       "      <td>0.0</td>\n",
       "      <td>2.0</td>\n",
       "      <td>2.0</td>\n",
       "      <td>0.0</td>\n",
       "      <td>3.0</td>\n",
       "      <td>1.0</td>\n",
       "      <td>...</td>\n",
       "      <td>0.0</td>\n",
       "      <td>0.0</td>\n",
       "      <td>0.0</td>\n",
       "      <td>0.0</td>\n",
       "      <td>1.0</td>\n",
       "      <td>1.0</td>\n",
       "      <td>1.0</td>\n",
       "      <td>0.0</td>\n",
       "      <td>0.0</td>\n",
       "      <td>1</td>\n",
       "    </tr>\n",
       "    <tr>\n",
       "      <th>4</th>\n",
       "      <td>60.0</td>\n",
       "      <td>1</td>\n",
       "      <td>0.0</td>\n",
       "      <td>0.0</td>\n",
       "      <td>0.0</td>\n",
       "      <td>2.0</td>\n",
       "      <td>3.0</td>\n",
       "      <td>0.0</td>\n",
       "      <td>7.0</td>\n",
       "      <td>0.0</td>\n",
       "      <td>...</td>\n",
       "      <td>0.0</td>\n",
       "      <td>0.0</td>\n",
       "      <td>0.0</td>\n",
       "      <td>0.0</td>\n",
       "      <td>1.0</td>\n",
       "      <td>0.0</td>\n",
       "      <td>1.0</td>\n",
       "      <td>0.0</td>\n",
       "      <td>1.0</td>\n",
       "      <td>0</td>\n",
       "    </tr>\n",
       "  </tbody>\n",
       "</table>\n",
       "<p>5 rows × 110 columns</p>\n",
       "</div>"
      ],
      "text/plain": [
       "    AGE  SEX  INF_ANAM  STENOK_AN  FK_STENOK  IBS_POST   GB  SIM_GIPERT   \n",
       "0  77.0    1       2.0        1.0        1.0       2.0  3.0         0.0  \\\n",
       "1  55.0    1       1.0        0.0        0.0       0.0  0.0         0.0   \n",
       "2  52.0    1       0.0        0.0        0.0       2.0  2.0         0.0   \n",
       "3  68.0    0       0.0        0.0        0.0       2.0  2.0         0.0   \n",
       "4  60.0    1       0.0        0.0        0.0       2.0  3.0         0.0   \n",
       "\n",
       "   DLIT_AG  ZSN_A  ...  NOT_NA_2_n  NOT_NA_3_n  LID_S_n  B_BLOK_S_n   \n",
       "0      7.0    0.0  ...         0.0         0.0      1.0         0.0  \\\n",
       "1      0.0    0.0  ...         0.0         0.0      1.0         0.0   \n",
       "2      2.0    0.0  ...         2.0         2.0      1.0         1.0   \n",
       "3      3.0    1.0  ...         0.0         0.0      0.0         0.0   \n",
       "4      7.0    0.0  ...         0.0         0.0      0.0         0.0   \n",
       "\n",
       "   ANT_CA_S_n  GEPAR_S_n  ASP_S_n  TIKL_S_n  TRENT_S_n  ZSN  \n",
       "0         0.0        1.0      1.0       0.0        0.0    0  \n",
       "1         1.0        1.0      1.0       0.0        1.0    0  \n",
       "2         0.0        1.0      1.0       0.0        0.0    0  \n",
       "3         1.0        1.0      1.0       0.0        0.0    1  \n",
       "4         1.0        0.0      1.0       0.0        1.0    0  \n",
       "\n",
       "[5 rows x 110 columns]"
      ]
     },
     "execution_count": 169,
     "metadata": {},
     "output_type": "execute_result"
    }
   ],
   "source": [
    "df = df.drop('ID', axis=1)\n",
    "df.head(5)"
   ]
  },
  {
   "cell_type": "markdown",
   "metadata": {},
   "source": [
    "Tirando a mediana da idade, e atribuindo aos valores faltantes."
   ]
  },
  {
   "cell_type": "code",
   "execution_count": 170,
   "metadata": {},
   "outputs": [
    {
     "name": "stdout",
     "output_type": "stream",
     "text": [
      "63.0\n",
      "Não existem valores nulos na coluna.\n"
     ]
    }
   ],
   "source": [
    "mediana = df[\"AGE\"].median()\n",
    "print(mediana)\n",
    "df[\"AGE\"].fillna(mediana, inplace=True)\n",
    "existem_nulos = df[\"AGE\"].isna().any().any()\n",
    "\n",
    "if existem_nulos:\n",
    "    print(\"Existem valores nulos na coluna.\")\n",
    "else:\n",
    "    print(\"Não existem valores nulos na coluna.\")"
   ]
  },
  {
   "cell_type": "code",
   "execution_count": 171,
   "metadata": {},
   "outputs": [
    {
     "name": "stdout",
     "output_type": "stream",
     "text": [
      "Existem valores nulos na coluna.\n"
     ]
    }
   ],
   "source": [
    "existem_nulos = df[\"INF_ANAM\"].isna().any().any()\n",
    "\n",
    "if existem_nulos:\n",
    "    print(\"Existem valores nulos na coluna.\")\n",
    "else:\n",
    "    print(\"Não existem valores nulos na coluna.\")"
   ]
  },
  {
   "cell_type": "code",
   "execution_count": 172,
   "metadata": {},
   "outputs": [
    {
     "name": "stdout",
     "output_type": "stream",
     "text": [
      "moda = 0.0\n",
      "Não existem valores nulos na coluna.\n"
     ]
    }
   ],
   "source": [
    "moda = df[\"INF_ANAM\"].mode().values[0]\n",
    "print(\"moda =\",moda)\n",
    "df[\"INF_ANAM\"].fillna(moda, inplace=True)\n",
    "existem_nulos = df[\"INF_ANAM\"].isna().any().any()\n",
    "\n",
    "if existem_nulos:\n",
    "    print(\"Existem valores nulos na coluna.\")\n",
    "else:\n",
    "    print(\"Não existem valores nulos na coluna.\")"
   ]
  },
  {
   "cell_type": "code",
   "execution_count": 173,
   "metadata": {},
   "outputs": [
    {
     "name": "stdout",
     "output_type": "stream",
     "text": [
      "Existem valores nulos na coluna.\n"
     ]
    }
   ],
   "source": [
    "existem_nulos = df[\"STENOK_AN\"].isna().any().any()\n",
    "\n",
    "if existem_nulos:\n",
    "    print(\"Existem valores nulos na coluna.\")\n",
    "else:\n",
    "    print(\"Não existem valores nulos na coluna.\")"
   ]
  },
  {
   "cell_type": "code",
   "execution_count": 174,
   "metadata": {},
   "outputs": [
    {
     "name": "stdout",
     "output_type": "stream",
     "text": [
      "moda = 0.0\n",
      "Não existem valores nulos na coluna.\n"
     ]
    }
   ],
   "source": [
    "moda = df[\"STENOK_AN\"].mode().values[0]\n",
    "print(\"moda =\",moda)\n",
    "df[\"STENOK_AN\"].fillna(moda, inplace=True)\n",
    "existem_nulos = df[\"STENOK_AN\"].isna().any().any()\n",
    "\n",
    "if existem_nulos:\n",
    "    print(\"Existem valores nulos na coluna.\")\n",
    "else:\n",
    "    print(\"Não existem valores nulos na coluna.\")"
   ]
  },
  {
   "cell_type": "code",
   "execution_count": 175,
   "metadata": {},
   "outputs": [
    {
     "name": "stdout",
     "output_type": "stream",
     "text": [
      "Existem valores nulos na coluna.\n"
     ]
    }
   ],
   "source": [
    "existem_nulos = df[\"FK_STENOK\"].isna().any().any()\n",
    "\n",
    "if existem_nulos:\n",
    "    print(\"Existem valores nulos na coluna.\")\n",
    "else:\n",
    "    print(\"Não existem valores nulos na coluna.\")"
   ]
  },
  {
   "cell_type": "code",
   "execution_count": 176,
   "metadata": {},
   "outputs": [
    {
     "name": "stdout",
     "output_type": "stream",
     "text": [
      "moda = 2.0\n",
      "Não existem valores nulos na coluna.\n"
     ]
    }
   ],
   "source": [
    "moda = df[\"FK_STENOK\"].mode().values[0]\n",
    "print(\"moda =\",moda)\n",
    "df[\"FK_STENOK\"].fillna(moda, inplace=True)\n",
    "existem_nulos = df[\"FK_STENOK\"].isna().any().any()\n",
    "\n",
    "if existem_nulos:\n",
    "    print(\"Existem valores nulos na coluna.\")\n",
    "else:\n",
    "    print(\"Não existem valores nulos na coluna.\")"
   ]
  },
  {
   "cell_type": "code",
   "execution_count": 177,
   "metadata": {},
   "outputs": [
    {
     "name": "stdout",
     "output_type": "stream",
     "text": [
      "Existem valores nulos na coluna.\n"
     ]
    }
   ],
   "source": [
    "existem_nulos = df[\"IBS_POST\"].isna().any().any()\n",
    "\n",
    "if existem_nulos:\n",
    "    print(\"Existem valores nulos na coluna.\")\n",
    "else:\n",
    "    print(\"Não existem valores nulos na coluna.\")"
   ]
  },
  {
   "cell_type": "code",
   "execution_count": 178,
   "metadata": {},
   "outputs": [
    {
     "name": "stdout",
     "output_type": "stream",
     "text": [
      "moda = 2.0\n",
      "Não existem valores nulos na coluna.\n"
     ]
    }
   ],
   "source": [
    "moda = df[\"IBS_POST\"].mode().values[0]\n",
    "print(\"moda =\",moda)\n",
    "df[\"IBS_POST\"].fillna(moda, inplace=True)\n",
    "existem_nulos = df[\"IBS_POST\"].isna().any().any()\n",
    "\n",
    "if existem_nulos:\n",
    "    print(\"Existem valores nulos na coluna.\")\n",
    "else:\n",
    "    print(\"Não existem valores nulos na coluna.\")"
   ]
  },
  {
   "cell_type": "code",
   "execution_count": 179,
   "metadata": {},
   "outputs": [
    {
     "name": "stdout",
     "output_type": "stream",
     "text": [
      "Existem valores nulos na coluna.\n"
     ]
    }
   ],
   "source": [
    "existem_nulos = df[\"GB\"].isna().any().any()\n",
    "\n",
    "if existem_nulos:\n",
    "    print(\"Existem valores nulos na coluna.\")\n",
    "else:\n",
    "    print(\"Não existem valores nulos na coluna.\")"
   ]
  },
  {
   "cell_type": "code",
   "execution_count": 180,
   "metadata": {},
   "outputs": [
    {
     "name": "stdout",
     "output_type": "stream",
     "text": [
      "moda = 2.0\n",
      "Não existem valores nulos na coluna.\n"
     ]
    }
   ],
   "source": [
    "moda = df[\"GB\"].mode().values[0]\n",
    "print(\"moda =\",moda)\n",
    "df[\"GB\"].fillna(moda, inplace=True)\n",
    "existem_nulos = df[\"GB\"].isna().any().any()\n",
    "\n",
    "if existem_nulos:\n",
    "    print(\"Existem valores nulos na coluna.\")\n",
    "else:\n",
    "    print(\"Não existem valores nulos na coluna.\")"
   ]
  },
  {
   "cell_type": "code",
   "execution_count": 181,
   "metadata": {},
   "outputs": [
    {
     "name": "stdout",
     "output_type": "stream",
     "text": [
      "Existem valores nulos na coluna.\n"
     ]
    }
   ],
   "source": [
    "existem_nulos = df[\"SIM_GIPERT\"].isna().any().any()\n",
    "\n",
    "if existem_nulos:\n",
    "    print(\"Existem valores nulos na coluna.\")\n",
    "else:\n",
    "    print(\"Não existem valores nulos na coluna.\")"
   ]
  },
  {
   "cell_type": "code",
   "execution_count": 182,
   "metadata": {},
   "outputs": [
    {
     "name": "stdout",
     "output_type": "stream",
     "text": [
      "moda = 0.0\n",
      "Não existem valores nulos na coluna.\n"
     ]
    }
   ],
   "source": [
    "moda = df[\"SIM_GIPERT\"].mode().values[0]\n",
    "print(\"moda =\",moda)\n",
    "df[\"SIM_GIPERT\"].fillna(moda, inplace=True)\n",
    "existem_nulos = df[\"SIM_GIPERT\"].isna().any().any()\n",
    "\n",
    "if existem_nulos:\n",
    "    print(\"Existem valores nulos na coluna.\")\n",
    "else:\n",
    "    print(\"Não existem valores nulos na coluna.\")"
   ]
  },
  {
   "cell_type": "code",
   "execution_count": 183,
   "metadata": {},
   "outputs": [
    {
     "name": "stdout",
     "output_type": "stream",
     "text": [
      "Existem valores nulos na coluna.\n"
     ]
    }
   ],
   "source": [
    "existem_nulos = df[\"DLIT_AG\"].isna().any().any()\n",
    "\n",
    "if existem_nulos:\n",
    "    print(\"Existem valores nulos na coluna.\")\n",
    "else:\n",
    "    print(\"Não existem valores nulos na coluna.\")"
   ]
  },
  {
   "cell_type": "code",
   "execution_count": 184,
   "metadata": {},
   "outputs": [
    {
     "name": "stdout",
     "output_type": "stream",
     "text": [
      "moda = 0.0\n",
      "Não existem valores nulos na coluna.\n"
     ]
    }
   ],
   "source": [
    "moda = df[\"DLIT_AG\"].mode().values[0]\n",
    "print(\"moda =\",moda)\n",
    "df[\"DLIT_AG\"].fillna(moda, inplace=True)\n",
    "existem_nulos = df[\"DLIT_AG\"].isna().any().any()\n",
    "\n",
    "if existem_nulos:\n",
    "    print(\"Existem valores nulos na coluna.\")\n",
    "else:\n",
    "    print(\"Não existem valores nulos na coluna.\")"
   ]
  },
  {
   "cell_type": "code",
   "execution_count": 185,
   "metadata": {},
   "outputs": [
    {
     "name": "stdout",
     "output_type": "stream",
     "text": [
      "Existem valores nulos na coluna.\n"
     ]
    }
   ],
   "source": [
    "existem_nulos = df[\"ZSN_A\"].isna().any().any()\n",
    "\n",
    "if existem_nulos:\n",
    "    print(\"Existem valores nulos na coluna.\")\n",
    "else:\n",
    "    print(\"Não existem valores nulos na coluna.\")"
   ]
  },
  {
   "cell_type": "code",
   "execution_count": 186,
   "metadata": {},
   "outputs": [
    {
     "name": "stdout",
     "output_type": "stream",
     "text": [
      "moda = 0.0\n",
      "Não existem valores nulos na coluna.\n"
     ]
    }
   ],
   "source": [
    "moda = df[\"ZSN_A\"].mode().values[0]\n",
    "print(\"moda =\",moda)\n",
    "df[\"ZSN_A\"].fillna(moda, inplace=True)\n",
    "existem_nulos = df[\"ZSN_A\"].isna().any().any()\n",
    "\n",
    "if existem_nulos:\n",
    "    print(\"Existem valores nulos na coluna.\")\n",
    "else:\n",
    "    print(\"Não existem valores nulos na coluna.\")"
   ]
  },
  {
   "cell_type": "code",
   "execution_count": 187,
   "metadata": {},
   "outputs": [
    {
     "name": "stdout",
     "output_type": "stream",
     "text": [
      "Existem valores nulos na coluna.\n"
     ]
    }
   ],
   "source": [
    "existem_nulos = df[\"nr_11\"].isna().any().any()\n",
    "\n",
    "if existem_nulos:\n",
    "    print(\"Existem valores nulos na coluna.\")\n",
    "else:\n",
    "    print(\"Não existem valores nulos na coluna.\")"
   ]
  },
  {
   "cell_type": "code",
   "execution_count": 188,
   "metadata": {},
   "outputs": [
    {
     "name": "stdout",
     "output_type": "stream",
     "text": [
      "moda = 0.0\n",
      "Não existem valores nulos na coluna.\n"
     ]
    }
   ],
   "source": [
    "moda = df[\"nr_11\"].mode().values[0]\n",
    "print(\"moda =\",moda)\n",
    "df[\"nr_11\"].fillna(moda, inplace=True)\n",
    "existem_nulos = df[\"nr_11\"].isna().any().any()\n",
    "\n",
    "if existem_nulos:\n",
    "    print(\"Existem valores nulos na coluna.\")\n",
    "else:\n",
    "    print(\"Não existem valores nulos na coluna.\")"
   ]
  },
  {
   "cell_type": "code",
   "execution_count": 189,
   "metadata": {},
   "outputs": [
    {
     "name": "stdout",
     "output_type": "stream",
     "text": [
      "Existem valores nulos na coluna.\n"
     ]
    }
   ],
   "source": [
    "existem_nulos = df[\"nr_01\"].isna().any().any()\n",
    "\n",
    "if existem_nulos:\n",
    "    print(\"Existem valores nulos na coluna.\")\n",
    "else:\n",
    "    print(\"Não existem valores nulos na coluna.\")"
   ]
  },
  {
   "cell_type": "code",
   "execution_count": 190,
   "metadata": {},
   "outputs": [
    {
     "name": "stdout",
     "output_type": "stream",
     "text": [
      "moda = 0.0\n",
      "Não existem valores nulos na coluna.\n"
     ]
    }
   ],
   "source": [
    "moda = df[\"nr_01\"].mode().values[0]\n",
    "print(\"moda =\",moda)\n",
    "df[\"nr_01\"].fillna(moda, inplace=True)\n",
    "existem_nulos = df[\"nr_01\"].isna().any().any()\n",
    "\n",
    "if existem_nulos:\n",
    "    print(\"Existem valores nulos na coluna.\")\n",
    "else:\n",
    "    print(\"Não existem valores nulos na coluna.\")"
   ]
  },
  {
   "cell_type": "code",
   "execution_count": 191,
   "metadata": {},
   "outputs": [
    {
     "name": "stdout",
     "output_type": "stream",
     "text": [
      "Existem valores nulos na coluna.\n"
     ]
    }
   ],
   "source": [
    "existem_nulos = df[\"nr_02\"].isna().any().any()\n",
    "\n",
    "if existem_nulos:\n",
    "    print(\"Existem valores nulos na coluna.\")\n",
    "else:\n",
    "    print(\"Não existem valores nulos na coluna.\")"
   ]
  },
  {
   "cell_type": "code",
   "execution_count": 192,
   "metadata": {},
   "outputs": [
    {
     "name": "stdout",
     "output_type": "stream",
     "text": [
      "moda = 0.0\n",
      "Não existem valores nulos na coluna.\n"
     ]
    }
   ],
   "source": [
    "moda = df[\"nr_02\"].mode().values[0]\n",
    "print(\"moda =\",moda)\n",
    "df[\"nr_02\"].fillna(moda, inplace=True)\n",
    "existem_nulos = df[\"nr_02\"].isna().any().any()\n",
    "\n",
    "if existem_nulos:\n",
    "    print(\"Existem valores nulos na coluna.\")\n",
    "else:\n",
    "    print(\"Não existem valores nulos na coluna.\")"
   ]
  },
  {
   "cell_type": "code",
   "execution_count": 193,
   "metadata": {},
   "outputs": [
    {
     "name": "stdout",
     "output_type": "stream",
     "text": [
      "Existem valores nulos na coluna.\n"
     ]
    }
   ],
   "source": [
    "existem_nulos = df[\"nr_03\"].isna().any().any()\n",
    "\n",
    "if existem_nulos:\n",
    "    print(\"Existem valores nulos na coluna.\")\n",
    "else:\n",
    "    print(\"Não existem valores nulos na coluna.\")"
   ]
  },
  {
   "cell_type": "code",
   "execution_count": 194,
   "metadata": {},
   "outputs": [
    {
     "name": "stdout",
     "output_type": "stream",
     "text": [
      "moda = 0.0\n",
      "Não existem valores nulos na coluna.\n"
     ]
    }
   ],
   "source": [
    "moda = df[\"nr_03\"].mode().values[0]\n",
    "print(\"moda =\",moda)\n",
    "df[\"nr_03\"].fillna(moda, inplace=True)\n",
    "existem_nulos = df[\"nr_03\"].isna().any().any()\n",
    "\n",
    "if existem_nulos:\n",
    "    print(\"Existem valores nulos na coluna.\")\n",
    "else:\n",
    "    print(\"Não existem valores nulos na coluna.\")"
   ]
  },
  {
   "cell_type": "code",
   "execution_count": 195,
   "metadata": {},
   "outputs": [
    {
     "name": "stdout",
     "output_type": "stream",
     "text": [
      "Existem valores nulos na coluna.\n"
     ]
    }
   ],
   "source": [
    "existem_nulos = df[\"nr_04\"].isna().any().any()\n",
    "\n",
    "if existem_nulos:\n",
    "    print(\"Existem valores nulos na coluna.\")\n",
    "else:\n",
    "    print(\"Não existem valores nulos na coluna.\")"
   ]
  },
  {
   "cell_type": "code",
   "execution_count": 196,
   "metadata": {},
   "outputs": [
    {
     "name": "stdout",
     "output_type": "stream",
     "text": [
      "moda = 0.0\n",
      "Não existem valores nulos na coluna.\n"
     ]
    }
   ],
   "source": [
    "moda = df[\"nr_04\"].mode().values[0]\n",
    "print(\"moda =\",moda)\n",
    "df[\"nr_04\"].fillna(moda, inplace=True)\n",
    "existem_nulos = df[\"nr_04\"].isna().any().any()\n",
    "\n",
    "if existem_nulos:\n",
    "    print(\"Existem valores nulos na coluna.\")\n",
    "else:\n",
    "    print(\"Não existem valores nulos na coluna.\")"
   ]
  },
  {
   "cell_type": "code",
   "execution_count": 197,
   "metadata": {},
   "outputs": [
    {
     "name": "stdout",
     "output_type": "stream",
     "text": [
      "Existem valores nulos na coluna.\n"
     ]
    }
   ],
   "source": [
    "existem_nulos = df[\"nr_07\"].isna().any().any()\n",
    "\n",
    "if existem_nulos:\n",
    "    print(\"Existem valores nulos na coluna.\")\n",
    "else:\n",
    "    print(\"Não existem valores nulos na coluna.\")"
   ]
  },
  {
   "cell_type": "code",
   "execution_count": 198,
   "metadata": {},
   "outputs": [
    {
     "name": "stdout",
     "output_type": "stream",
     "text": [
      "moda = 0.0\n",
      "Não existem valores nulos na coluna.\n"
     ]
    }
   ],
   "source": [
    "moda = df[\"nr_07\"].mode().values[0]\n",
    "print(\"moda =\",moda)\n",
    "df[\"nr_07\"].fillna(moda, inplace=True)\n",
    "existem_nulos = df[\"nr_07\"].isna().any().any()\n",
    "\n",
    "if existem_nulos:\n",
    "    print(\"Existem valores nulos na coluna.\")\n",
    "else:\n",
    "    print(\"Não existem valores nulos na coluna.\")"
   ]
  },
  {
   "cell_type": "code",
   "execution_count": 199,
   "metadata": {},
   "outputs": [
    {
     "name": "stdout",
     "output_type": "stream",
     "text": [
      "Existem valores nulos na coluna.\n"
     ]
    }
   ],
   "source": [
    "existem_nulos = df[\"nr_08\"].isna().any().any()\n",
    "\n",
    "if existem_nulos:\n",
    "    print(\"Existem valores nulos na coluna.\")\n",
    "else:\n",
    "    print(\"Não existem valores nulos na coluna.\")"
   ]
  },
  {
   "cell_type": "code",
   "execution_count": 200,
   "metadata": {},
   "outputs": [
    {
     "name": "stdout",
     "output_type": "stream",
     "text": [
      "moda = 0.0\n",
      "Não existem valores nulos na coluna.\n"
     ]
    }
   ],
   "source": [
    "moda = df[\"nr_08\"].mode().values[0]\n",
    "print(\"moda =\",moda)\n",
    "df[\"nr_08\"].fillna(moda, inplace=True)\n",
    "existem_nulos = df[\"nr_08\"].isna().any().any()\n",
    "\n",
    "if existem_nulos:\n",
    "    print(\"Existem valores nulos na coluna.\")\n",
    "else:\n",
    "    print(\"Não existem valores nulos na coluna.\")"
   ]
  },
  {
   "cell_type": "code",
   "execution_count": 201,
   "metadata": {},
   "outputs": [
    {
     "name": "stdout",
     "output_type": "stream",
     "text": [
      "Existem valores nulos na coluna.\n"
     ]
    }
   ],
   "source": [
    "existem_nulos = df[\"np_01\"].isna().any().any()\n",
    "\n",
    "if existem_nulos:\n",
    "    print(\"Existem valores nulos na coluna.\")\n",
    "else:\n",
    "    print(\"Não existem valores nulos na coluna.\")"
   ]
  },
  {
   "cell_type": "code",
   "execution_count": 202,
   "metadata": {},
   "outputs": [
    {
     "name": "stdout",
     "output_type": "stream",
     "text": [
      "moda = 0.0\n",
      "Não existem valores nulos na coluna.\n"
     ]
    }
   ],
   "source": [
    "moda = df[\"np_01\"].mode().values[0]\n",
    "print(\"moda =\",moda)\n",
    "df[\"np_01\"].fillna(moda, inplace=True)\n",
    "existem_nulos = df[\"np_01\"].isna().any().any()\n",
    "\n",
    "if existem_nulos:\n",
    "    print(\"Existem valores nulos na coluna.\")\n",
    "else:\n",
    "    print(\"Não existem valores nulos na coluna.\")"
   ]
  },
  {
   "cell_type": "code",
   "execution_count": 203,
   "metadata": {},
   "outputs": [
    {
     "name": "stdout",
     "output_type": "stream",
     "text": [
      "Existem valores nulos na coluna.\n"
     ]
    }
   ],
   "source": [
    "existem_nulos = df[\"np_04\"].isna().any().any()\n",
    "\n",
    "if existem_nulos:\n",
    "    print(\"Existem valores nulos na coluna.\")\n",
    "else:\n",
    "    print(\"Não existem valores nulos na coluna.\")"
   ]
  },
  {
   "cell_type": "code",
   "execution_count": 204,
   "metadata": {},
   "outputs": [
    {
     "name": "stdout",
     "output_type": "stream",
     "text": [
      "moda = 0.0\n",
      "Não existem valores nulos na coluna.\n"
     ]
    }
   ],
   "source": [
    "moda = df[\"np_04\"].mode().values[0]\n",
    "print(\"moda =\",moda)\n",
    "df[\"np_04\"].fillna(moda, inplace=True)\n",
    "existem_nulos = df[\"np_04\"].isna().any().any()\n",
    "\n",
    "if existem_nulos:\n",
    "    print(\"Existem valores nulos na coluna.\")\n",
    "else:\n",
    "    print(\"Não existem valores nulos na coluna.\")"
   ]
  },
  {
   "cell_type": "code",
   "execution_count": 205,
   "metadata": {},
   "outputs": [
    {
     "name": "stdout",
     "output_type": "stream",
     "text": [
      "Existem valores nulos na coluna.\n"
     ]
    }
   ],
   "source": [
    "existem_nulos = df[\"np_05\"].isna().any().any()\n",
    "\n",
    "if existem_nulos:\n",
    "    print(\"Existem valores nulos na coluna.\")\n",
    "else:\n",
    "    print(\"Não existem valores nulos na coluna.\")"
   ]
  },
  {
   "cell_type": "code",
   "execution_count": 206,
   "metadata": {},
   "outputs": [
    {
     "name": "stdout",
     "output_type": "stream",
     "text": [
      "moda = 0.0\n",
      "Não existem valores nulos na coluna.\n"
     ]
    }
   ],
   "source": [
    "moda = df[\"np_05\"].mode().values[0]\n",
    "print(\"moda =\",moda)\n",
    "df[\"np_05\"].fillna(moda, inplace=True)\n",
    "existem_nulos = df[\"np_05\"].isna().any().any()\n",
    "\n",
    "if existem_nulos:\n",
    "    print(\"Existem valores nulos na coluna.\")\n",
    "else:\n",
    "    print(\"Não existem valores nulos na coluna.\")"
   ]
  },
  {
   "cell_type": "code",
   "execution_count": 207,
   "metadata": {},
   "outputs": [
    {
     "name": "stdout",
     "output_type": "stream",
     "text": [
      "Existem valores nulos na coluna.\n"
     ]
    }
   ],
   "source": [
    "existem_nulos = df[\"np_07\"].isna().any().any()\n",
    "\n",
    "if existem_nulos:\n",
    "    print(\"Existem valores nulos na coluna.\")\n",
    "else:\n",
    "    print(\"Não existem valores nulos na coluna.\")"
   ]
  },
  {
   "cell_type": "code",
   "execution_count": 208,
   "metadata": {},
   "outputs": [
    {
     "name": "stdout",
     "output_type": "stream",
     "text": [
      "moda = 0.0\n",
      "Não existem valores nulos na coluna.\n"
     ]
    }
   ],
   "source": [
    "moda = df[\"np_07\"].mode().values[0]\n",
    "print(\"moda =\",moda)\n",
    "df[\"np_07\"].fillna(moda, inplace=True)\n",
    "existem_nulos = df[\"np_07\"].isna().any().any()\n",
    "\n",
    "if existem_nulos:\n",
    "    print(\"Existem valores nulos na coluna.\")\n",
    "else:\n",
    "    print(\"Não existem valores nulos na coluna.\")"
   ]
  },
  {
   "cell_type": "code",
   "execution_count": 209,
   "metadata": {},
   "outputs": [
    {
     "name": "stdout",
     "output_type": "stream",
     "text": [
      "Existem valores nulos na coluna.\n"
     ]
    }
   ],
   "source": [
    "existem_nulos = df[\"np_08\"].isna().any().any()\n",
    "\n",
    "if existem_nulos:\n",
    "    print(\"Existem valores nulos na coluna.\")\n",
    "else:\n",
    "    print(\"Não existem valores nulos na coluna.\")"
   ]
  },
  {
   "cell_type": "code",
   "execution_count": 210,
   "metadata": {},
   "outputs": [
    {
     "name": "stdout",
     "output_type": "stream",
     "text": [
      "moda = 0.0\n",
      "Não existem valores nulos na coluna.\n"
     ]
    }
   ],
   "source": [
    "moda = df[\"np_08\"].mode().values[0]\n",
    "print(\"moda =\",moda)\n",
    "df[\"np_08\"].fillna(moda, inplace=True)\n",
    "existem_nulos = df[\"np_08\"].isna().any().any()\n",
    "\n",
    "if existem_nulos:\n",
    "    print(\"Existem valores nulos na coluna.\")\n",
    "else:\n",
    "    print(\"Não existem valores nulos na coluna.\")"
   ]
  },
  {
   "cell_type": "code",
   "execution_count": 211,
   "metadata": {},
   "outputs": [
    {
     "name": "stdout",
     "output_type": "stream",
     "text": [
      "Existem valores nulos na coluna.\n"
     ]
    }
   ],
   "source": [
    "existem_nulos = df[\"np_09\"].isna().any().any()\n",
    "\n",
    "if existem_nulos:\n",
    "    print(\"Existem valores nulos na coluna.\")\n",
    "else:\n",
    "    print(\"Não existem valores nulos na coluna.\")"
   ]
  },
  {
   "cell_type": "code",
   "execution_count": 212,
   "metadata": {},
   "outputs": [
    {
     "name": "stdout",
     "output_type": "stream",
     "text": [
      "moda = 0.0\n",
      "Não existem valores nulos na coluna.\n"
     ]
    }
   ],
   "source": [
    "moda = df[\"np_09\"].mode().values[0]\n",
    "print(\"moda =\",moda)\n",
    "df[\"np_09\"].fillna(moda, inplace=True)\n",
    "existem_nulos = df[\"np_09\"].isna().any().any()\n",
    "\n",
    "if existem_nulos:\n",
    "    print(\"Existem valores nulos na coluna.\")\n",
    "else:\n",
    "    print(\"Não existem valores nulos na coluna.\")"
   ]
  },
  {
   "cell_type": "code",
   "execution_count": 213,
   "metadata": {},
   "outputs": [
    {
     "name": "stdout",
     "output_type": "stream",
     "text": [
      "Existem valores nulos na coluna.\n"
     ]
    }
   ],
   "source": [
    "existem_nulos = df[\"np_10\"].isna().any().any()\n",
    "\n",
    "if existem_nulos:\n",
    "    print(\"Existem valores nulos na coluna.\")\n",
    "else:\n",
    "    print(\"Não existem valores nulos na coluna.\")"
   ]
  },
  {
   "cell_type": "code",
   "execution_count": 214,
   "metadata": {},
   "outputs": [
    {
     "name": "stdout",
     "output_type": "stream",
     "text": [
      "moda = 0.0\n",
      "Não existem valores nulos na coluna.\n"
     ]
    }
   ],
   "source": [
    "moda = df[\"np_10\"].mode().values[0]\n",
    "print(\"moda =\",moda)\n",
    "df[\"np_10\"].fillna(moda, inplace=True)\n",
    "existem_nulos = df[\"np_10\"].isna().any().any()\n",
    "\n",
    "if existem_nulos:\n",
    "    print(\"Existem valores nulos na coluna.\")\n",
    "else:\n",
    "    print(\"Não existem valores nulos na coluna.\")"
   ]
  },
  {
   "cell_type": "code",
   "execution_count": 215,
   "metadata": {},
   "outputs": [
    {
     "name": "stdout",
     "output_type": "stream",
     "text": [
      "Existem valores nulos na coluna.\n"
     ]
    }
   ],
   "source": [
    "existem_nulos = df[\"endocr_01\"].isna().any().any()\n",
    "\n",
    "if existem_nulos:\n",
    "    print(\"Existem valores nulos na coluna.\")\n",
    "else:\n",
    "    print(\"Não existem valores nulos na coluna.\")"
   ]
  },
  {
   "cell_type": "code",
   "execution_count": 216,
   "metadata": {},
   "outputs": [
    {
     "name": "stdout",
     "output_type": "stream",
     "text": [
      "moda = 0.0\n",
      "Não existem valores nulos na coluna.\n"
     ]
    }
   ],
   "source": [
    "moda = df[\"endocr_01\"].mode().values[0]\n",
    "print(\"moda =\",moda)\n",
    "df[\"endocr_01\"].fillna(moda, inplace=True)\n",
    "existem_nulos = df[\"endocr_01\"].isna().any().any()\n",
    "\n",
    "if existem_nulos:\n",
    "    print(\"Existem valores nulos na coluna.\")\n",
    "else:\n",
    "    print(\"Não existem valores nulos na coluna.\")"
   ]
  },
  {
   "cell_type": "code",
   "execution_count": 217,
   "metadata": {},
   "outputs": [
    {
     "name": "stdout",
     "output_type": "stream",
     "text": [
      "Existem valores nulos na coluna.\n"
     ]
    }
   ],
   "source": [
    "existem_nulos = df[\"endocr_02\"].isna().any().any()\n",
    "\n",
    "if existem_nulos:\n",
    "    print(\"Existem valores nulos na coluna.\")\n",
    "else:\n",
    "    print(\"Não existem valores nulos na coluna.\")"
   ]
  },
  {
   "cell_type": "code",
   "execution_count": 218,
   "metadata": {},
   "outputs": [
    {
     "name": "stdout",
     "output_type": "stream",
     "text": [
      "moda = 0.0\n",
      "Não existem valores nulos na coluna.\n"
     ]
    }
   ],
   "source": [
    "moda = df[\"endocr_02\"].mode().values[0]\n",
    "print(\"moda =\",moda)\n",
    "df[\"endocr_02\"].fillna(moda, inplace=True)\n",
    "existem_nulos = df[\"endocr_02\"].isna().any().any()\n",
    "\n",
    "if existem_nulos:\n",
    "    print(\"Existem valores nulos na coluna.\")\n",
    "else:\n",
    "    print(\"Não existem valores nulos na coluna.\")"
   ]
  },
  {
   "cell_type": "code",
   "execution_count": 219,
   "metadata": {},
   "outputs": [
    {
     "name": "stdout",
     "output_type": "stream",
     "text": [
      "Existem valores nulos na coluna.\n"
     ]
    }
   ],
   "source": [
    "existem_nulos = df[\"endocr_03\"].isna().any().any()\n",
    "\n",
    "if existem_nulos:\n",
    "    print(\"Existem valores nulos na coluna.\")\n",
    "else:\n",
    "    print(\"Não existem valores nulos na coluna.\")"
   ]
  },
  {
   "cell_type": "code",
   "execution_count": 220,
   "metadata": {},
   "outputs": [
    {
     "name": "stdout",
     "output_type": "stream",
     "text": [
      "moda = 0.0\n",
      "Não existem valores nulos na coluna.\n"
     ]
    }
   ],
   "source": [
    "moda = df[\"endocr_03\"].mode().values[0]\n",
    "print(\"moda =\",moda)\n",
    "df[\"endocr_03\"].fillna(moda, inplace=True)\n",
    "existem_nulos = df[\"endocr_03\"].isna().any().any()\n",
    "\n",
    "if existem_nulos:\n",
    "    print(\"Existem valores nulos na coluna.\")\n",
    "else:\n",
    "    print(\"Não existem valores nulos na coluna.\")"
   ]
  },
  {
   "cell_type": "code",
   "execution_count": 221,
   "metadata": {},
   "outputs": [
    {
     "name": "stdout",
     "output_type": "stream",
     "text": [
      "Existem valores nulos na coluna.\n"
     ]
    }
   ],
   "source": [
    "existem_nulos = df[\"zab_leg_01\"].isna().any().any()\n",
    "\n",
    "if existem_nulos:\n",
    "    print(\"Existem valores nulos na coluna.\")\n",
    "else:\n",
    "    print(\"Não existem valores nulos na coluna.\")"
   ]
  },
  {
   "cell_type": "code",
   "execution_count": 222,
   "metadata": {},
   "outputs": [
    {
     "name": "stdout",
     "output_type": "stream",
     "text": [
      "moda = 0.0\n",
      "Não existem valores nulos na coluna.\n"
     ]
    }
   ],
   "source": [
    "moda = df[\"zab_leg_01\"].mode().values[0]\n",
    "print(\"moda =\",moda)\n",
    "df[\"zab_leg_01\"].fillna(moda, inplace=True)\n",
    "existem_nulos = df[\"zab_leg_01\"].isna().any().any()\n",
    "\n",
    "if existem_nulos:\n",
    "    print(\"Existem valores nulos na coluna.\")\n",
    "else:\n",
    "    print(\"Não existem valores nulos na coluna.\")"
   ]
  },
  {
   "cell_type": "code",
   "execution_count": 223,
   "metadata": {},
   "outputs": [
    {
     "name": "stdout",
     "output_type": "stream",
     "text": [
      "Existem valores nulos na coluna.\n"
     ]
    }
   ],
   "source": [
    "existem_nulos = df[\"zab_leg_02\"].isna().any().any()\n",
    "\n",
    "if existem_nulos:\n",
    "    print(\"Existem valores nulos na coluna.\")\n",
    "else:\n",
    "    print(\"Não existem valores nulos na coluna.\")"
   ]
  },
  {
   "cell_type": "code",
   "execution_count": 224,
   "metadata": {},
   "outputs": [
    {
     "name": "stdout",
     "output_type": "stream",
     "text": [
      "moda = 0.0\n",
      "Não existem valores nulos na coluna.\n"
     ]
    }
   ],
   "source": [
    "moda = df[\"zab_leg_02\"].mode().values[0]\n",
    "print(\"moda =\",moda)\n",
    "df[\"zab_leg_02\"].fillna(moda, inplace=True)\n",
    "existem_nulos = df[\"zab_leg_02\"].isna().any().any()\n",
    "\n",
    "if existem_nulos:\n",
    "    print(\"Existem valores nulos na coluna.\")\n",
    "else:\n",
    "    print(\"Não existem valores nulos na coluna.\")"
   ]
  },
  {
   "cell_type": "code",
   "execution_count": 225,
   "metadata": {},
   "outputs": [
    {
     "name": "stdout",
     "output_type": "stream",
     "text": [
      "Existem valores nulos na coluna.\n"
     ]
    }
   ],
   "source": [
    "existem_nulos = df[\"zab_leg_03\"].isna().any().any()\n",
    "\n",
    "if existem_nulos:\n",
    "    print(\"Existem valores nulos na coluna.\")\n",
    "else:\n",
    "    print(\"Não existem valores nulos na coluna.\")"
   ]
  },
  {
   "cell_type": "code",
   "execution_count": 226,
   "metadata": {},
   "outputs": [
    {
     "name": "stdout",
     "output_type": "stream",
     "text": [
      "moda = 0.0\n",
      "Não existem valores nulos na coluna.\n"
     ]
    }
   ],
   "source": [
    "moda = df[\"zab_leg_03\"].mode().values[0]\n",
    "print(\"moda =\",moda)\n",
    "df[\"zab_leg_03\"].fillna(moda, inplace=True)\n",
    "existem_nulos = df[\"zab_leg_03\"].isna().any().any()\n",
    "\n",
    "if existem_nulos:\n",
    "    print(\"Existem valores nulos na coluna.\")\n",
    "else:\n",
    "    print(\"Não existem valores nulos na coluna.\")"
   ]
  },
  {
   "cell_type": "code",
   "execution_count": 227,
   "metadata": {},
   "outputs": [
    {
     "name": "stdout",
     "output_type": "stream",
     "text": [
      "Existem valores nulos na coluna.\n"
     ]
    }
   ],
   "source": [
    "existem_nulos = df[\"zab_leg_06\"].isna().any().any()\n",
    "\n",
    "if existem_nulos:\n",
    "    print(\"Existem valores nulos na coluna.\")\n",
    "else:\n",
    "    print(\"Não existem valores nulos na coluna.\")"
   ]
  },
  {
   "cell_type": "code",
   "execution_count": 228,
   "metadata": {},
   "outputs": [
    {
     "name": "stdout",
     "output_type": "stream",
     "text": [
      "moda = 0.0\n",
      "Não existem valores nulos na coluna.\n"
     ]
    }
   ],
   "source": [
    "moda = df[\"zab_leg_06\"].mode().values[0]\n",
    "print(\"moda =\",moda)\n",
    "df[\"zab_leg_06\"].fillna(moda, inplace=True)\n",
    "existem_nulos = df[\"zab_leg_06\"].isna().any().any()\n",
    "\n",
    "if existem_nulos:\n",
    "    print(\"Existem valores nulos na coluna.\")\n",
    "else:\n",
    "    print(\"Não existem valores nulos na coluna.\")"
   ]
  },
  {
   "cell_type": "code",
   "execution_count": 229,
   "metadata": {},
   "outputs": [
    {
     "name": "stdout",
     "output_type": "stream",
     "text": [
      "Existem valores nulos na coluna.\n"
     ]
    }
   ],
   "source": [
    "existem_nulos = df[\"S_AD_KBRIG\"].isna().any().any()\n",
    "\n",
    "if existem_nulos:\n",
    "    print(\"Existem valores nulos na coluna.\")\n",
    "else:\n",
    "    print(\"Não existem valores nulos na coluna.\")"
   ]
  },
  {
   "cell_type": "markdown",
   "metadata": {},
   "source": [
    "A coluna \"S_AD_KBRIG\" e \"S_AD_ORIT\" tem cerca de 63% de dados faltantes"
   ]
  },
  {
   "cell_type": "code",
   "execution_count": 230,
   "metadata": {},
   "outputs": [
    {
     "name": "stdout",
     "output_type": "stream",
     "text": [
      "Existem valores nulos na coluna.\n"
     ]
    }
   ],
   "source": [
    "existem_nulos = df[\"D_AD_ORIT\"].isna().any().any()\n",
    "\n",
    "if existem_nulos:\n",
    "    print(\"Existem valores nulos na coluna.\")\n",
    "else:\n",
    "    print(\"Não existem valores nulos na coluna.\")"
   ]
  },
  {
   "cell_type": "code",
   "execution_count": 231,
   "metadata": {},
   "outputs": [
    {
     "name": "stdout",
     "output_type": "stream",
     "text": [
      "moda = 80.0\n",
      "Não existem valores nulos na coluna.\n"
     ]
    }
   ],
   "source": [
    "moda = df[\"D_AD_ORIT\"].mode().values[0]\n",
    "print(\"moda =\",moda)\n",
    "df[\"D_AD_ORIT\"].fillna(moda, inplace=True)\n",
    "existem_nulos = df[\"D_AD_ORIT\"].isna().any().any()\n",
    "\n",
    "if existem_nulos:\n",
    "    print(\"Existem valores nulos na coluna.\")\n",
    "else:\n",
    "    print(\"Não existem valores nulos na coluna.\")"
   ]
  },
  {
   "cell_type": "code",
   "execution_count": 232,
   "metadata": {},
   "outputs": [
    {
     "name": "stdout",
     "output_type": "stream",
     "text": [
      "Existem valores nulos na coluna.\n"
     ]
    }
   ],
   "source": [
    "existem_nulos = df[\"O_L_POST\"].isna().any().any()\n",
    "\n",
    "if existem_nulos:\n",
    "    print(\"Existem valores nulos na coluna.\")\n",
    "else:\n",
    "    print(\"Não existem valores nulos na coluna.\")"
   ]
  },
  {
   "cell_type": "code",
   "execution_count": 233,
   "metadata": {},
   "outputs": [
    {
     "name": "stdout",
     "output_type": "stream",
     "text": [
      "moda = 0.0\n",
      "Não existem valores nulos na coluna.\n"
     ]
    }
   ],
   "source": [
    "moda = df[\"O_L_POST\"].mode().values[0]\n",
    "print(\"moda =\",moda)\n",
    "df[\"O_L_POST\"].fillna(moda, inplace=True)\n",
    "existem_nulos = df[\"O_L_POST\"].isna().any().any()\n",
    "\n",
    "if existem_nulos:\n",
    "    print(\"Existem valores nulos na coluna.\")\n",
    "else:\n",
    "    print(\"Não existem valores nulos na coluna.\")"
   ]
  },
  {
   "cell_type": "code",
   "execution_count": 234,
   "metadata": {},
   "outputs": [
    {
     "name": "stdout",
     "output_type": "stream",
     "text": [
      "Existem valores nulos na coluna.\n"
     ]
    }
   ],
   "source": [
    "existem_nulos = df[\"K_SH_POST\"].isna().any().any()\n",
    "\n",
    "if existem_nulos:\n",
    "    print(\"Existem valores nulos na coluna.\")\n",
    "else:\n",
    "    print(\"Não existem valores nulos na coluna.\")"
   ]
  },
  {
   "cell_type": "code",
   "execution_count": 235,
   "metadata": {},
   "outputs": [
    {
     "name": "stdout",
     "output_type": "stream",
     "text": [
      "moda = 0.0\n",
      "Não existem valores nulos na coluna.\n"
     ]
    }
   ],
   "source": [
    "moda = df[\"K_SH_POST\"].mode().values[0]\n",
    "print(\"moda =\",moda)\n",
    "df[\"K_SH_POST\"].fillna(moda, inplace=True)\n",
    "existem_nulos = df[\"K_SH_POST\"].isna().any().any()\n",
    "\n",
    "if existem_nulos:\n",
    "    print(\"Existem valores nulos na coluna.\")\n",
    "else:\n",
    "    print(\"Não existem valores nulos na coluna.\")"
   ]
  },
  {
   "cell_type": "code",
   "execution_count": 236,
   "metadata": {},
   "outputs": [
    {
     "name": "stdout",
     "output_type": "stream",
     "text": [
      "Existem valores nulos na coluna.\n"
     ]
    }
   ],
   "source": [
    "existem_nulos = df[\"MP_TP_POST\"].isna().any().any()\n",
    "\n",
    "if existem_nulos:\n",
    "    print(\"Existem valores nulos na coluna.\")\n",
    "else:\n",
    "    print(\"Não existem valores nulos na coluna.\")"
   ]
  },
  {
   "cell_type": "code",
   "execution_count": 237,
   "metadata": {},
   "outputs": [
    {
     "name": "stdout",
     "output_type": "stream",
     "text": [
      "moda = 0.0\n",
      "Não existem valores nulos na coluna.\n"
     ]
    }
   ],
   "source": [
    "moda = df[\"MP_TP_POST\"].mode().values[0]\n",
    "print(\"moda =\",moda)\n",
    "df[\"MP_TP_POST\"].fillna(moda, inplace=True)\n",
    "existem_nulos = df[\"MP_TP_POST\"].isna().any().any()\n",
    "\n",
    "if existem_nulos:\n",
    "    print(\"Existem valores nulos na coluna.\")\n",
    "else:\n",
    "    print(\"Não existem valores nulos na coluna.\")"
   ]
  },
  {
   "cell_type": "code",
   "execution_count": 238,
   "metadata": {},
   "outputs": [
    {
     "name": "stdout",
     "output_type": "stream",
     "text": [
      "Existem valores nulos na coluna.\n"
     ]
    }
   ],
   "source": [
    "existem_nulos = df[\"SVT_POST\"].isna().any().any()\n",
    "\n",
    "if existem_nulos:\n",
    "    print(\"Existem valores nulos na coluna.\")\n",
    "else:\n",
    "    print(\"Não existem valores nulos na coluna.\")"
   ]
  },
  {
   "cell_type": "code",
   "execution_count": 239,
   "metadata": {},
   "outputs": [
    {
     "name": "stdout",
     "output_type": "stream",
     "text": [
      "moda = 0.0\n",
      "Não existem valores nulos na coluna.\n"
     ]
    }
   ],
   "source": [
    "moda = df[\"SVT_POST\"].mode().values[0]\n",
    "print(\"moda =\",moda)\n",
    "df[\"SVT_POST\"].fillna(moda, inplace=True)\n",
    "existem_nulos = df[\"SVT_POST\"].isna().any().any()\n",
    "\n",
    "if existem_nulos:\n",
    "    print(\"Existem valores nulos na coluna.\")\n",
    "else:\n",
    "    print(\"Não existem valores nulos na coluna.\")"
   ]
  },
  {
   "cell_type": "code",
   "execution_count": 240,
   "metadata": {},
   "outputs": [
    {
     "name": "stdout",
     "output_type": "stream",
     "text": [
      "Existem valores nulos na coluna.\n"
     ]
    }
   ],
   "source": [
    "existem_nulos = df[\"GT_POST\"].isna().any().any()\n",
    "\n",
    "if existem_nulos:\n",
    "    print(\"Existem valores nulos na coluna.\")\n",
    "else:\n",
    "    print(\"Não existem valores nulos na coluna.\")"
   ]
  },
  {
   "cell_type": "code",
   "execution_count": 241,
   "metadata": {},
   "outputs": [
    {
     "name": "stdout",
     "output_type": "stream",
     "text": [
      "moda = 0.0\n",
      "Não existem valores nulos na coluna.\n"
     ]
    }
   ],
   "source": [
    "moda = df[\"GT_POST\"].mode().values[0]\n",
    "print(\"moda =\",moda)\n",
    "df[\"np_01\"].fillna(moda, inplace=True)\n",
    "existem_nulos = df[\"np_01\"].isna().any().any()\n",
    "\n",
    "if existem_nulos:\n",
    "    print(\"Existem valores nulos na coluna.\")\n",
    "else:\n",
    "    print(\"Não existem valores nulos na coluna.\")"
   ]
  },
  {
   "cell_type": "code",
   "execution_count": 242,
   "metadata": {},
   "outputs": [
    {
     "name": "stdout",
     "output_type": "stream",
     "text": [
      "Existem valores nulos na coluna.\n"
     ]
    }
   ],
   "source": [
    "existem_nulos = df[\"FIB_G_POST\"].isna().any().any()\n",
    "\n",
    "if existem_nulos:\n",
    "    print(\"Existem valores nulos na coluna.\")\n",
    "else:\n",
    "    print(\"Não existem valores nulos na coluna.\")"
   ]
  },
  {
   "cell_type": "code",
   "execution_count": 243,
   "metadata": {},
   "outputs": [
    {
     "name": "stdout",
     "output_type": "stream",
     "text": [
      "moda = 0.0\n",
      "Não existem valores nulos na coluna.\n"
     ]
    }
   ],
   "source": [
    "moda = df[\"FIB_G_POST\"].mode().values[0]\n",
    "print(\"moda =\",moda)\n",
    "df[\"FIB_G_POST\"].fillna(moda, inplace=True)\n",
    "existem_nulos = df[\"FIB_G_POST\"].isna().any().any()\n",
    "\n",
    "if existem_nulos:\n",
    "    print(\"Existem valores nulos na coluna.\")\n",
    "else:\n",
    "    print(\"Não existem valores nulos na coluna.\")"
   ]
  },
  {
   "cell_type": "code",
   "execution_count": 244,
   "metadata": {},
   "outputs": [
    {
     "name": "stdout",
     "output_type": "stream",
     "text": [
      "Existem valores nulos na coluna.\n"
     ]
    }
   ],
   "source": [
    "existem_nulos = df[\"ant_im\"].isna().any().any()\n",
    "\n",
    "if existem_nulos:\n",
    "    print(\"Existem valores nulos na coluna.\")\n",
    "else:\n",
    "    print(\"Não existem valores nulos na coluna.\")"
   ]
  },
  {
   "cell_type": "code",
   "execution_count": 245,
   "metadata": {},
   "outputs": [
    {
     "name": "stdout",
     "output_type": "stream",
     "text": [
      "moda = 0.0\n",
      "Não existem valores nulos na coluna.\n"
     ]
    }
   ],
   "source": [
    "moda = df[\"ant_im\"].mode().values[0]\n",
    "print(\"moda =\",moda)\n",
    "df[\"ant_im\"].fillna(moda, inplace=True)\n",
    "existem_nulos = df[\"ant_im\"].isna().any().any()\n",
    "\n",
    "if existem_nulos:\n",
    "    print(\"Existem valores nulos na coluna.\")\n",
    "else:\n",
    "    print(\"Não existem valores nulos na coluna.\")"
   ]
  },
  {
   "cell_type": "code",
   "execution_count": 246,
   "metadata": {},
   "outputs": [
    {
     "name": "stdout",
     "output_type": "stream",
     "text": [
      "Existem valores nulos na coluna.\n"
     ]
    }
   ],
   "source": [
    "existem_nulos = df[\"lat_im\"].isna().any().any()\n",
    "\n",
    "if existem_nulos:\n",
    "    print(\"Existem valores nulos na coluna.\")\n",
    "else:\n",
    "    print(\"Não existem valores nulos na coluna.\")"
   ]
  },
  {
   "cell_type": "code",
   "execution_count": 247,
   "metadata": {},
   "outputs": [
    {
     "name": "stdout",
     "output_type": "stream",
     "text": [
      "moda = 1.0\n",
      "Não existem valores nulos na coluna.\n"
     ]
    }
   ],
   "source": [
    "moda = df[\"lat_im\"].mode().values[0]\n",
    "print(\"moda =\",moda)\n",
    "df[\"lat_im\"].fillna(moda, inplace=True)\n",
    "existem_nulos = df[\"lat_im\"].isna().any().any()\n",
    "\n",
    "if existem_nulos:\n",
    "    print(\"Existem valores nulos na coluna.\")\n",
    "else:\n",
    "    print(\"Não existem valores nulos na coluna.\")"
   ]
  },
  {
   "cell_type": "code",
   "execution_count": 248,
   "metadata": {},
   "outputs": [
    {
     "name": "stdout",
     "output_type": "stream",
     "text": [
      "Existem valores nulos na coluna.\n"
     ]
    }
   ],
   "source": [
    "existem_nulos = df[\"inf_im\"].isna().any().any()\n",
    "\n",
    "if existem_nulos:\n",
    "    print(\"Existem valores nulos na coluna.\")\n",
    "else:\n",
    "    print(\"Não existem valores nulos na coluna.\")"
   ]
  },
  {
   "cell_type": "code",
   "execution_count": 249,
   "metadata": {},
   "outputs": [
    {
     "name": "stdout",
     "output_type": "stream",
     "text": [
      "moda = 0.0\n",
      "Não existem valores nulos na coluna.\n"
     ]
    }
   ],
   "source": [
    "moda = df[\"inf_im\"].mode().values[0]\n",
    "print(\"moda =\",moda)\n",
    "df[\"inf_im\"].fillna(moda, inplace=True)\n",
    "existem_nulos = df[\"inf_im\"].isna().any().any()\n",
    "\n",
    "if existem_nulos:\n",
    "    print(\"Existem valores nulos na coluna.\")\n",
    "else:\n",
    "    print(\"Não existem valores nulos na coluna.\")"
   ]
  },
  {
   "cell_type": "code",
   "execution_count": 250,
   "metadata": {},
   "outputs": [
    {
     "name": "stdout",
     "output_type": "stream",
     "text": [
      "Existem valores nulos na coluna.\n"
     ]
    }
   ],
   "source": [
    "existem_nulos = df[\"post_im\"].isna().any().any()\n",
    "\n",
    "if existem_nulos:\n",
    "    print(\"Existem valores nulos na coluna.\")\n",
    "else:\n",
    "    print(\"Não existem valores nulos na coluna.\")"
   ]
  },
  {
   "cell_type": "code",
   "execution_count": 251,
   "metadata": {},
   "outputs": [
    {
     "name": "stdout",
     "output_type": "stream",
     "text": [
      "moda = 0.0\n",
      "Não existem valores nulos na coluna.\n"
     ]
    }
   ],
   "source": [
    "moda = df[\"post_im\"].mode().values[0]\n",
    "print(\"moda =\",moda)\n",
    "df[\"post_im\"].fillna(moda, inplace=True)\n",
    "existem_nulos = df[\"post_im\"].isna().any().any()\n",
    "\n",
    "if existem_nulos:\n",
    "    print(\"Existem valores nulos na coluna.\")\n",
    "else:\n",
    "    print(\"Não existem valores nulos na coluna.\")"
   ]
  },
  {
   "cell_type": "code",
   "execution_count": 252,
   "metadata": {},
   "outputs": [
    {
     "name": "stdout",
     "output_type": "stream",
     "text": [
      "Existem valores nulos na coluna.\n"
     ]
    }
   ],
   "source": [
    "existem_nulos = df[\"IM_PG_P\"].isna().any().any()\n",
    "\n",
    "if existem_nulos:\n",
    "    print(\"Existem valores nulos na coluna.\")\n",
    "else:\n",
    "    print(\"Não existem valores nulos na coluna.\")"
   ]
  },
  {
   "cell_type": "code",
   "execution_count": 253,
   "metadata": {},
   "outputs": [
    {
     "name": "stdout",
     "output_type": "stream",
     "text": [
      "moda = 0.0\n",
      "Não existem valores nulos na coluna.\n"
     ]
    }
   ],
   "source": [
    "moda = df[\"IM_PG_P\"].mode().values[0]\n",
    "print(\"moda =\",moda)\n",
    "df[\"IM_PG_P\"].fillna(moda, inplace=True)\n",
    "existem_nulos = df[\"IM_PG_P\"].isna().any().any()\n",
    "\n",
    "if existem_nulos:\n",
    "    print(\"Existem valores nulos na coluna.\")\n",
    "else:\n",
    "    print(\"Não existem valores nulos na coluna.\")"
   ]
  },
  {
   "cell_type": "code",
   "execution_count": 254,
   "metadata": {},
   "outputs": [
    {
     "name": "stdout",
     "output_type": "stream",
     "text": [
      "Existem valores nulos na coluna.\n"
     ]
    }
   ],
   "source": [
    "existem_nulos = df[\"ritm_ecg_p_01\"].isna().any().any()\n",
    "\n",
    "if existem_nulos:\n",
    "    print(\"Existem valores nulos na coluna.\")\n",
    "else:\n",
    "    print(\"Não existem valores nulos na coluna.\")"
   ]
  },
  {
   "cell_type": "code",
   "execution_count": 255,
   "metadata": {},
   "outputs": [
    {
     "name": "stdout",
     "output_type": "stream",
     "text": [
      "moda = 1.0\n",
      "Não existem valores nulos na coluna.\n"
     ]
    }
   ],
   "source": [
    "moda = df[\"ritm_ecg_p_01\"].mode().values[0]\n",
    "print(\"moda =\",moda)\n",
    "df[\"ritm_ecg_p_01\"].fillna(moda, inplace=True)\n",
    "existem_nulos = df[\"ritm_ecg_p_01\"].isna().any().any()\n",
    "\n",
    "if existem_nulos:\n",
    "    print(\"Existem valores nulos na coluna.\")\n",
    "else:\n",
    "    print(\"Não existem valores nulos na coluna.\")"
   ]
  },
  {
   "cell_type": "code",
   "execution_count": 256,
   "metadata": {},
   "outputs": [
    {
     "name": "stdout",
     "output_type": "stream",
     "text": [
      "Existem valores nulos na coluna.\n"
     ]
    }
   ],
   "source": [
    "existem_nulos = df[\"ritm_ecg_p_02\"].isna().any().any()\n",
    "\n",
    "if existem_nulos:\n",
    "    print(\"Existem valores nulos na coluna.\")\n",
    "else:\n",
    "    print(\"Não existem valores nulos na coluna.\")"
   ]
  },
  {
   "cell_type": "code",
   "execution_count": 257,
   "metadata": {},
   "outputs": [
    {
     "name": "stdout",
     "output_type": "stream",
     "text": [
      "moda = 0.0\n",
      "Não existem valores nulos na coluna.\n"
     ]
    }
   ],
   "source": [
    "moda = df[\"ritm_ecg_p_02\"].mode().values[0]\n",
    "print(\"moda =\",moda)\n",
    "df[\"ritm_ecg_p_02\"].fillna(moda, inplace=True)\n",
    "existem_nulos = df[\"ritm_ecg_p_02\"].isna().any().any()\n",
    "\n",
    "if existem_nulos:\n",
    "    print(\"Existem valores nulos na coluna.\")\n",
    "else:\n",
    "    print(\"Não existem valores nulos na coluna.\")"
   ]
  },
  {
   "cell_type": "code",
   "execution_count": 258,
   "metadata": {},
   "outputs": [
    {
     "name": "stdout",
     "output_type": "stream",
     "text": [
      "Existem valores nulos na coluna.\n"
     ]
    }
   ],
   "source": [
    "existem_nulos = df[\"ritm_ecg_p_04\"].isna().any().any()\n",
    "\n",
    "if existem_nulos:\n",
    "    print(\"Existem valores nulos na coluna.\")\n",
    "else:\n",
    "    print(\"Não existem valores nulos na coluna.\")"
   ]
  },
  {
   "cell_type": "code",
   "execution_count": 259,
   "metadata": {},
   "outputs": [
    {
     "name": "stdout",
     "output_type": "stream",
     "text": [
      "moda = 0.0\n",
      "Não existem valores nulos na coluna.\n"
     ]
    }
   ],
   "source": [
    "moda = df[\"ritm_ecg_p_04\"].mode().values[0]\n",
    "print(\"moda =\",moda)\n",
    "df[\"ritm_ecg_p_04\"].fillna(moda, inplace=True)\n",
    "existem_nulos = df[\"ritm_ecg_p_04\"].isna().any().any()\n",
    "\n",
    "if existem_nulos:\n",
    "    print(\"Existem valores nulos na coluna.\")\n",
    "else:\n",
    "    print(\"Não existem valores nulos na coluna.\")"
   ]
  },
  {
   "cell_type": "code",
   "execution_count": 260,
   "metadata": {},
   "outputs": [
    {
     "name": "stdout",
     "output_type": "stream",
     "text": [
      "Existem valores nulos na coluna.\n"
     ]
    }
   ],
   "source": [
    "existem_nulos = df[\"ritm_ecg_p_06\"].isna().any().any()\n",
    "\n",
    "if existem_nulos:\n",
    "    print(\"Existem valores nulos na coluna.\")\n",
    "else:\n",
    "    print(\"Não existem valores nulos na coluna.\")"
   ]
  },
  {
   "cell_type": "code",
   "execution_count": 261,
   "metadata": {},
   "outputs": [
    {
     "name": "stdout",
     "output_type": "stream",
     "text": [
      "moda = 0.0\n",
      "Não existem valores nulos na coluna.\n"
     ]
    }
   ],
   "source": [
    "moda = df[\"ritm_ecg_p_06\"].mode().values[0]\n",
    "print(\"moda =\",moda)\n",
    "df[\"ritm_ecg_p_06\"].fillna(moda, inplace=True)\n",
    "existem_nulos = df[\"ritm_ecg_p_06\"].isna().any().any()\n",
    "\n",
    "if existem_nulos:\n",
    "    print(\"Existem valores nulos na coluna.\")\n",
    "else:\n",
    "    print(\"Não existem valores nulos na coluna.\")"
   ]
  },
  {
   "cell_type": "code",
   "execution_count": 262,
   "metadata": {},
   "outputs": [
    {
     "name": "stdout",
     "output_type": "stream",
     "text": [
      "Existem valores nulos na coluna.\n"
     ]
    }
   ],
   "source": [
    "existem_nulos = df[\"ritm_ecg_p_07\"].isna().any().any()\n",
    "\n",
    "if existem_nulos:\n",
    "    print(\"Existem valores nulos na coluna.\")\n",
    "else:\n",
    "    print(\"Não existem valores nulos na coluna.\")"
   ]
  },
  {
   "cell_type": "code",
   "execution_count": 263,
   "metadata": {},
   "outputs": [
    {
     "name": "stdout",
     "output_type": "stream",
     "text": [
      "moda = 0.0\n",
      "Não existem valores nulos na coluna.\n"
     ]
    }
   ],
   "source": [
    "moda = df[\"ritm_ecg_p_07\"].mode().values[0]\n",
    "print(\"moda =\",moda)\n",
    "df[\"ritm_ecg_p_07\"].fillna(moda, inplace=True)\n",
    "existem_nulos = df[\"ritm_ecg_p_07\"].isna().any().any()\n",
    "\n",
    "if existem_nulos:\n",
    "    print(\"Existem valores nulos na coluna.\")\n",
    "else:\n",
    "    print(\"Não existem valores nulos na coluna.\")"
   ]
  },
  {
   "cell_type": "code",
   "execution_count": 264,
   "metadata": {},
   "outputs": [
    {
     "name": "stdout",
     "output_type": "stream",
     "text": [
      "Existem valores nulos na coluna.\n"
     ]
    }
   ],
   "source": [
    "existem_nulos = df[\"ritm_ecg_p_08\"].isna().any().any()\n",
    "\n",
    "if existem_nulos:\n",
    "    print(\"Existem valores nulos na coluna.\")\n",
    "else:\n",
    "    print(\"Não existem valores nulos na coluna.\")"
   ]
  },
  {
   "cell_type": "code",
   "execution_count": 265,
   "metadata": {},
   "outputs": [
    {
     "name": "stdout",
     "output_type": "stream",
     "text": [
      "moda = 0.0\n",
      "Não existem valores nulos na coluna.\n"
     ]
    }
   ],
   "source": [
    "moda = df[\"ritm_ecg_p_08\"].mode().values[0]\n",
    "print(\"moda =\",moda)\n",
    "df[\"ritm_ecg_p_08\"].fillna(moda, inplace=True)\n",
    "existem_nulos = df[\"ritm_ecg_p_08\"].isna().any().any()\n",
    "\n",
    "if existem_nulos:\n",
    "    print(\"Existem valores nulos na coluna.\")\n",
    "else:\n",
    "    print(\"Não existem valores nulos na coluna.\")"
   ]
  },
  {
   "cell_type": "code",
   "execution_count": 266,
   "metadata": {},
   "outputs": [
    {
     "name": "stdout",
     "output_type": "stream",
     "text": [
      "Existem valores nulos na coluna.\n"
     ]
    }
   ],
   "source": [
    "existem_nulos = df[\"n_r_ecg_p_01\"].isna().any().any()\n",
    "\n",
    "if existem_nulos:\n",
    "    print(\"Existem valores nulos na coluna.\")\n",
    "else:\n",
    "    print(\"Não existem valores nulos na coluna.\")"
   ]
  },
  {
   "cell_type": "code",
   "execution_count": 267,
   "metadata": {},
   "outputs": [
    {
     "name": "stdout",
     "output_type": "stream",
     "text": [
      "moda = 0.0\n",
      "Não existem valores nulos na coluna.\n"
     ]
    }
   ],
   "source": [
    "moda = df[\"n_r_ecg_p_01\"].mode().values[0]\n",
    "print(\"moda =\",moda)\n",
    "df[\"n_r_ecg_p_01\"].fillna(moda, inplace=True)\n",
    "existem_nulos = df[\"n_r_ecg_p_01\"].isna().any().any()\n",
    "\n",
    "if existem_nulos:\n",
    "    print(\"Existem valores nulos na coluna.\")\n",
    "else:\n",
    "    print(\"Não existem valores nulos na coluna.\")"
   ]
  },
  {
   "cell_type": "code",
   "execution_count": 268,
   "metadata": {},
   "outputs": [
    {
     "name": "stdout",
     "output_type": "stream",
     "text": [
      "Existem valores nulos na coluna.\n"
     ]
    }
   ],
   "source": [
    "existem_nulos = df[\"n_r_ecg_p_02\"].isna().any().any()\n",
    "\n",
    "if existem_nulos:\n",
    "    print(\"Existem valores nulos na coluna.\")\n",
    "else:\n",
    "    print(\"Não existem valores nulos na coluna.\")"
   ]
  },
  {
   "cell_type": "code",
   "execution_count": 269,
   "metadata": {},
   "outputs": [
    {
     "name": "stdout",
     "output_type": "stream",
     "text": [
      "moda = 0.0\n",
      "Não existem valores nulos na coluna.\n"
     ]
    }
   ],
   "source": [
    "moda = df[\"n_r_ecg_p_02\"].mode().values[0]\n",
    "print(\"moda =\",moda)\n",
    "df[\"n_r_ecg_p_02\"].fillna(moda, inplace=True)\n",
    "existem_nulos = df[\"n_r_ecg_p_02\"].isna().any().any()\n",
    "\n",
    "if existem_nulos:\n",
    "    print(\"Existem valores nulos na coluna.\")\n",
    "else:\n",
    "    print(\"Não existem valores nulos na coluna.\")"
   ]
  },
  {
   "cell_type": "code",
   "execution_count": 270,
   "metadata": {},
   "outputs": [
    {
     "name": "stdout",
     "output_type": "stream",
     "text": [
      "Existem valores nulos na coluna.\n"
     ]
    }
   ],
   "source": [
    "existem_nulos = df[\"n_r_ecg_p_03\"].isna().any().any()\n",
    "\n",
    "if existem_nulos:\n",
    "    print(\"Existem valores nulos na coluna.\")\n",
    "else:\n",
    "    print(\"Não existem valores nulos na coluna.\")"
   ]
  },
  {
   "cell_type": "code",
   "execution_count": 271,
   "metadata": {},
   "outputs": [
    {
     "name": "stdout",
     "output_type": "stream",
     "text": [
      "moda = 0.0\n",
      "Não existem valores nulos na coluna.\n"
     ]
    }
   ],
   "source": [
    "moda = df[\"n_r_ecg_p_03\"].mode().values[0]\n",
    "print(\"moda =\",moda)\n",
    "df[\"n_r_ecg_p_03\"].fillna(moda, inplace=True)\n",
    "existem_nulos = df[\"n_r_ecg_p_03\"].isna().any().any()\n",
    "\n",
    "if existem_nulos:\n",
    "    print(\"Existem valores nulos na coluna.\")\n",
    "else:\n",
    "    print(\"Não existem valores nulos na coluna.\")"
   ]
  },
  {
   "cell_type": "code",
   "execution_count": 272,
   "metadata": {},
   "outputs": [
    {
     "name": "stdout",
     "output_type": "stream",
     "text": [
      "Existem valores nulos na coluna.\n"
     ]
    }
   ],
   "source": [
    "existem_nulos = df[\"n_r_ecg_p_04\"].isna().any().any()\n",
    "\n",
    "if existem_nulos:\n",
    "    print(\"Existem valores nulos na coluna.\")\n",
    "else:\n",
    "    print(\"Não existem valores nulos na coluna.\")"
   ]
  },
  {
   "cell_type": "code",
   "execution_count": 273,
   "metadata": {},
   "outputs": [
    {
     "name": "stdout",
     "output_type": "stream",
     "text": [
      "moda = 0.0\n",
      "Não existem valores nulos na coluna.\n"
     ]
    }
   ],
   "source": [
    "moda = df[\"n_r_ecg_p_04\"].mode().values[0]\n",
    "print(\"moda =\",moda)\n",
    "df[\"n_r_ecg_p_04\"].fillna(moda, inplace=True)\n",
    "existem_nulos = df[\"n_r_ecg_p_04\"].isna().any().any()\n",
    "\n",
    "if existem_nulos:\n",
    "    print(\"Existem valores nulos na coluna.\")\n",
    "else:\n",
    "    print(\"Não existem valores nulos na coluna.\")"
   ]
  },
  {
   "cell_type": "code",
   "execution_count": 274,
   "metadata": {},
   "outputs": [
    {
     "name": "stdout",
     "output_type": "stream",
     "text": [
      "Existem valores nulos na coluna.\n"
     ]
    }
   ],
   "source": [
    "existem_nulos = df[\"n_r_ecg_p_05\"].isna().any().any()\n",
    "\n",
    "if existem_nulos:\n",
    "    print(\"Existem valores nulos na coluna.\")\n",
    "else:\n",
    "    print(\"Não existem valores nulos na coluna.\")"
   ]
  },
  {
   "cell_type": "code",
   "execution_count": 275,
   "metadata": {},
   "outputs": [
    {
     "name": "stdout",
     "output_type": "stream",
     "text": [
      "moda = 0.0\n",
      "Não existem valores nulos na coluna.\n"
     ]
    }
   ],
   "source": [
    "moda = df[\"n_r_ecg_p_05\"].mode().values[0]\n",
    "print(\"moda =\",moda)\n",
    "df[\"n_r_ecg_p_05\"].fillna(moda, inplace=True)\n",
    "existem_nulos = df[\"n_r_ecg_p_05\"].isna().any().any()\n",
    "\n",
    "if existem_nulos:\n",
    "    print(\"Existem valores nulos na coluna.\")\n",
    "else:\n",
    "    print(\"Não existem valores nulos na coluna.\")"
   ]
  },
  {
   "cell_type": "code",
   "execution_count": 276,
   "metadata": {},
   "outputs": [
    {
     "name": "stdout",
     "output_type": "stream",
     "text": [
      "Existem valores nulos na coluna.\n"
     ]
    }
   ],
   "source": [
    "existem_nulos = df[\"n_r_ecg_p_06\"].isna().any().any()\n",
    "\n",
    "if existem_nulos:\n",
    "    print(\"Existem valores nulos na coluna.\")\n",
    "else:\n",
    "    print(\"Não existem valores nulos na coluna.\")"
   ]
  },
  {
   "cell_type": "code",
   "execution_count": 277,
   "metadata": {},
   "outputs": [
    {
     "name": "stdout",
     "output_type": "stream",
     "text": [
      "moda = 0.0\n",
      "Não existem valores nulos na coluna.\n"
     ]
    }
   ],
   "source": [
    "moda = df[\"n_r_ecg_p_06\"].mode().values[0]\n",
    "print(\"moda =\",moda)\n",
    "df[\"n_r_ecg_p_06\"].fillna(moda, inplace=True)\n",
    "existem_nulos = df[\"n_r_ecg_p_06\"].isna().any().any()\n",
    "\n",
    "if existem_nulos:\n",
    "    print(\"Existem valores nulos na coluna.\")\n",
    "else:\n",
    "    print(\"Não existem valores nulos na coluna.\")"
   ]
  },
  {
   "cell_type": "code",
   "execution_count": 278,
   "metadata": {},
   "outputs": [
    {
     "name": "stdout",
     "output_type": "stream",
     "text": [
      "Existem valores nulos na coluna.\n"
     ]
    }
   ],
   "source": [
    "existem_nulos = df[\"n_r_ecg_p_08\"].isna().any().any()\n",
    "\n",
    "if existem_nulos:\n",
    "    print(\"Existem valores nulos na coluna.\")\n",
    "else:\n",
    "    print(\"Não existem valores nulos na coluna.\")"
   ]
  },
  {
   "cell_type": "code",
   "execution_count": 279,
   "metadata": {},
   "outputs": [
    {
     "name": "stdout",
     "output_type": "stream",
     "text": [
      "moda = 0.0\n",
      "Não existem valores nulos na coluna.\n"
     ]
    }
   ],
   "source": [
    "moda = df[\"n_r_ecg_p_08\"].mode().values[0]\n",
    "print(\"moda =\",moda)\n",
    "df[\"n_r_ecg_p_08\"].fillna(moda, inplace=True)\n",
    "existem_nulos = df[\"n_r_ecg_p_08\"].isna().any().any()\n",
    "\n",
    "if existem_nulos:\n",
    "    print(\"Existem valores nulos na coluna.\")\n",
    "else:\n",
    "    print(\"Não existem valores nulos na coluna.\")"
   ]
  },
  {
   "cell_type": "code",
   "execution_count": 280,
   "metadata": {},
   "outputs": [
    {
     "name": "stdout",
     "output_type": "stream",
     "text": [
      "Existem valores nulos na coluna.\n"
     ]
    }
   ],
   "source": [
    "existem_nulos = df[\"n_r_ecg_p_09\"].isna().any().any()\n",
    "\n",
    "if existem_nulos:\n",
    "    print(\"Existem valores nulos na coluna.\")\n",
    "else:\n",
    "    print(\"Não existem valores nulos na coluna.\")"
   ]
  },
  {
   "cell_type": "code",
   "execution_count": 281,
   "metadata": {},
   "outputs": [
    {
     "name": "stdout",
     "output_type": "stream",
     "text": [
      "moda = 0.0\n",
      "Não existem valores nulos na coluna.\n"
     ]
    }
   ],
   "source": [
    "moda = df[\"n_r_ecg_p_09\"].mode().values[0]\n",
    "print(\"moda =\",moda)\n",
    "df[\"n_r_ecg_p_09\"].fillna(moda, inplace=True)\n",
    "existem_nulos = df[\"n_r_ecg_p_09\"].isna().any().any()\n",
    "\n",
    "if existem_nulos:\n",
    "    print(\"Existem valores nulos na coluna.\")\n",
    "else:\n",
    "    print(\"Não existem valores nulos na coluna.\")"
   ]
  },
  {
   "cell_type": "code",
   "execution_count": 282,
   "metadata": {},
   "outputs": [
    {
     "name": "stdout",
     "output_type": "stream",
     "text": [
      "Existem valores nulos na coluna.\n"
     ]
    }
   ],
   "source": [
    "existem_nulos = df[\"n_r_ecg_p_10\"].isna().any().any()\n",
    "\n",
    "if existem_nulos:\n",
    "    print(\"Existem valores nulos na coluna.\")\n",
    "else:\n",
    "    print(\"Não existem valores nulos na coluna.\")"
   ]
  },
  {
   "cell_type": "code",
   "execution_count": 283,
   "metadata": {},
   "outputs": [
    {
     "name": "stdout",
     "output_type": "stream",
     "text": [
      "moda = 0.0\n",
      "Não existem valores nulos na coluna.\n"
     ]
    }
   ],
   "source": [
    "moda = df[\"n_r_ecg_p_10\"].mode().values[0]\n",
    "print(\"moda =\",moda)\n",
    "df[\"n_r_ecg_p_10\"].fillna(moda, inplace=True)\n",
    "existem_nulos = df[\"n_r_ecg_p_10\"].isna().any().any()\n",
    "\n",
    "if existem_nulos:\n",
    "    print(\"Existem valores nulos na coluna.\")\n",
    "else:\n",
    "    print(\"Não existem valores nulos na coluna.\")"
   ]
  },
  {
   "cell_type": "code",
   "execution_count": 284,
   "metadata": {},
   "outputs": [
    {
     "name": "stdout",
     "output_type": "stream",
     "text": [
      "Existem valores nulos na coluna.\n"
     ]
    }
   ],
   "source": [
    "existem_nulos = df[\"n_p_ecg_p_01\"].isna().any().any()\n",
    "\n",
    "if existem_nulos:\n",
    "    print(\"Existem valores nulos na coluna.\")\n",
    "else:\n",
    "    print(\"Não existem valores nulos na coluna.\")"
   ]
  },
  {
   "cell_type": "code",
   "execution_count": 285,
   "metadata": {},
   "outputs": [
    {
     "name": "stdout",
     "output_type": "stream",
     "text": [
      "moda = 0.0\n",
      "Não existem valores nulos na coluna.\n"
     ]
    }
   ],
   "source": [
    "moda = df[\"n_p_ecg_p_01\"].mode().values[0]\n",
    "print(\"moda =\",moda)\n",
    "df[\"n_p_ecg_p_01\"].fillna(moda, inplace=True)\n",
    "existem_nulos = df[\"n_p_ecg_p_01\"].isna().any().any()\n",
    "\n",
    "if existem_nulos:\n",
    "    print(\"Existem valores nulos na coluna.\")\n",
    "else:\n",
    "    print(\"Não existem valores nulos na coluna.\")"
   ]
  },
  {
   "cell_type": "code",
   "execution_count": 286,
   "metadata": {},
   "outputs": [
    {
     "name": "stdout",
     "output_type": "stream",
     "text": [
      "Existem valores nulos na coluna.\n"
     ]
    }
   ],
   "source": [
    "existem_nulos = df[\"n_p_ecg_p_03\"].isna().any().any()\n",
    "\n",
    "if existem_nulos:\n",
    "    print(\"Existem valores nulos na coluna.\")\n",
    "else:\n",
    "    print(\"Não existem valores nulos na coluna.\")"
   ]
  },
  {
   "cell_type": "code",
   "execution_count": 287,
   "metadata": {},
   "outputs": [
    {
     "name": "stdout",
     "output_type": "stream",
     "text": [
      "moda = 0.0\n",
      "Não existem valores nulos na coluna.\n"
     ]
    }
   ],
   "source": [
    "moda = df[\"n_p_ecg_p_03\"].mode().values[0]\n",
    "print(\"moda =\",moda)\n",
    "df[\"n_p_ecg_p_03\"].fillna(moda, inplace=True)\n",
    "existem_nulos = df[\"n_p_ecg_p_03\"].isna().any().any()\n",
    "\n",
    "if existem_nulos:\n",
    "    print(\"Existem valores nulos na coluna.\")\n",
    "else:\n",
    "    print(\"Não existem valores nulos na coluna.\")"
   ]
  },
  {
   "cell_type": "code",
   "execution_count": 288,
   "metadata": {},
   "outputs": [
    {
     "name": "stdout",
     "output_type": "stream",
     "text": [
      "Existem valores nulos na coluna.\n"
     ]
    }
   ],
   "source": [
    "existem_nulos = df[\"n_p_ecg_p_04\"].isna().any().any()\n",
    "\n",
    "if existem_nulos:\n",
    "    print(\"Existem valores nulos na coluna.\")\n",
    "else:\n",
    "    print(\"Não existem valores nulos na coluna.\")"
   ]
  },
  {
   "cell_type": "code",
   "execution_count": 289,
   "metadata": {},
   "outputs": [
    {
     "name": "stdout",
     "output_type": "stream",
     "text": [
      "moda = 0.0\n",
      "Não existem valores nulos na coluna.\n"
     ]
    }
   ],
   "source": [
    "moda = df[\"n_p_ecg_p_04\"].mode().values[0]\n",
    "print(\"moda =\",moda)\n",
    "df[\"n_p_ecg_p_04\"].fillna(moda, inplace=True)\n",
    "existem_nulos = df[\"n_p_ecg_p_04\"].isna().any().any()\n",
    "\n",
    "if existem_nulos:\n",
    "    print(\"Existem valores nulos na coluna.\")\n",
    "else:\n",
    "    print(\"Não existem valores nulos na coluna.\")"
   ]
  },
  {
   "cell_type": "code",
   "execution_count": 290,
   "metadata": {},
   "outputs": [
    {
     "name": "stdout",
     "output_type": "stream",
     "text": [
      "Existem valores nulos na coluna.\n"
     ]
    }
   ],
   "source": [
    "existem_nulos = df[\"n_p_ecg_p_05\"].isna().any().any()\n",
    "\n",
    "if existem_nulos:\n",
    "    print(\"Existem valores nulos na coluna.\")\n",
    "else:\n",
    "    print(\"Não existem valores nulos na coluna.\")"
   ]
  },
  {
   "cell_type": "code",
   "execution_count": 291,
   "metadata": {},
   "outputs": [
    {
     "name": "stdout",
     "output_type": "stream",
     "text": [
      "moda = 0.0\n",
      "Não existem valores nulos na coluna.\n"
     ]
    }
   ],
   "source": [
    "moda = df[\"n_p_ecg_p_05\"].mode().values[0]\n",
    "print(\"moda =\",moda)\n",
    "df[\"n_p_ecg_p_05\"].fillna(moda, inplace=True)\n",
    "existem_nulos = df[\"n_p_ecg_p_05\"].isna().any().any()\n",
    "\n",
    "if existem_nulos:\n",
    "    print(\"Existem valores nulos na coluna.\")\n",
    "else:\n",
    "    print(\"Não existem valores nulos na coluna.\")"
   ]
  },
  {
   "cell_type": "code",
   "execution_count": 292,
   "metadata": {},
   "outputs": [
    {
     "name": "stdout",
     "output_type": "stream",
     "text": [
      "Existem valores nulos na coluna.\n"
     ]
    }
   ],
   "source": [
    "existem_nulos = df[\"n_p_ecg_p_06\"].isna().any().any()\n",
    "\n",
    "if existem_nulos:\n",
    "    print(\"Existem valores nulos na coluna.\")\n",
    "else:\n",
    "    print(\"Não existem valores nulos na coluna.\")"
   ]
  },
  {
   "cell_type": "code",
   "execution_count": 293,
   "metadata": {},
   "outputs": [
    {
     "name": "stdout",
     "output_type": "stream",
     "text": [
      "moda = 0.0\n",
      "Não existem valores nulos na coluna.\n"
     ]
    }
   ],
   "source": [
    "moda = df[\"n_p_ecg_p_06\"].mode().values[0]\n",
    "print(\"moda =\",moda)\n",
    "df[\"n_p_ecg_p_06\"].fillna(moda, inplace=True)\n",
    "existem_nulos = df[\"n_p_ecg_p_06\"].isna().any().any()\n",
    "\n",
    "if existem_nulos:\n",
    "    print(\"Existem valores nulos na coluna.\")\n",
    "else:\n",
    "    print(\"Não existem valores nulos na coluna.\")"
   ]
  },
  {
   "cell_type": "code",
   "execution_count": 294,
   "metadata": {},
   "outputs": [
    {
     "name": "stdout",
     "output_type": "stream",
     "text": [
      "Existem valores nulos na coluna.\n"
     ]
    }
   ],
   "source": [
    "existem_nulos = df[\"n_p_ecg_p_07\"].isna().any().any()\n",
    "\n",
    "if existem_nulos:\n",
    "    print(\"Existem valores nulos na coluna.\")\n",
    "else:\n",
    "    print(\"Não existem valores nulos na coluna.\")"
   ]
  },
  {
   "cell_type": "code",
   "execution_count": 295,
   "metadata": {},
   "outputs": [
    {
     "name": "stdout",
     "output_type": "stream",
     "text": [
      "moda = 0.0\n",
      "Não existem valores nulos na coluna.\n"
     ]
    }
   ],
   "source": [
    "moda = df[\"n_p_ecg_p_07\"].mode().values[0]\n",
    "print(\"moda =\",moda)\n",
    "df[\"n_p_ecg_p_07\"].fillna(moda, inplace=True)\n",
    "existem_nulos = df[\"n_p_ecg_p_07\"].isna().any().any()\n",
    "\n",
    "if existem_nulos:\n",
    "    print(\"Existem valores nulos na coluna.\")\n",
    "else:\n",
    "    print(\"Não existem valores nulos na coluna.\")"
   ]
  },
  {
   "cell_type": "code",
   "execution_count": 296,
   "metadata": {},
   "outputs": [
    {
     "name": "stdout",
     "output_type": "stream",
     "text": [
      "Existem valores nulos na coluna.\n"
     ]
    }
   ],
   "source": [
    "existem_nulos = df[\"n_p_ecg_p_08\"].isna().any().any()\n",
    "\n",
    "if existem_nulos:\n",
    "    print(\"Existem valores nulos na coluna.\")\n",
    "else:\n",
    "    print(\"Não existem valores nulos na coluna.\")"
   ]
  },
  {
   "cell_type": "code",
   "execution_count": 297,
   "metadata": {},
   "outputs": [
    {
     "name": "stdout",
     "output_type": "stream",
     "text": [
      "moda = 0.0\n",
      "Não existem valores nulos na coluna.\n"
     ]
    }
   ],
   "source": [
    "moda = df[\"n_p_ecg_p_08\"].mode().values[0]\n",
    "print(\"moda =\",moda)\n",
    "df[\"n_p_ecg_p_08\"].fillna(moda, inplace=True)\n",
    "existem_nulos = df[\"n_p_ecg_p_08\"].isna().any().any()\n",
    "\n",
    "if existem_nulos:\n",
    "    print(\"Existem valores nulos na coluna.\")\n",
    "else:\n",
    "    print(\"Não existem valores nulos na coluna.\")"
   ]
  },
  {
   "cell_type": "code",
   "execution_count": 298,
   "metadata": {},
   "outputs": [
    {
     "name": "stdout",
     "output_type": "stream",
     "text": [
      "Existem valores nulos na coluna.\n"
     ]
    }
   ],
   "source": [
    "existem_nulos = df[\"n_p_ecg_p_09\"].isna().any().any()\n",
    "\n",
    "if existem_nulos:\n",
    "    print(\"Existem valores nulos na coluna.\")\n",
    "else:\n",
    "    print(\"Não existem valores nulos na coluna.\")"
   ]
  },
  {
   "cell_type": "code",
   "execution_count": 299,
   "metadata": {},
   "outputs": [
    {
     "name": "stdout",
     "output_type": "stream",
     "text": [
      "moda = 0.0\n",
      "Não existem valores nulos na coluna.\n"
     ]
    }
   ],
   "source": [
    "moda = df[\"n_p_ecg_p_09\"].mode().values[0]\n",
    "print(\"moda =\",moda)\n",
    "df[\"n_p_ecg_p_09\"].fillna(moda, inplace=True)\n",
    "existem_nulos = df[\"n_p_ecg_p_09\"].isna().any().any()\n",
    "\n",
    "if existem_nulos:\n",
    "    print(\"Existem valores nulos na coluna.\")\n",
    "else:\n",
    "    print(\"Não existem valores nulos na coluna.\")"
   ]
  },
  {
   "cell_type": "code",
   "execution_count": 300,
   "metadata": {},
   "outputs": [
    {
     "name": "stdout",
     "output_type": "stream",
     "text": [
      "Existem valores nulos na coluna.\n"
     ]
    }
   ],
   "source": [
    "existem_nulos = df[\"n_p_ecg_p_10\"].isna().any().any()\n",
    "\n",
    "if existem_nulos:\n",
    "    print(\"Existem valores nulos na coluna.\")\n",
    "else:\n",
    "    print(\"Não existem valores nulos na coluna.\")"
   ]
  },
  {
   "cell_type": "code",
   "execution_count": 301,
   "metadata": {},
   "outputs": [
    {
     "name": "stdout",
     "output_type": "stream",
     "text": [
      "moda = 0.0\n",
      "Não existem valores nulos na coluna.\n"
     ]
    }
   ],
   "source": [
    "moda = df[\"n_p_ecg_p_10\"].mode().values[0]\n",
    "print(\"moda =\",moda)\n",
    "df[\"n_p_ecg_p_10\"].fillna(moda, inplace=True)\n",
    "existem_nulos = df[\"n_p_ecg_p_10\"].isna().any().any()\n",
    "\n",
    "if existem_nulos:\n",
    "    print(\"Existem valores nulos na coluna.\")\n",
    "else:\n",
    "    print(\"Não existem valores nulos na coluna.\")"
   ]
  },
  {
   "cell_type": "code",
   "execution_count": 302,
   "metadata": {},
   "outputs": [
    {
     "name": "stdout",
     "output_type": "stream",
     "text": [
      "Existem valores nulos na coluna.\n"
     ]
    }
   ],
   "source": [
    "existem_nulos = df[\"n_p_ecg_p_11\"].isna().any().any()\n",
    "\n",
    "if existem_nulos:\n",
    "    print(\"Existem valores nulos na coluna.\")\n",
    "else:\n",
    "    print(\"Não existem valores nulos na coluna.\")"
   ]
  },
  {
   "cell_type": "code",
   "execution_count": 303,
   "metadata": {},
   "outputs": [
    {
     "name": "stdout",
     "output_type": "stream",
     "text": [
      "moda = 0.0\n",
      "Não existem valores nulos na coluna.\n"
     ]
    }
   ],
   "source": [
    "moda = df[\"n_p_ecg_p_11\"].mode().values[0]\n",
    "print(\"moda =\",moda)\n",
    "df[\"n_p_ecg_p_11\"].fillna(moda, inplace=True)\n",
    "existem_nulos = df[\"n_p_ecg_p_11\"].isna().any().any()\n",
    "\n",
    "if existem_nulos:\n",
    "    print(\"Existem valores nulos na coluna.\")\n",
    "else:\n",
    "    print(\"Não existem valores nulos na coluna.\")"
   ]
  },
  {
   "cell_type": "code",
   "execution_count": 304,
   "metadata": {},
   "outputs": [
    {
     "name": "stdout",
     "output_type": "stream",
     "text": [
      "Existem valores nulos na coluna.\n"
     ]
    }
   ],
   "source": [
    "existem_nulos = df[\"n_p_ecg_p_12\"].isna().any().any()\n",
    "\n",
    "if existem_nulos:\n",
    "    print(\"Existem valores nulos na coluna.\")\n",
    "else:\n",
    "    print(\"Não existem valores nulos na coluna.\")"
   ]
  },
  {
   "cell_type": "code",
   "execution_count": 305,
   "metadata": {},
   "outputs": [
    {
     "name": "stdout",
     "output_type": "stream",
     "text": [
      "moda = 0.0\n",
      "Não existem valores nulos na coluna.\n"
     ]
    }
   ],
   "source": [
    "moda = df[\"n_p_ecg_p_12\"].mode().values[0]\n",
    "print(\"moda =\",moda)\n",
    "df[\"n_p_ecg_p_12\"].fillna(moda, inplace=True)\n",
    "existem_nulos = df[\"n_p_ecg_p_12\"].isna().any().any()\n",
    "\n",
    "if existem_nulos:\n",
    "    print(\"Existem valores nulos na coluna.\")\n",
    "else:\n",
    "    print(\"Não existem valores nulos na coluna.\")"
   ]
  },
  {
   "cell_type": "code",
   "execution_count": 306,
   "metadata": {},
   "outputs": [
    {
     "name": "stdout",
     "output_type": "stream",
     "text": [
      "Existem valores nulos na coluna.\n"
     ]
    }
   ],
   "source": [
    "existem_nulos = df[\"fibr_ter_01\"].isna().any().any()\n",
    "\n",
    "if existem_nulos:\n",
    "    print(\"Existem valores nulos na coluna.\")\n",
    "else:\n",
    "    print(\"Não existem valores nulos na coluna.\")"
   ]
  },
  {
   "cell_type": "code",
   "execution_count": 307,
   "metadata": {},
   "outputs": [
    {
     "name": "stdout",
     "output_type": "stream",
     "text": [
      "moda = 0.0\n",
      "Não existem valores nulos na coluna.\n"
     ]
    }
   ],
   "source": [
    "moda = df[\"fibr_ter_01\"].mode().values[0]\n",
    "print(\"moda =\",moda)\n",
    "df[\"fibr_ter_01\"].fillna(moda, inplace=True)\n",
    "existem_nulos = df[\"fibr_ter_01\"].isna().any().any()\n",
    "\n",
    "if existem_nulos:\n",
    "    print(\"Existem valores nulos na coluna.\")\n",
    "else:\n",
    "    print(\"Não existem valores nulos na coluna.\")"
   ]
  },
  {
   "cell_type": "code",
   "execution_count": 308,
   "metadata": {},
   "outputs": [
    {
     "name": "stdout",
     "output_type": "stream",
     "text": [
      "Existem valores nulos na coluna.\n"
     ]
    }
   ],
   "source": [
    "existem_nulos = df[\"fibr_ter_02\"].isna().any().any()\n",
    "\n",
    "if existem_nulos:\n",
    "    print(\"Existem valores nulos na coluna.\")\n",
    "else:\n",
    "    print(\"Não existem valores nulos na coluna.\")"
   ]
  },
  {
   "cell_type": "code",
   "execution_count": 309,
   "metadata": {},
   "outputs": [
    {
     "name": "stdout",
     "output_type": "stream",
     "text": [
      "moda = 0.0\n",
      "Não existem valores nulos na coluna.\n"
     ]
    }
   ],
   "source": [
    "moda = df[\"fibr_ter_02\"].mode().values[0]\n",
    "print(\"moda =\",moda)\n",
    "df[\"fibr_ter_02\"].fillna(moda, inplace=True)\n",
    "existem_nulos = df[\"fibr_ter_02\"].isna().any().any()\n",
    "\n",
    "if existem_nulos:\n",
    "    print(\"Existem valores nulos na coluna.\")\n",
    "else:\n",
    "    print(\"Não existem valores nulos na coluna.\")"
   ]
  },
  {
   "cell_type": "code",
   "execution_count": 310,
   "metadata": {},
   "outputs": [
    {
     "name": "stdout",
     "output_type": "stream",
     "text": [
      "Existem valores nulos na coluna.\n"
     ]
    }
   ],
   "source": [
    "existem_nulos = df[\"fibr_ter_03\"].isna().any().any()\n",
    "\n",
    "if existem_nulos:\n",
    "    print(\"Existem valores nulos na coluna.\")\n",
    "else:\n",
    "    print(\"Não existem valores nulos na coluna.\")"
   ]
  },
  {
   "cell_type": "code",
   "execution_count": 311,
   "metadata": {},
   "outputs": [
    {
     "name": "stdout",
     "output_type": "stream",
     "text": [
      "moda = 0.0\n",
      "Não existem valores nulos na coluna.\n"
     ]
    }
   ],
   "source": [
    "moda = df[\"fibr_ter_03\"].mode().values[0]\n",
    "print(\"moda =\",moda)\n",
    "df[\"fibr_ter_03\"].fillna(moda, inplace=True)\n",
    "existem_nulos = df[\"fibr_ter_03\"].isna().any().any()\n",
    "\n",
    "if existem_nulos:\n",
    "    print(\"Existem valores nulos na coluna.\")\n",
    "else:\n",
    "    print(\"Não existem valores nulos na coluna.\")"
   ]
  },
  {
   "cell_type": "code",
   "execution_count": 312,
   "metadata": {},
   "outputs": [
    {
     "name": "stdout",
     "output_type": "stream",
     "text": [
      "Existem valores nulos na coluna.\n"
     ]
    }
   ],
   "source": [
    "existem_nulos = df[\"fibr_ter_05\"].isna().any().any()\n",
    "\n",
    "if existem_nulos:\n",
    "    print(\"Existem valores nulos na coluna.\")\n",
    "else:\n",
    "    print(\"Não existem valores nulos na coluna.\")"
   ]
  },
  {
   "cell_type": "code",
   "execution_count": 313,
   "metadata": {},
   "outputs": [
    {
     "name": "stdout",
     "output_type": "stream",
     "text": [
      "moda = 0.0\n",
      "Não existem valores nulos na coluna.\n"
     ]
    }
   ],
   "source": [
    "moda = df[\"fibr_ter_05\"].mode().values[0]\n",
    "print(\"moda =\",moda)\n",
    "df[\"fibr_ter_05\"].fillna(moda, inplace=True)\n",
    "existem_nulos = df[\"fibr_ter_05\"].isna().any().any()\n",
    "\n",
    "if existem_nulos:\n",
    "    print(\"Existem valores nulos na coluna.\")\n",
    "else:\n",
    "    print(\"Não existem valores nulos na coluna.\")"
   ]
  },
  {
   "cell_type": "code",
   "execution_count": 314,
   "metadata": {},
   "outputs": [
    {
     "name": "stdout",
     "output_type": "stream",
     "text": [
      "Existem valores nulos na coluna.\n"
     ]
    }
   ],
   "source": [
    "existem_nulos = df[\"fibr_ter_06\"].isna().any().any()\n",
    "\n",
    "if existem_nulos:\n",
    "    print(\"Existem valores nulos na coluna.\")\n",
    "else:\n",
    "    print(\"Não existem valores nulos na coluna.\")"
   ]
  },
  {
   "cell_type": "code",
   "execution_count": 315,
   "metadata": {},
   "outputs": [
    {
     "name": "stdout",
     "output_type": "stream",
     "text": [
      "moda = 0.0\n",
      "Não existem valores nulos na coluna.\n"
     ]
    }
   ],
   "source": [
    "moda = df[\"fibr_ter_06\"].mode().values[0]\n",
    "print(\"moda =\",moda)\n",
    "df[\"fibr_ter_06\"].fillna(moda, inplace=True)\n",
    "existem_nulos = df[\"fibr_ter_06\"].isna().any().any()\n",
    "\n",
    "if existem_nulos:\n",
    "    print(\"Existem valores nulos na coluna.\")\n",
    "else:\n",
    "    print(\"Não existem valores nulos na coluna.\")"
   ]
  },
  {
   "cell_type": "code",
   "execution_count": 316,
   "metadata": {},
   "outputs": [
    {
     "name": "stdout",
     "output_type": "stream",
     "text": [
      "Existem valores nulos na coluna.\n"
     ]
    }
   ],
   "source": [
    "existem_nulos = df[\"fibr_ter_07\"].isna().any().any()\n",
    "\n",
    "if existem_nulos:\n",
    "    print(\"Existem valores nulos na coluna.\")\n",
    "else:\n",
    "    print(\"Não existem valores nulos na coluna.\")"
   ]
  },
  {
   "cell_type": "code",
   "execution_count": 317,
   "metadata": {},
   "outputs": [
    {
     "name": "stdout",
     "output_type": "stream",
     "text": [
      "moda = 0.0\n",
      "Não existem valores nulos na coluna.\n"
     ]
    }
   ],
   "source": [
    "moda = df[\"fibr_ter_07\"].mode().values[0]\n",
    "print(\"moda =\",moda)\n",
    "df[\"fibr_ter_07\"].fillna(moda, inplace=True)\n",
    "existem_nulos = df[\"fibr_ter_07\"].isna().any().any()\n",
    "\n",
    "if existem_nulos:\n",
    "    print(\"Existem valores nulos na coluna.\")\n",
    "else:\n",
    "    print(\"Não existem valores nulos na coluna.\")"
   ]
  },
  {
   "cell_type": "code",
   "execution_count": 318,
   "metadata": {},
   "outputs": [
    {
     "name": "stdout",
     "output_type": "stream",
     "text": [
      "Existem valores nulos na coluna.\n"
     ]
    }
   ],
   "source": [
    "existem_nulos = df[\"fibr_ter_08\"].isna().any().any()\n",
    "\n",
    "if existem_nulos:\n",
    "    print(\"Existem valores nulos na coluna.\")\n",
    "else:\n",
    "    print(\"Não existem valores nulos na coluna.\")"
   ]
  },
  {
   "cell_type": "code",
   "execution_count": 319,
   "metadata": {},
   "outputs": [
    {
     "name": "stdout",
     "output_type": "stream",
     "text": [
      "moda = 0.0\n",
      "Não existem valores nulos na coluna.\n"
     ]
    }
   ],
   "source": [
    "moda = df[\"fibr_ter_08\"].mode().values[0]\n",
    "print(\"moda =\",moda)\n",
    "df[\"fibr_ter_08\"].fillna(moda, inplace=True)\n",
    "existem_nulos = df[\"fibr_ter_08\"].isna().any().any()\n",
    "\n",
    "if existem_nulos:\n",
    "    print(\"Existem valores nulos na coluna.\")\n",
    "else:\n",
    "    print(\"Não existem valores nulos na coluna.\")"
   ]
  },
  {
   "cell_type": "code",
   "execution_count": 329,
   "metadata": {},
   "outputs": [
    {
     "name": "stdout",
     "output_type": "stream",
     "text": [
      "Existem valores nulos na coluna.\n"
     ]
    }
   ],
   "source": [
    "existem_nulos = df[\"LID_S_n\"].isna().any().any()\n",
    "\n",
    "if existem_nulos:\n",
    "    print(\"Existem valores nulos na coluna.\")\n",
    "else:\n",
    "    print(\"Não existem valores nulos na coluna.\")"
   ]
  },
  {
   "cell_type": "code",
   "execution_count": 330,
   "metadata": {},
   "outputs": [
    {
     "name": "stdout",
     "output_type": "stream",
     "text": [
      "moda = 0.0\n",
      "Não existem valores nulos na coluna.\n"
     ]
    }
   ],
   "source": [
    "moda = df[\"LID_S_n\"].mode().values[0]\n",
    "print(\"moda =\",moda)\n",
    "df[\"LID_S_n\"].fillna(moda, inplace=True)\n",
    "existem_nulos = df[\"LID_S_n\"].isna().any().any()\n",
    "\n",
    "if existem_nulos:\n",
    "    print(\"Existem valores nulos na coluna.\")\n",
    "else:\n",
    "    print(\"Não existem valores nulos na coluna.\")"
   ]
  },
  {
   "cell_type": "code",
   "execution_count": 331,
   "metadata": {},
   "outputs": [
    {
     "name": "stdout",
     "output_type": "stream",
     "text": [
      "Existem valores nulos na coluna.\n"
     ]
    }
   ],
   "source": [
    "existem_nulos = df[\"B_BLOK_S_n\"].isna().any().any()\n",
    "\n",
    "if existem_nulos:\n",
    "    print(\"Existem valores nulos na coluna.\")\n",
    "else:\n",
    "    print(\"Não existem valores nulos na coluna.\")"
   ]
  },
  {
   "cell_type": "code",
   "execution_count": 332,
   "metadata": {},
   "outputs": [
    {
     "name": "stdout",
     "output_type": "stream",
     "text": [
      "moda = 0.0\n",
      "Não existem valores nulos na coluna.\n"
     ]
    }
   ],
   "source": [
    "moda = df[\"B_BLOK_S_n\"].mode().values[0]\n",
    "print(\"moda =\",moda)\n",
    "df[\"B_BLOK_S_n\"].fillna(moda, inplace=True)\n",
    "existem_nulos = df[\"B_BLOK_S_n\"].isna().any().any()\n",
    "\n",
    "if existem_nulos:\n",
    "    print(\"Existem valores nulos na coluna.\")\n",
    "else:\n",
    "    print(\"Não existem valores nulos na coluna.\")"
   ]
  },
  {
   "cell_type": "code",
   "execution_count": 333,
   "metadata": {},
   "outputs": [
    {
     "name": "stdout",
     "output_type": "stream",
     "text": [
      "Existem valores nulos na coluna.\n"
     ]
    }
   ],
   "source": [
    "existem_nulos = df[\"ANT_CA_S_n\"].isna().any().any()\n",
    "\n",
    "if existem_nulos:\n",
    "    print(\"Existem valores nulos na coluna.\")\n",
    "else:\n",
    "    print(\"Não existem valores nulos na coluna.\")"
   ]
  },
  {
   "cell_type": "code",
   "execution_count": 334,
   "metadata": {},
   "outputs": [
    {
     "name": "stdout",
     "output_type": "stream",
     "text": [
      "moda = 1.0\n",
      "Não existem valores nulos na coluna.\n"
     ]
    }
   ],
   "source": [
    "moda = df[\"ANT_CA_S_n\"].mode().values[0]\n",
    "print(\"moda =\",moda)\n",
    "df[\"ANT_CA_S_n\"].fillna(moda, inplace=True)\n",
    "existem_nulos = df[\"ANT_CA_S_n\"].isna().any().any()\n",
    "\n",
    "if existem_nulos:\n",
    "    print(\"Existem valores nulos na coluna.\")\n",
    "else:\n",
    "    print(\"Não existem valores nulos na coluna.\")"
   ]
  },
  {
   "cell_type": "code",
   "execution_count": 335,
   "metadata": {},
   "outputs": [
    {
     "name": "stdout",
     "output_type": "stream",
     "text": [
      "Existem valores nulos na coluna.\n"
     ]
    }
   ],
   "source": [
    "existem_nulos = df[\"GEPAR_S_n\"].isna().any().any()\n",
    "\n",
    "if existem_nulos:\n",
    "    print(\"Existem valores nulos na coluna.\")\n",
    "else:\n",
    "    print(\"Não existem valores nulos na coluna.\")"
   ]
  },
  {
   "cell_type": "code",
   "execution_count": 336,
   "metadata": {},
   "outputs": [
    {
     "name": "stdout",
     "output_type": "stream",
     "text": [
      "moda = 1.0\n",
      "Não existem valores nulos na coluna.\n"
     ]
    }
   ],
   "source": [
    "moda = df[\"GEPAR_S_n\"].mode().values[0]\n",
    "print(\"moda =\",moda)\n",
    "df[\"GEPAR_S_n\"].fillna(moda, inplace=True)\n",
    "existem_nulos = df[\"GEPAR_S_n\"].isna().any().any()\n",
    "\n",
    "if existem_nulos:\n",
    "    print(\"Existem valores nulos na coluna.\")\n",
    "else:\n",
    "    print(\"Não existem valores nulos na coluna.\")"
   ]
  },
  {
   "cell_type": "code",
   "execution_count": 337,
   "metadata": {},
   "outputs": [
    {
     "name": "stdout",
     "output_type": "stream",
     "text": [
      "Existem valores nulos na coluna.\n"
     ]
    }
   ],
   "source": [
    "existem_nulos = df[\"ASP_S_n\"].isna().any().any()\n",
    "\n",
    "if existem_nulos:\n",
    "    print(\"Existem valores nulos na coluna.\")\n",
    "else:\n",
    "    print(\"Não existem valores nulos na coluna.\")"
   ]
  },
  {
   "cell_type": "code",
   "execution_count": 338,
   "metadata": {},
   "outputs": [
    {
     "name": "stdout",
     "output_type": "stream",
     "text": [
      "moda = 1.0\n",
      "Não existem valores nulos na coluna.\n"
     ]
    }
   ],
   "source": [
    "moda = df[\"ASP_S_n\"].mode().values[0]\n",
    "print(\"moda =\",moda)\n",
    "df[\"ASP_S_n\"].fillna(moda, inplace=True)\n",
    "existem_nulos = df[\"ASP_S_n\"].isna().any().any()\n",
    "\n",
    "if existem_nulos:\n",
    "    print(\"Existem valores nulos na coluna.\")\n",
    "else:\n",
    "    print(\"Não existem valores nulos na coluna.\")"
   ]
  },
  {
   "cell_type": "code",
   "execution_count": 339,
   "metadata": {},
   "outputs": [
    {
     "name": "stdout",
     "output_type": "stream",
     "text": [
      "Existem valores nulos na coluna.\n"
     ]
    }
   ],
   "source": [
    "existem_nulos = df[\"TIKL_S_n\"].isna().any().any()\n",
    "\n",
    "if existem_nulos:\n",
    "    print(\"Existem valores nulos na coluna.\")\n",
    "else:\n",
    "    print(\"Não existem valores nulos na coluna.\")"
   ]
  },
  {
   "cell_type": "code",
   "execution_count": 340,
   "metadata": {},
   "outputs": [
    {
     "name": "stdout",
     "output_type": "stream",
     "text": [
      "moda = 0.0\n",
      "Não existem valores nulos na coluna.\n"
     ]
    }
   ],
   "source": [
    "moda = df[\"TIKL_S_n\"].mode().values[0]\n",
    "print(\"moda =\",moda)\n",
    "df[\"TIKL_S_n\"].fillna(moda, inplace=True)\n",
    "existem_nulos = df[\"TIKL_S_n\"].isna().any().any()\n",
    "\n",
    "if existem_nulos:\n",
    "    print(\"Existem valores nulos na coluna.\")\n",
    "else:\n",
    "    print(\"Não existem valores nulos na coluna.\")"
   ]
  },
  {
   "cell_type": "code",
   "execution_count": 341,
   "metadata": {},
   "outputs": [
    {
     "name": "stdout",
     "output_type": "stream",
     "text": [
      "Existem valores nulos na coluna.\n"
     ]
    }
   ],
   "source": [
    "existem_nulos = df[\"TRENT_S_n\"].isna().any().any()\n",
    "\n",
    "if existem_nulos:\n",
    "    print(\"Existem valores nulos na coluna.\")\n",
    "else:\n",
    "    print(\"Não existem valores nulos na coluna.\")"
   ]
  },
  {
   "cell_type": "code",
   "execution_count": 342,
   "metadata": {},
   "outputs": [
    {
     "name": "stdout",
     "output_type": "stream",
     "text": [
      "moda = 0.0\n",
      "Não existem valores nulos na coluna.\n"
     ]
    }
   ],
   "source": [
    "moda = df[\"TRENT_S_n\"].mode().values[0]\n",
    "print(\"moda =\",moda)\n",
    "df[\"TRENT_S_n\"].fillna(moda, inplace=True)\n",
    "existem_nulos = df[\"TRENT_S_n\"].isna().any().any()\n",
    "\n",
    "if existem_nulos:\n",
    "    print(\"Existem valores nulos na coluna.\")\n",
    "else:\n",
    "    print(\"Não existem valores nulos na coluna.\")"
   ]
  },
  {
   "cell_type": "code",
   "execution_count": 343,
   "metadata": {},
   "outputs": [
    {
     "name": "stdout",
     "output_type": "stream",
     "text": [
      "Existem valores nulos na coluna.\n"
     ]
    }
   ],
   "source": [
    "existem_nulos = df[\"R_AB_1_n\"].isna().any().any()\n",
    "\n",
    "if existem_nulos:\n",
    "    print(\"Existem valores nulos na coluna.\")\n",
    "else:\n",
    "    print(\"Não existem valores nulos na coluna.\")"
   ]
  },
  {
   "cell_type": "code",
   "execution_count": 344,
   "metadata": {},
   "outputs": [
    {
     "name": "stdout",
     "output_type": "stream",
     "text": [
      "moda = 0.0\n",
      "Não existem valores nulos na coluna.\n"
     ]
    }
   ],
   "source": [
    "moda = df[\"R_AB_1_n\"].mode().values[0]\n",
    "print(\"moda =\",moda)\n",
    "df[\"R_AB_1_n\"].fillna(moda, inplace=True)\n",
    "existem_nulos = df[\"R_AB_1_n\"].isna().any().any()\n",
    "\n",
    "if existem_nulos:\n",
    "    print(\"Existem valores nulos na coluna.\")\n",
    "else:\n",
    "    print(\"Não existem valores nulos na coluna.\")"
   ]
  },
  {
   "cell_type": "code",
   "execution_count": 345,
   "metadata": {},
   "outputs": [
    {
     "name": "stdout",
     "output_type": "stream",
     "text": [
      "Existem valores nulos na coluna.\n"
     ]
    }
   ],
   "source": [
    "existem_nulos = df[\"NA_R_1_n\"].isna().any().any()\n",
    "\n",
    "if existem_nulos:\n",
    "    print(\"Existem valores nulos na coluna.\")\n",
    "else:\n",
    "    print(\"Não existem valores nulos na coluna.\")"
   ]
  },
  {
   "cell_type": "code",
   "execution_count": 346,
   "metadata": {},
   "outputs": [
    {
     "name": "stdout",
     "output_type": "stream",
     "text": [
      "moda = 0.0\n",
      "Não existem valores nulos na coluna.\n"
     ]
    }
   ],
   "source": [
    "moda = df[\"NA_R_1_n\"].mode().values[0]\n",
    "print(\"moda =\",moda)\n",
    "df[\"NA_R_1_n\"].fillna(moda, inplace=True)\n",
    "existem_nulos = df[\"NA_R_1_n\"].isna().any().any()\n",
    "\n",
    "if existem_nulos:\n",
    "    print(\"Existem valores nulos na coluna.\")\n",
    "else:\n",
    "    print(\"Não existem valores nulos na coluna.\")"
   ]
  },
  {
   "cell_type": "code",
   "execution_count": 347,
   "metadata": {},
   "outputs": [
    {
     "name": "stdout",
     "output_type": "stream",
     "text": [
      "Existem valores nulos na coluna.\n"
     ]
    }
   ],
   "source": [
    "existem_nulos = df[\"NOT_NA_1_n\"].isna().any().any()\n",
    "\n",
    "if existem_nulos:\n",
    "    print(\"Existem valores nulos na coluna.\")\n",
    "else:\n",
    "    print(\"Não existem valores nulos na coluna.\")"
   ]
  },
  {
   "cell_type": "code",
   "execution_count": 348,
   "metadata": {},
   "outputs": [
    {
     "name": "stdout",
     "output_type": "stream",
     "text": [
      "moda = 0.0\n",
      "Não existem valores nulos na coluna.\n"
     ]
    }
   ],
   "source": [
    "moda = df[\"NOT_NA_1_n\"].mode().values[0]\n",
    "print(\"moda =\",moda)\n",
    "df[\"NOT_NA_1_n\"].fillna(moda, inplace=True)\n",
    "existem_nulos = df[\"NOT_NA_1_n\"].isna().any().any()\n",
    "\n",
    "if existem_nulos:\n",
    "    print(\"Existem valores nulos na coluna.\")\n",
    "else:\n",
    "    print(\"Não existem valores nulos na coluna.\")"
   ]
  },
  {
   "cell_type": "code",
   "execution_count": 349,
   "metadata": {},
   "outputs": [
    {
     "name": "stdout",
     "output_type": "stream",
     "text": [
      "Existem valores nulos na coluna.\n"
     ]
    }
   ],
   "source": [
    "existem_nulos = df[\"R_AB_2_n\"].isna().any().any()\n",
    "\n",
    "if existem_nulos:\n",
    "    print(\"Existem valores nulos na coluna.\")\n",
    "else:\n",
    "    print(\"Não existem valores nulos na coluna.\")"
   ]
  },
  {
   "cell_type": "code",
   "execution_count": 350,
   "metadata": {},
   "outputs": [
    {
     "name": "stdout",
     "output_type": "stream",
     "text": [
      "moda = 0.0\n",
      "Não existem valores nulos na coluna.\n"
     ]
    }
   ],
   "source": [
    "moda = df[\"R_AB_2_n\"].mode().values[0]\n",
    "print(\"moda =\",moda)\n",
    "df[\"R_AB_2_n\"].fillna(moda, inplace=True)\n",
    "existem_nulos = df[\"R_AB_2_n\"].isna().any().any()\n",
    "\n",
    "if existem_nulos:\n",
    "    print(\"Existem valores nulos na coluna.\")\n",
    "else:\n",
    "    print(\"Não existem valores nulos na coluna.\")"
   ]
  },
  {
   "cell_type": "code",
   "execution_count": 351,
   "metadata": {},
   "outputs": [
    {
     "name": "stdout",
     "output_type": "stream",
     "text": [
      "Existem valores nulos na coluna.\n"
     ]
    }
   ],
   "source": [
    "existem_nulos = df[\"NA_R_2_n\"].isna().any().any()\n",
    "\n",
    "if existem_nulos:\n",
    "    print(\"Existem valores nulos na coluna.\")\n",
    "else:\n",
    "    print(\"Não existem valores nulos na coluna.\")"
   ]
  },
  {
   "cell_type": "code",
   "execution_count": 352,
   "metadata": {},
   "outputs": [
    {
     "name": "stdout",
     "output_type": "stream",
     "text": [
      "moda = 0.0\n",
      "Não existem valores nulos na coluna.\n"
     ]
    }
   ],
   "source": [
    "moda = df[\"NA_R_2_n\"].mode().values[0]\n",
    "print(\"moda =\",moda)\n",
    "df[\"NA_R_2_n\"].fillna(moda, inplace=True)\n",
    "existem_nulos = df[\"NA_R_2_n\"].isna().any().any()\n",
    "\n",
    "if existem_nulos:\n",
    "    print(\"Existem valores nulos na coluna.\")\n",
    "else:\n",
    "    print(\"Não existem valores nulos na coluna.\")"
   ]
  },
  {
   "cell_type": "code",
   "execution_count": 353,
   "metadata": {},
   "outputs": [
    {
     "name": "stdout",
     "output_type": "stream",
     "text": [
      "Existem valores nulos na coluna.\n"
     ]
    }
   ],
   "source": [
    "existem_nulos = df[\"NOT_NA_2_n\"].isna().any().any()\n",
    "\n",
    "if existem_nulos:\n",
    "    print(\"Existem valores nulos na coluna.\")\n",
    "else:\n",
    "    print(\"Não existem valores nulos na coluna.\")"
   ]
  },
  {
   "cell_type": "code",
   "execution_count": 354,
   "metadata": {},
   "outputs": [
    {
     "name": "stdout",
     "output_type": "stream",
     "text": [
      "moda = 0.0\n",
      "Não existem valores nulos na coluna.\n"
     ]
    }
   ],
   "source": [
    "moda = df[\"NOT_NA_2_n\"].mode().values[0]\n",
    "print(\"moda =\",moda)\n",
    "df[\"NOT_NA_2_n\"].fillna(moda, inplace=True)\n",
    "existem_nulos = df[\"NOT_NA_2_n\"].isna().any().any()\n",
    "\n",
    "if existem_nulos:\n",
    "    print(\"Existem valores nulos na coluna.\")\n",
    "else:\n",
    "    print(\"Não existem valores nulos na coluna.\")"
   ]
  },
  {
   "cell_type": "code",
   "execution_count": 355,
   "metadata": {},
   "outputs": [
    {
     "name": "stdout",
     "output_type": "stream",
     "text": [
      "Existem valores nulos na coluna.\n"
     ]
    }
   ],
   "source": [
    "existem_nulos = df[\"NA_R_3_n\"].isna().any().any()\n",
    "\n",
    "if existem_nulos:\n",
    "    print(\"Existem valores nulos na coluna.\")\n",
    "else:\n",
    "    print(\"Não existem valores nulos na coluna.\")"
   ]
  },
  {
   "cell_type": "code",
   "execution_count": 356,
   "metadata": {},
   "outputs": [
    {
     "name": "stdout",
     "output_type": "stream",
     "text": [
      "moda = 0.0\n",
      "Não existem valores nulos na coluna.\n"
     ]
    }
   ],
   "source": [
    "moda = df[\"NA_R_3_n\"].mode().values[0]\n",
    "print(\"moda =\",moda)\n",
    "df[\"NA_R_3_n\"].fillna(moda, inplace=True)\n",
    "existem_nulos = df[\"NA_R_3_n\"].isna().any().any()\n",
    "\n",
    "if existem_nulos:\n",
    "    print(\"Existem valores nulos na coluna.\")\n",
    "else:\n",
    "    print(\"Não existem valores nulos na coluna.\")"
   ]
  },
  {
   "cell_type": "code",
   "execution_count": 357,
   "metadata": {},
   "outputs": [
    {
     "name": "stdout",
     "output_type": "stream",
     "text": [
      "Existem valores nulos na coluna.\n"
     ]
    }
   ],
   "source": [
    "existem_nulos = df[\"NOT_NA_3_n\"].isna().any().any()\n",
    "\n",
    "if existem_nulos:\n",
    "    print(\"Existem valores nulos na coluna.\")\n",
    "else:\n",
    "    print(\"Não existem valores nulos na coluna.\")"
   ]
  },
  {
   "cell_type": "code",
   "execution_count": 358,
   "metadata": {},
   "outputs": [
    {
     "name": "stdout",
     "output_type": "stream",
     "text": [
      "moda = 0.0\n",
      "Não existem valores nulos na coluna.\n"
     ]
    }
   ],
   "source": [
    "moda = df[\"NOT_NA_3_n\"].mode().values[0]\n",
    "print(\"moda =\",moda)\n",
    "df[\"NOT_NA_3_n\"].fillna(moda, inplace=True)\n",
    "existem_nulos = df[\"NOT_NA_3_n\"].isna().any().any()\n",
    "\n",
    "if existem_nulos:\n",
    "    print(\"Existem valores nulos na coluna.\")\n",
    "else:\n",
    "    print(\"Não existem valores nulos na coluna.\")"
   ]
  }
 ],
 "metadata": {
  "kernelspec": {
   "display_name": ".venv",
   "language": "python",
   "name": "python3"
  },
  "language_info": {
   "codemirror_mode": {
    "name": "ipython",
    "version": 3
   },
   "file_extension": ".py",
   "mimetype": "text/x-python",
   "name": "python",
   "nbconvert_exporter": "python",
   "pygments_lexer": "ipython3",
   "version": "3.11.4"
  }
 },
 "nbformat": 4,
 "nbformat_minor": 2
}
