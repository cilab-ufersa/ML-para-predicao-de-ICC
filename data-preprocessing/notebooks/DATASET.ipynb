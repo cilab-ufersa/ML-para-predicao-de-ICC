{
 "cells": [
  {
   "cell_type": "code",
   "execution_count": 1,
   "metadata": {},
   "outputs": [
    {
     "data": {
      "text/html": [
       "<div>\n",
       "<style scoped>\n",
       "    .dataframe tbody tr th:only-of-type {\n",
       "        vertical-align: middle;\n",
       "    }\n",
       "\n",
       "    .dataframe tbody tr th {\n",
       "        vertical-align: top;\n",
       "    }\n",
       "\n",
       "    .dataframe thead th {\n",
       "        text-align: right;\n",
       "    }\n",
       "</style>\n",
       "<table border=\"1\" class=\"dataframe\">\n",
       "  <thead>\n",
       "    <tr style=\"text-align: right;\">\n",
       "      <th></th>\n",
       "      <th>ID</th>\n",
       "      <th>AGE</th>\n",
       "      <th>SEX</th>\n",
       "      <th>INF_ANAM</th>\n",
       "      <th>STENOK_AN</th>\n",
       "      <th>FK_STENOK</th>\n",
       "      <th>IBS_POST</th>\n",
       "      <th>IBS_NASL</th>\n",
       "      <th>GB</th>\n",
       "      <th>SIM_GIPERT</th>\n",
       "      <th>...</th>\n",
       "      <th>JELUD_TAH</th>\n",
       "      <th>FIBR_JELUD</th>\n",
       "      <th>A_V_BLOK</th>\n",
       "      <th>OTEK_LANC</th>\n",
       "      <th>RAZRIV</th>\n",
       "      <th>DRESSLER</th>\n",
       "      <th>ZSN</th>\n",
       "      <th>REC_IM</th>\n",
       "      <th>P_IM_STEN</th>\n",
       "      <th>LET_IS</th>\n",
       "    </tr>\n",
       "  </thead>\n",
       "  <tbody>\n",
       "    <tr>\n",
       "      <th>0</th>\n",
       "      <td>1</td>\n",
       "      <td>77.0</td>\n",
       "      <td>1</td>\n",
       "      <td>2.0</td>\n",
       "      <td>1.0</td>\n",
       "      <td>1.0</td>\n",
       "      <td>2.0</td>\n",
       "      <td>NaN</td>\n",
       "      <td>3.0</td>\n",
       "      <td>0.0</td>\n",
       "      <td>...</td>\n",
       "      <td>0</td>\n",
       "      <td>0</td>\n",
       "      <td>0</td>\n",
       "      <td>0</td>\n",
       "      <td>0</td>\n",
       "      <td>0</td>\n",
       "      <td>0</td>\n",
       "      <td>0</td>\n",
       "      <td>0</td>\n",
       "      <td>0</td>\n",
       "    </tr>\n",
       "    <tr>\n",
       "      <th>1</th>\n",
       "      <td>2</td>\n",
       "      <td>55.0</td>\n",
       "      <td>1</td>\n",
       "      <td>1.0</td>\n",
       "      <td>0.0</td>\n",
       "      <td>0.0</td>\n",
       "      <td>0.0</td>\n",
       "      <td>0.0</td>\n",
       "      <td>0.0</td>\n",
       "      <td>0.0</td>\n",
       "      <td>...</td>\n",
       "      <td>0</td>\n",
       "      <td>0</td>\n",
       "      <td>0</td>\n",
       "      <td>0</td>\n",
       "      <td>0</td>\n",
       "      <td>0</td>\n",
       "      <td>0</td>\n",
       "      <td>0</td>\n",
       "      <td>0</td>\n",
       "      <td>0</td>\n",
       "    </tr>\n",
       "    <tr>\n",
       "      <th>2</th>\n",
       "      <td>3</td>\n",
       "      <td>52.0</td>\n",
       "      <td>1</td>\n",
       "      <td>0.0</td>\n",
       "      <td>0.0</td>\n",
       "      <td>0.0</td>\n",
       "      <td>2.0</td>\n",
       "      <td>NaN</td>\n",
       "      <td>2.0</td>\n",
       "      <td>0.0</td>\n",
       "      <td>...</td>\n",
       "      <td>0</td>\n",
       "      <td>0</td>\n",
       "      <td>0</td>\n",
       "      <td>0</td>\n",
       "      <td>0</td>\n",
       "      <td>0</td>\n",
       "      <td>0</td>\n",
       "      <td>0</td>\n",
       "      <td>0</td>\n",
       "      <td>0</td>\n",
       "    </tr>\n",
       "    <tr>\n",
       "      <th>3</th>\n",
       "      <td>4</td>\n",
       "      <td>68.0</td>\n",
       "      <td>0</td>\n",
       "      <td>0.0</td>\n",
       "      <td>0.0</td>\n",
       "      <td>0.0</td>\n",
       "      <td>2.0</td>\n",
       "      <td>NaN</td>\n",
       "      <td>2.0</td>\n",
       "      <td>0.0</td>\n",
       "      <td>...</td>\n",
       "      <td>0</td>\n",
       "      <td>0</td>\n",
       "      <td>0</td>\n",
       "      <td>0</td>\n",
       "      <td>0</td>\n",
       "      <td>0</td>\n",
       "      <td>1</td>\n",
       "      <td>0</td>\n",
       "      <td>0</td>\n",
       "      <td>0</td>\n",
       "    </tr>\n",
       "    <tr>\n",
       "      <th>4</th>\n",
       "      <td>5</td>\n",
       "      <td>60.0</td>\n",
       "      <td>1</td>\n",
       "      <td>0.0</td>\n",
       "      <td>0.0</td>\n",
       "      <td>0.0</td>\n",
       "      <td>2.0</td>\n",
       "      <td>NaN</td>\n",
       "      <td>3.0</td>\n",
       "      <td>0.0</td>\n",
       "      <td>...</td>\n",
       "      <td>0</td>\n",
       "      <td>0</td>\n",
       "      <td>0</td>\n",
       "      <td>0</td>\n",
       "      <td>0</td>\n",
       "      <td>0</td>\n",
       "      <td>0</td>\n",
       "      <td>0</td>\n",
       "      <td>0</td>\n",
       "      <td>0</td>\n",
       "    </tr>\n",
       "    <tr>\n",
       "      <th>...</th>\n",
       "      <td>...</td>\n",
       "      <td>...</td>\n",
       "      <td>...</td>\n",
       "      <td>...</td>\n",
       "      <td>...</td>\n",
       "      <td>...</td>\n",
       "      <td>...</td>\n",
       "      <td>...</td>\n",
       "      <td>...</td>\n",
       "      <td>...</td>\n",
       "      <td>...</td>\n",
       "      <td>...</td>\n",
       "      <td>...</td>\n",
       "      <td>...</td>\n",
       "      <td>...</td>\n",
       "      <td>...</td>\n",
       "      <td>...</td>\n",
       "      <td>...</td>\n",
       "      <td>...</td>\n",
       "      <td>...</td>\n",
       "      <td>...</td>\n",
       "    </tr>\n",
       "    <tr>\n",
       "      <th>1695</th>\n",
       "      <td>1696</td>\n",
       "      <td>77.0</td>\n",
       "      <td>0</td>\n",
       "      <td>0.0</td>\n",
       "      <td>4.0</td>\n",
       "      <td>2.0</td>\n",
       "      <td>1.0</td>\n",
       "      <td>NaN</td>\n",
       "      <td>2.0</td>\n",
       "      <td>0.0</td>\n",
       "      <td>...</td>\n",
       "      <td>0</td>\n",
       "      <td>0</td>\n",
       "      <td>1</td>\n",
       "      <td>0</td>\n",
       "      <td>1</td>\n",
       "      <td>0</td>\n",
       "      <td>0</td>\n",
       "      <td>0</td>\n",
       "      <td>0</td>\n",
       "      <td>3</td>\n",
       "    </tr>\n",
       "    <tr>\n",
       "      <th>1696</th>\n",
       "      <td>1697</td>\n",
       "      <td>70.0</td>\n",
       "      <td>0</td>\n",
       "      <td>0.0</td>\n",
       "      <td>6.0</td>\n",
       "      <td>2.0</td>\n",
       "      <td>1.0</td>\n",
       "      <td>NaN</td>\n",
       "      <td>2.0</td>\n",
       "      <td>0.0</td>\n",
       "      <td>...</td>\n",
       "      <td>0</td>\n",
       "      <td>0</td>\n",
       "      <td>0</td>\n",
       "      <td>0</td>\n",
       "      <td>0</td>\n",
       "      <td>0</td>\n",
       "      <td>0</td>\n",
       "      <td>0</td>\n",
       "      <td>0</td>\n",
       "      <td>1</td>\n",
       "    </tr>\n",
       "    <tr>\n",
       "      <th>1697</th>\n",
       "      <td>1698</td>\n",
       "      <td>55.0</td>\n",
       "      <td>1</td>\n",
       "      <td>3.0</td>\n",
       "      <td>6.0</td>\n",
       "      <td>2.0</td>\n",
       "      <td>2.0</td>\n",
       "      <td>NaN</td>\n",
       "      <td>0.0</td>\n",
       "      <td>0.0</td>\n",
       "      <td>...</td>\n",
       "      <td>0</td>\n",
       "      <td>0</td>\n",
       "      <td>0</td>\n",
       "      <td>0</td>\n",
       "      <td>0</td>\n",
       "      <td>0</td>\n",
       "      <td>0</td>\n",
       "      <td>1</td>\n",
       "      <td>0</td>\n",
       "      <td>6</td>\n",
       "    </tr>\n",
       "    <tr>\n",
       "      <th>1698</th>\n",
       "      <td>1699</td>\n",
       "      <td>79.0</td>\n",
       "      <td>0</td>\n",
       "      <td>2.0</td>\n",
       "      <td>2.0</td>\n",
       "      <td>2.0</td>\n",
       "      <td>1.0</td>\n",
       "      <td>NaN</td>\n",
       "      <td>2.0</td>\n",
       "      <td>0.0</td>\n",
       "      <td>...</td>\n",
       "      <td>0</td>\n",
       "      <td>0</td>\n",
       "      <td>0</td>\n",
       "      <td>1</td>\n",
       "      <td>0</td>\n",
       "      <td>0</td>\n",
       "      <td>0</td>\n",
       "      <td>0</td>\n",
       "      <td>0</td>\n",
       "      <td>1</td>\n",
       "    </tr>\n",
       "    <tr>\n",
       "      <th>1699</th>\n",
       "      <td>1700</td>\n",
       "      <td>63.0</td>\n",
       "      <td>1</td>\n",
       "      <td>2.0</td>\n",
       "      <td>NaN</td>\n",
       "      <td>NaN</td>\n",
       "      <td>NaN</td>\n",
       "      <td>NaN</td>\n",
       "      <td>2.0</td>\n",
       "      <td>0.0</td>\n",
       "      <td>...</td>\n",
       "      <td>0</td>\n",
       "      <td>0</td>\n",
       "      <td>0</td>\n",
       "      <td>0</td>\n",
       "      <td>0</td>\n",
       "      <td>0</td>\n",
       "      <td>0</td>\n",
       "      <td>0</td>\n",
       "      <td>0</td>\n",
       "      <td>1</td>\n",
       "    </tr>\n",
       "  </tbody>\n",
       "</table>\n",
       "<p>1700 rows × 124 columns</p>\n",
       "</div>"
      ],
      "text/plain": [
       "        ID   AGE  SEX  INF_ANAM  STENOK_AN  FK_STENOK  IBS_POST  IBS_NASL  \\\n",
       "0        1  77.0    1       2.0        1.0        1.0       2.0       NaN   \n",
       "1        2  55.0    1       1.0        0.0        0.0       0.0       0.0   \n",
       "2        3  52.0    1       0.0        0.0        0.0       2.0       NaN   \n",
       "3        4  68.0    0       0.0        0.0        0.0       2.0       NaN   \n",
       "4        5  60.0    1       0.0        0.0        0.0       2.0       NaN   \n",
       "...    ...   ...  ...       ...        ...        ...       ...       ...   \n",
       "1695  1696  77.0    0       0.0        4.0        2.0       1.0       NaN   \n",
       "1696  1697  70.0    0       0.0        6.0        2.0       1.0       NaN   \n",
       "1697  1698  55.0    1       3.0        6.0        2.0       2.0       NaN   \n",
       "1698  1699  79.0    0       2.0        2.0        2.0       1.0       NaN   \n",
       "1699  1700  63.0    1       2.0        NaN        NaN       NaN       NaN   \n",
       "\n",
       "       GB  SIM_GIPERT  ...  JELUD_TAH  FIBR_JELUD  A_V_BLOK  OTEK_LANC  \\\n",
       "0     3.0         0.0  ...          0           0         0          0   \n",
       "1     0.0         0.0  ...          0           0         0          0   \n",
       "2     2.0         0.0  ...          0           0         0          0   \n",
       "3     2.0         0.0  ...          0           0         0          0   \n",
       "4     3.0         0.0  ...          0           0         0          0   \n",
       "...   ...         ...  ...        ...         ...       ...        ...   \n",
       "1695  2.0         0.0  ...          0           0         1          0   \n",
       "1696  2.0         0.0  ...          0           0         0          0   \n",
       "1697  0.0         0.0  ...          0           0         0          0   \n",
       "1698  2.0         0.0  ...          0           0         0          1   \n",
       "1699  2.0         0.0  ...          0           0         0          0   \n",
       "\n",
       "      RAZRIV  DRESSLER  ZSN  REC_IM  P_IM_STEN  LET_IS  \n",
       "0          0         0    0       0          0       0  \n",
       "1          0         0    0       0          0       0  \n",
       "2          0         0    0       0          0       0  \n",
       "3          0         0    1       0          0       0  \n",
       "4          0         0    0       0          0       0  \n",
       "...      ...       ...  ...     ...        ...     ...  \n",
       "1695       1         0    0       0          0       3  \n",
       "1696       0         0    0       0          0       1  \n",
       "1697       0         0    0       1          0       6  \n",
       "1698       0         0    0       0          0       1  \n",
       "1699       0         0    0       0          0       1  \n",
       "\n",
       "[1700 rows x 124 columns]"
      ]
     },
     "execution_count": 1,
     "metadata": {},
     "output_type": "execute_result"
    }
   ],
   "source": [
    "import pandas as pd\n",
    "df = pd.read_csv('../notebooks/Myocardial infarction complications Database (1).csv')\n",
    "df.head(1700)\n",
    "\n"
   ]
  },
  {
   "cell_type": "code",
   "execution_count": 2,
   "metadata": {},
   "outputs": [
    {
     "name": "stdout",
     "output_type": "stream",
     "text": [
      "<class 'pandas.core.frame.DataFrame'>\n",
      "RangeIndex: 1700 entries, 0 to 1699\n",
      "Columns: 124 entries, ID to LET_IS\n",
      "dtypes: float64(110), int64(14)\n",
      "memory usage: 1.6 MB\n"
     ]
    }
   ],
   "source": [
    "df.info()"
   ]
  },
  {
   "cell_type": "markdown",
   "metadata": {},
   "source": [
    "#Colunas com mais de 90% de valores vazios e colunas referentes a outros tipos de complicações que não são o nosso foco no momento."
   ]
  },
  {
   "cell_type": "code",
   "execution_count": 3,
   "metadata": {},
   "outputs": [
    {
     "data": {
      "text/html": [
       "<div>\n",
       "<style scoped>\n",
       "    .dataframe tbody tr th:only-of-type {\n",
       "        vertical-align: middle;\n",
       "    }\n",
       "\n",
       "    .dataframe tbody tr th {\n",
       "        vertical-align: top;\n",
       "    }\n",
       "\n",
       "    .dataframe thead th {\n",
       "        text-align: right;\n",
       "    }\n",
       "</style>\n",
       "<table border=\"1\" class=\"dataframe\">\n",
       "  <thead>\n",
       "    <tr style=\"text-align: right;\">\n",
       "      <th></th>\n",
       "      <th>AGE</th>\n",
       "      <th>SEX</th>\n",
       "      <th>INF_ANAM</th>\n",
       "      <th>STENOK_AN</th>\n",
       "      <th>FK_STENOK</th>\n",
       "      <th>IBS_POST</th>\n",
       "      <th>GB</th>\n",
       "      <th>SIM_GIPERT</th>\n",
       "      <th>DLIT_AG</th>\n",
       "      <th>ZSN_A</th>\n",
       "      <th>...</th>\n",
       "      <th>NOT_NA_2_n</th>\n",
       "      <th>NOT_NA_3_n</th>\n",
       "      <th>LID_S_n</th>\n",
       "      <th>B_BLOK_S_n</th>\n",
       "      <th>ANT_CA_S_n</th>\n",
       "      <th>GEPAR_S_n</th>\n",
       "      <th>ASP_S_n</th>\n",
       "      <th>TIKL_S_n</th>\n",
       "      <th>TRENT_S_n</th>\n",
       "      <th>ZSN</th>\n",
       "    </tr>\n",
       "  </thead>\n",
       "  <tbody>\n",
       "    <tr>\n",
       "      <th>0</th>\n",
       "      <td>77.0</td>\n",
       "      <td>1</td>\n",
       "      <td>2.0</td>\n",
       "      <td>1.0</td>\n",
       "      <td>1.0</td>\n",
       "      <td>2.0</td>\n",
       "      <td>3.0</td>\n",
       "      <td>0.0</td>\n",
       "      <td>7.0</td>\n",
       "      <td>0.0</td>\n",
       "      <td>...</td>\n",
       "      <td>0.0</td>\n",
       "      <td>0.0</td>\n",
       "      <td>1.0</td>\n",
       "      <td>0.0</td>\n",
       "      <td>0.0</td>\n",
       "      <td>1.0</td>\n",
       "      <td>1.0</td>\n",
       "      <td>0.0</td>\n",
       "      <td>0.0</td>\n",
       "      <td>0</td>\n",
       "    </tr>\n",
       "    <tr>\n",
       "      <th>1</th>\n",
       "      <td>55.0</td>\n",
       "      <td>1</td>\n",
       "      <td>1.0</td>\n",
       "      <td>0.0</td>\n",
       "      <td>0.0</td>\n",
       "      <td>0.0</td>\n",
       "      <td>0.0</td>\n",
       "      <td>0.0</td>\n",
       "      <td>0.0</td>\n",
       "      <td>0.0</td>\n",
       "      <td>...</td>\n",
       "      <td>0.0</td>\n",
       "      <td>0.0</td>\n",
       "      <td>1.0</td>\n",
       "      <td>0.0</td>\n",
       "      <td>1.0</td>\n",
       "      <td>1.0</td>\n",
       "      <td>1.0</td>\n",
       "      <td>0.0</td>\n",
       "      <td>1.0</td>\n",
       "      <td>0</td>\n",
       "    </tr>\n",
       "    <tr>\n",
       "      <th>2</th>\n",
       "      <td>52.0</td>\n",
       "      <td>1</td>\n",
       "      <td>0.0</td>\n",
       "      <td>0.0</td>\n",
       "      <td>0.0</td>\n",
       "      <td>2.0</td>\n",
       "      <td>2.0</td>\n",
       "      <td>0.0</td>\n",
       "      <td>2.0</td>\n",
       "      <td>0.0</td>\n",
       "      <td>...</td>\n",
       "      <td>2.0</td>\n",
       "      <td>2.0</td>\n",
       "      <td>1.0</td>\n",
       "      <td>1.0</td>\n",
       "      <td>0.0</td>\n",
       "      <td>1.0</td>\n",
       "      <td>1.0</td>\n",
       "      <td>0.0</td>\n",
       "      <td>0.0</td>\n",
       "      <td>0</td>\n",
       "    </tr>\n",
       "    <tr>\n",
       "      <th>3</th>\n",
       "      <td>68.0</td>\n",
       "      <td>0</td>\n",
       "      <td>0.0</td>\n",
       "      <td>0.0</td>\n",
       "      <td>0.0</td>\n",
       "      <td>2.0</td>\n",
       "      <td>2.0</td>\n",
       "      <td>0.0</td>\n",
       "      <td>3.0</td>\n",
       "      <td>1.0</td>\n",
       "      <td>...</td>\n",
       "      <td>0.0</td>\n",
       "      <td>0.0</td>\n",
       "      <td>0.0</td>\n",
       "      <td>0.0</td>\n",
       "      <td>1.0</td>\n",
       "      <td>1.0</td>\n",
       "      <td>1.0</td>\n",
       "      <td>0.0</td>\n",
       "      <td>0.0</td>\n",
       "      <td>1</td>\n",
       "    </tr>\n",
       "    <tr>\n",
       "      <th>4</th>\n",
       "      <td>60.0</td>\n",
       "      <td>1</td>\n",
       "      <td>0.0</td>\n",
       "      <td>0.0</td>\n",
       "      <td>0.0</td>\n",
       "      <td>2.0</td>\n",
       "      <td>3.0</td>\n",
       "      <td>0.0</td>\n",
       "      <td>7.0</td>\n",
       "      <td>0.0</td>\n",
       "      <td>...</td>\n",
       "      <td>0.0</td>\n",
       "      <td>0.0</td>\n",
       "      <td>0.0</td>\n",
       "      <td>0.0</td>\n",
       "      <td>1.0</td>\n",
       "      <td>0.0</td>\n",
       "      <td>1.0</td>\n",
       "      <td>0.0</td>\n",
       "      <td>1.0</td>\n",
       "      <td>0</td>\n",
       "    </tr>\n",
       "    <tr>\n",
       "      <th>...</th>\n",
       "      <td>...</td>\n",
       "      <td>...</td>\n",
       "      <td>...</td>\n",
       "      <td>...</td>\n",
       "      <td>...</td>\n",
       "      <td>...</td>\n",
       "      <td>...</td>\n",
       "      <td>...</td>\n",
       "      <td>...</td>\n",
       "      <td>...</td>\n",
       "      <td>...</td>\n",
       "      <td>...</td>\n",
       "      <td>...</td>\n",
       "      <td>...</td>\n",
       "      <td>...</td>\n",
       "      <td>...</td>\n",
       "      <td>...</td>\n",
       "      <td>...</td>\n",
       "      <td>...</td>\n",
       "      <td>...</td>\n",
       "      <td>...</td>\n",
       "    </tr>\n",
       "    <tr>\n",
       "      <th>1695</th>\n",
       "      <td>77.0</td>\n",
       "      <td>0</td>\n",
       "      <td>0.0</td>\n",
       "      <td>4.0</td>\n",
       "      <td>2.0</td>\n",
       "      <td>1.0</td>\n",
       "      <td>2.0</td>\n",
       "      <td>0.0</td>\n",
       "      <td>7.0</td>\n",
       "      <td>0.0</td>\n",
       "      <td>...</td>\n",
       "      <td>NaN</td>\n",
       "      <td>NaN</td>\n",
       "      <td>0.0</td>\n",
       "      <td>0.0</td>\n",
       "      <td>0.0</td>\n",
       "      <td>0.0</td>\n",
       "      <td>0.0</td>\n",
       "      <td>0.0</td>\n",
       "      <td>0.0</td>\n",
       "      <td>0</td>\n",
       "    </tr>\n",
       "    <tr>\n",
       "      <th>1696</th>\n",
       "      <td>70.0</td>\n",
       "      <td>0</td>\n",
       "      <td>0.0</td>\n",
       "      <td>6.0</td>\n",
       "      <td>2.0</td>\n",
       "      <td>1.0</td>\n",
       "      <td>2.0</td>\n",
       "      <td>0.0</td>\n",
       "      <td>7.0</td>\n",
       "      <td>0.0</td>\n",
       "      <td>...</td>\n",
       "      <td>NaN</td>\n",
       "      <td>NaN</td>\n",
       "      <td>1.0</td>\n",
       "      <td>0.0</td>\n",
       "      <td>0.0</td>\n",
       "      <td>0.0</td>\n",
       "      <td>0.0</td>\n",
       "      <td>0.0</td>\n",
       "      <td>0.0</td>\n",
       "      <td>0</td>\n",
       "    </tr>\n",
       "    <tr>\n",
       "      <th>1697</th>\n",
       "      <td>55.0</td>\n",
       "      <td>1</td>\n",
       "      <td>3.0</td>\n",
       "      <td>6.0</td>\n",
       "      <td>2.0</td>\n",
       "      <td>2.0</td>\n",
       "      <td>0.0</td>\n",
       "      <td>0.0</td>\n",
       "      <td>0.0</td>\n",
       "      <td>0.0</td>\n",
       "      <td>...</td>\n",
       "      <td>0.0</td>\n",
       "      <td>0.0</td>\n",
       "      <td>0.0</td>\n",
       "      <td>1.0</td>\n",
       "      <td>0.0</td>\n",
       "      <td>1.0</td>\n",
       "      <td>1.0</td>\n",
       "      <td>0.0</td>\n",
       "      <td>0.0</td>\n",
       "      <td>0</td>\n",
       "    </tr>\n",
       "    <tr>\n",
       "      <th>1698</th>\n",
       "      <td>79.0</td>\n",
       "      <td>0</td>\n",
       "      <td>2.0</td>\n",
       "      <td>2.0</td>\n",
       "      <td>2.0</td>\n",
       "      <td>1.0</td>\n",
       "      <td>2.0</td>\n",
       "      <td>0.0</td>\n",
       "      <td>7.0</td>\n",
       "      <td>NaN</td>\n",
       "      <td>...</td>\n",
       "      <td>NaN</td>\n",
       "      <td>NaN</td>\n",
       "      <td>1.0</td>\n",
       "      <td>0.0</td>\n",
       "      <td>1.0</td>\n",
       "      <td>1.0</td>\n",
       "      <td>1.0</td>\n",
       "      <td>0.0</td>\n",
       "      <td>0.0</td>\n",
       "      <td>0</td>\n",
       "    </tr>\n",
       "    <tr>\n",
       "      <th>1699</th>\n",
       "      <td>63.0</td>\n",
       "      <td>1</td>\n",
       "      <td>2.0</td>\n",
       "      <td>NaN</td>\n",
       "      <td>NaN</td>\n",
       "      <td>NaN</td>\n",
       "      <td>2.0</td>\n",
       "      <td>0.0</td>\n",
       "      <td>NaN</td>\n",
       "      <td>4.0</td>\n",
       "      <td>...</td>\n",
       "      <td>NaN</td>\n",
       "      <td>NaN</td>\n",
       "      <td>0.0</td>\n",
       "      <td>0.0</td>\n",
       "      <td>0.0</td>\n",
       "      <td>0.0</td>\n",
       "      <td>0.0</td>\n",
       "      <td>0.0</td>\n",
       "      <td>0.0</td>\n",
       "      <td>0</td>\n",
       "    </tr>\n",
       "  </tbody>\n",
       "</table>\n",
       "<p>1700 rows × 110 columns</p>\n",
       "</div>"
      ],
      "text/plain": [
       "       AGE  SEX  INF_ANAM  STENOK_AN  FK_STENOK  IBS_POST   GB  SIM_GIPERT  \\\n",
       "0     77.0    1       2.0        1.0        1.0       2.0  3.0         0.0   \n",
       "1     55.0    1       1.0        0.0        0.0       0.0  0.0         0.0   \n",
       "2     52.0    1       0.0        0.0        0.0       2.0  2.0         0.0   \n",
       "3     68.0    0       0.0        0.0        0.0       2.0  2.0         0.0   \n",
       "4     60.0    1       0.0        0.0        0.0       2.0  3.0         0.0   \n",
       "...    ...  ...       ...        ...        ...       ...  ...         ...   \n",
       "1695  77.0    0       0.0        4.0        2.0       1.0  2.0         0.0   \n",
       "1696  70.0    0       0.0        6.0        2.0       1.0  2.0         0.0   \n",
       "1697  55.0    1       3.0        6.0        2.0       2.0  0.0         0.0   \n",
       "1698  79.0    0       2.0        2.0        2.0       1.0  2.0         0.0   \n",
       "1699  63.0    1       2.0        NaN        NaN       NaN  2.0         0.0   \n",
       "\n",
       "      DLIT_AG  ZSN_A  ...  NOT_NA_2_n  NOT_NA_3_n  LID_S_n  B_BLOK_S_n  \\\n",
       "0         7.0    0.0  ...         0.0         0.0      1.0         0.0   \n",
       "1         0.0    0.0  ...         0.0         0.0      1.0         0.0   \n",
       "2         2.0    0.0  ...         2.0         2.0      1.0         1.0   \n",
       "3         3.0    1.0  ...         0.0         0.0      0.0         0.0   \n",
       "4         7.0    0.0  ...         0.0         0.0      0.0         0.0   \n",
       "...       ...    ...  ...         ...         ...      ...         ...   \n",
       "1695      7.0    0.0  ...         NaN         NaN      0.0         0.0   \n",
       "1696      7.0    0.0  ...         NaN         NaN      1.0         0.0   \n",
       "1697      0.0    0.0  ...         0.0         0.0      0.0         1.0   \n",
       "1698      7.0    NaN  ...         NaN         NaN      1.0         0.0   \n",
       "1699      NaN    4.0  ...         NaN         NaN      0.0         0.0   \n",
       "\n",
       "      ANT_CA_S_n  GEPAR_S_n  ASP_S_n  TIKL_S_n  TRENT_S_n  ZSN  \n",
       "0            0.0        1.0      1.0       0.0        0.0    0  \n",
       "1            1.0        1.0      1.0       0.0        1.0    0  \n",
       "2            0.0        1.0      1.0       0.0        0.0    0  \n",
       "3            1.0        1.0      1.0       0.0        0.0    1  \n",
       "4            1.0        0.0      1.0       0.0        1.0    0  \n",
       "...          ...        ...      ...       ...        ...  ...  \n",
       "1695         0.0        0.0      0.0       0.0        0.0    0  \n",
       "1696         0.0        0.0      0.0       0.0        0.0    0  \n",
       "1697         0.0        1.0      1.0       0.0        0.0    0  \n",
       "1698         1.0        1.0      1.0       0.0        0.0    0  \n",
       "1699         0.0        0.0      0.0       0.0        0.0    0  \n",
       "\n",
       "[1700 rows x 110 columns]"
      ]
     },
     "execution_count": 3,
     "metadata": {},
     "output_type": "execute_result"
    }
   ],
   "source": [
    "lista_de_delete = [\"ID\", \"IBS_NASL\", \"KFK_BLOOD\", \"JELUD_TAH\", \"FIBR_JELUD\", \"A_V_BLOK\", \"OTEK_LANC\", \"RAZRIV\", \"DRESSLER\", \"REC_IM\", \"P_IM_STEN\", \"LET_IS\", \"PREDS_TAH\", \"FIBR_PREDS\"]\n",
    "df = df.drop(lista_de_delete, axis=1)\n",
    "df.head(1700)\n"
   ]
  },
  {
   "cell_type": "markdown",
   "metadata": {},
   "source": [
    "Tirando a mediana da idade, e atribuindo aos valores faltantes."
   ]
  },
  {
   "cell_type": "code",
   "execution_count": 4,
   "metadata": {},
   "outputs": [
    {
     "name": "stdout",
     "output_type": "stream",
     "text": [
      "63.0\n",
      "Não existem valores nulos na coluna.\n"
     ]
    }
   ],
   "source": [
    "mediana = df[\"AGE\"].median()\n",
    "print(mediana)\n",
    "df[\"AGE\"].fillna(mediana, inplace=True)\n",
    "existem_nulos = df[\"AGE\"].isna().any().any()\n",
    "\n",
    "if existem_nulos:\n",
    "    print(\"Existem valores nulos na coluna.\")\n",
    "else:\n",
    "    print(\"Não existem valores nulos na coluna.\")"
   ]
  },
  {
   "cell_type": "code",
   "execution_count": null,
   "metadata": {},
   "outputs": [],
   "source": []
  },
  {
   "cell_type": "code",
   "execution_count": 5,
   "metadata": {},
   "outputs": [
    {
     "name": "stdout",
     "output_type": "stream",
     "text": [
      "Existem valores nulos na coluna.\n"
     ]
    }
   ],
   "source": [
    "existem_nulos = df[\"INF_ANAM\"].isna().any().any()\n",
    "\n",
    "if existem_nulos:\n",
    "    print(\"Existem valores nulos na coluna.\")\n",
    "else:\n",
    "    print(\"Não existem valores nulos na coluna.\")"
   ]
  },
  {
   "cell_type": "code",
   "execution_count": 6,
   "metadata": {},
   "outputs": [
    {
     "name": "stdout",
     "output_type": "stream",
     "text": [
      "moda = 0.0\n",
      "Não existem valores nulos na coluna.\n"
     ]
    }
   ],
   "source": [
    "moda = df[\"INF_ANAM\"].mode().values[0]\n",
    "print(\"moda =\",moda)\n",
    "df[\"INF_ANAM\"].fillna(moda, inplace=True)\n",
    "existem_nulos = df[\"INF_ANAM\"].isna().any().any()\n",
    "\n",
    "if existem_nulos:\n",
    "    print(\"Existem valores nulos na coluna.\")\n",
    "else:\n",
    "    print(\"Não existem valores nulos na coluna.\")"
   ]
  },
  {
   "cell_type": "code",
   "execution_count": 7,
   "metadata": {},
   "outputs": [
    {
     "name": "stdout",
     "output_type": "stream",
     "text": [
      "Existem valores nulos na coluna.\n"
     ]
    }
   ],
   "source": [
    "existem_nulos = df[\"STENOK_AN\"].isna().any().any()\n",
    "\n",
    "if existem_nulos:\n",
    "    print(\"Existem valores nulos na coluna.\")\n",
    "else:\n",
    "    print(\"Não existem valores nulos na coluna.\")"
   ]
  },
  {
   "cell_type": "code",
   "execution_count": 8,
   "metadata": {},
   "outputs": [
    {
     "name": "stdout",
     "output_type": "stream",
     "text": [
      "moda = 0.0\n",
      "Não existem valores nulos na coluna.\n"
     ]
    }
   ],
   "source": [
    "moda = df[\"STENOK_AN\"].mode().values[0]\n",
    "print(\"moda =\",moda)\n",
    "df[\"STENOK_AN\"].fillna(moda, inplace=True)\n",
    "existem_nulos = df[\"STENOK_AN\"].isna().any().any()\n",
    "\n",
    "if existem_nulos:\n",
    "    print(\"Existem valores nulos na coluna.\")\n",
    "else:\n",
    "    print(\"Não existem valores nulos na coluna.\")"
   ]
  },
  {
   "cell_type": "code",
   "execution_count": 9,
   "metadata": {},
   "outputs": [
    {
     "name": "stdout",
     "output_type": "stream",
     "text": [
      "Existem valores nulos na coluna.\n"
     ]
    }
   ],
   "source": [
    "existem_nulos = df[\"FK_STENOK\"].isna().any().any()\n",
    "\n",
    "if existem_nulos:\n",
    "    print(\"Existem valores nulos na coluna.\")\n",
    "else:\n",
    "    print(\"Não existem valores nulos na coluna.\")"
   ]
  },
  {
   "cell_type": "code",
   "execution_count": 10,
   "metadata": {},
   "outputs": [
    {
     "name": "stdout",
     "output_type": "stream",
     "text": [
      "moda = 2.0\n",
      "Não existem valores nulos na coluna.\n"
     ]
    }
   ],
   "source": [
    "moda = df[\"FK_STENOK\"].mode().values[0]\n",
    "print(\"moda =\",moda)\n",
    "df[\"FK_STENOK\"].fillna(moda, inplace=True)\n",
    "existem_nulos = df[\"FK_STENOK\"].isna().any().any()\n",
    "\n",
    "if existem_nulos:\n",
    "    print(\"Existem valores nulos na coluna.\")\n",
    "else:\n",
    "    print(\"Não existem valores nulos na coluna.\")"
   ]
  },
  {
   "cell_type": "code",
   "execution_count": 11,
   "metadata": {},
   "outputs": [
    {
     "name": "stdout",
     "output_type": "stream",
     "text": [
      "Existem valores nulos na coluna.\n"
     ]
    }
   ],
   "source": [
    "existem_nulos = df[\"IBS_POST\"].isna().any().any()\n",
    "\n",
    "if existem_nulos:\n",
    "    print(\"Existem valores nulos na coluna.\")\n",
    "else:\n",
    "    print(\"Não existem valores nulos na coluna.\")"
   ]
  },
  {
   "cell_type": "code",
   "execution_count": 12,
   "metadata": {},
   "outputs": [
    {
     "name": "stdout",
     "output_type": "stream",
     "text": [
      "moda = 2.0\n",
      "Não existem valores nulos na coluna.\n"
     ]
    }
   ],
   "source": [
    "moda = df[\"IBS_POST\"].mode().values[0]\n",
    "print(\"moda =\",moda)\n",
    "df[\"IBS_POST\"].fillna(moda, inplace=True)\n",
    "existem_nulos = df[\"IBS_POST\"].isna().any().any()\n",
    "\n",
    "if existem_nulos:\n",
    "    print(\"Existem valores nulos na coluna.\")\n",
    "else:\n",
    "    print(\"Não existem valores nulos na coluna.\")"
   ]
  },
  {
   "cell_type": "code",
   "execution_count": 13,
   "metadata": {},
   "outputs": [
    {
     "name": "stdout",
     "output_type": "stream",
     "text": [
      "Existem valores nulos na coluna.\n"
     ]
    }
   ],
   "source": [
    "existem_nulos = df[\"GB\"].isna().any().any()\n",
    "\n",
    "if existem_nulos:\n",
    "    print(\"Existem valores nulos na coluna.\")\n",
    "else:\n",
    "    print(\"Não existem valores nulos na coluna.\")"
   ]
  },
  {
   "cell_type": "code",
   "execution_count": 14,
   "metadata": {},
   "outputs": [
    {
     "name": "stdout",
     "output_type": "stream",
     "text": [
      "moda = 2.0\n",
      "Não existem valores nulos na coluna.\n"
     ]
    }
   ],
   "source": [
    "moda = df[\"GB\"].mode().values[0]\n",
    "print(\"moda =\",moda)\n",
    "df[\"GB\"].fillna(moda, inplace=True)\n",
    "existem_nulos = df[\"GB\"].isna().any().any()\n",
    "\n",
    "if existem_nulos:\n",
    "    print(\"Existem valores nulos na coluna.\")\n",
    "else:\n",
    "    print(\"Não existem valores nulos na coluna.\")"
   ]
  },
  {
   "cell_type": "code",
   "execution_count": 15,
   "metadata": {},
   "outputs": [
    {
     "name": "stdout",
     "output_type": "stream",
     "text": [
      "Existem valores nulos na coluna.\n"
     ]
    }
   ],
   "source": [
    "existem_nulos = df[\"SIM_GIPERT\"].isna().any().any()\n",
    "\n",
    "if existem_nulos:\n",
    "    print(\"Existem valores nulos na coluna.\")\n",
    "else:\n",
    "    print(\"Não existem valores nulos na coluna.\")"
   ]
  },
  {
   "cell_type": "code",
   "execution_count": 16,
   "metadata": {},
   "outputs": [
    {
     "name": "stdout",
     "output_type": "stream",
     "text": [
      "moda = 0.0\n",
      "Não existem valores nulos na coluna.\n"
     ]
    }
   ],
   "source": [
    "moda = df[\"SIM_GIPERT\"].mode().values[0]\n",
    "print(\"moda =\",moda)\n",
    "df[\"SIM_GIPERT\"].fillna(moda, inplace=True)\n",
    "existem_nulos = df[\"SIM_GIPERT\"].isna().any().any()\n",
    "\n",
    "if existem_nulos:\n",
    "    print(\"Existem valores nulos na coluna.\")\n",
    "else:\n",
    "    print(\"Não existem valores nulos na coluna.\")"
   ]
  },
  {
   "cell_type": "code",
   "execution_count": 17,
   "metadata": {},
   "outputs": [
    {
     "name": "stdout",
     "output_type": "stream",
     "text": [
      "Existem valores nulos na coluna.\n"
     ]
    }
   ],
   "source": [
    "existem_nulos = df[\"DLIT_AG\"].isna().any().any()\n",
    "\n",
    "if existem_nulos:\n",
    "    print(\"Existem valores nulos na coluna.\")\n",
    "else:\n",
    "    print(\"Não existem valores nulos na coluna.\")"
   ]
  },
  {
   "cell_type": "code",
   "execution_count": 18,
   "metadata": {},
   "outputs": [
    {
     "name": "stdout",
     "output_type": "stream",
     "text": [
      "moda = 0.0\n",
      "Não existem valores nulos na coluna.\n"
     ]
    }
   ],
   "source": [
    "moda = df[\"DLIT_AG\"].mode().values[0]\n",
    "print(\"moda =\",moda)\n",
    "df[\"DLIT_AG\"].fillna(moda, inplace=True)\n",
    "existem_nulos = df[\"DLIT_AG\"].isna().any().any()\n",
    "\n",
    "if existem_nulos:\n",
    "    print(\"Existem valores nulos na coluna.\")\n",
    "else:\n",
    "    print(\"Não existem valores nulos na coluna.\")"
   ]
  },
  {
   "cell_type": "code",
   "execution_count": 19,
   "metadata": {},
   "outputs": [
    {
     "name": "stdout",
     "output_type": "stream",
     "text": [
      "Existem valores nulos na coluna.\n"
     ]
    }
   ],
   "source": [
    "existem_nulos = df[\"ZSN_A\"].isna().any().any()\n",
    "\n",
    "if existem_nulos:\n",
    "    print(\"Existem valores nulos na coluna.\")\n",
    "else:\n",
    "    print(\"Não existem valores nulos na coluna.\")"
   ]
  },
  {
   "cell_type": "code",
   "execution_count": 20,
   "metadata": {},
   "outputs": [
    {
     "name": "stdout",
     "output_type": "stream",
     "text": [
      "moda = 0.0\n",
      "Não existem valores nulos na coluna.\n"
     ]
    }
   ],
   "source": [
    "moda = df[\"ZSN_A\"].mode().values[0]\n",
    "print(\"moda =\",moda)\n",
    "df[\"ZSN_A\"].fillna(moda, inplace=True)\n",
    "existem_nulos = df[\"ZSN_A\"].isna().any().any()\n",
    "\n",
    "if existem_nulos:\n",
    "    print(\"Existem valores nulos na coluna.\")\n",
    "else:\n",
    "    print(\"Não existem valores nulos na coluna.\")"
   ]
  },
  {
   "cell_type": "code",
   "execution_count": 21,
   "metadata": {},
   "outputs": [
    {
     "name": "stdout",
     "output_type": "stream",
     "text": [
      "Existem valores nulos na coluna.\n"
     ]
    }
   ],
   "source": [
    "existem_nulos = df[\"nr_11\"].isna().any().any()\n",
    "\n",
    "if existem_nulos:\n",
    "    print(\"Existem valores nulos na coluna.\")\n",
    "else:\n",
    "    print(\"Não existem valores nulos na coluna.\")"
   ]
  },
  {
   "cell_type": "code",
   "execution_count": 22,
   "metadata": {},
   "outputs": [
    {
     "name": "stdout",
     "output_type": "stream",
     "text": [
      "moda = 0.0\n",
      "Não existem valores nulos na coluna.\n"
     ]
    }
   ],
   "source": [
    "moda = df[\"nr_11\"].mode().values[0]\n",
    "print(\"moda =\",moda)\n",
    "df[\"nr_11\"].fillna(moda, inplace=True)\n",
    "existem_nulos = df[\"nr_11\"].isna().any().any()\n",
    "\n",
    "if existem_nulos:\n",
    "    print(\"Existem valores nulos na coluna.\")\n",
    "else:\n",
    "    print(\"Não existem valores nulos na coluna.\")"
   ]
  },
  {
   "cell_type": "code",
   "execution_count": 23,
   "metadata": {},
   "outputs": [
    {
     "name": "stdout",
     "output_type": "stream",
     "text": [
      "Existem valores nulos na coluna.\n"
     ]
    }
   ],
   "source": [
    "existem_nulos = df[\"nr_01\"].isna().any().any()\n",
    "\n",
    "if existem_nulos:\n",
    "    print(\"Existem valores nulos na coluna.\")\n",
    "else:\n",
    "    print(\"Não existem valores nulos na coluna.\")"
   ]
  },
  {
   "cell_type": "code",
   "execution_count": 24,
   "metadata": {},
   "outputs": [
    {
     "name": "stdout",
     "output_type": "stream",
     "text": [
      "moda = 0.0\n",
      "Não existem valores nulos na coluna.\n"
     ]
    }
   ],
   "source": [
    "moda = df[\"nr_01\"].mode().values[0]\n",
    "print(\"moda =\",moda)\n",
    "df[\"nr_01\"].fillna(moda, inplace=True)\n",
    "existem_nulos = df[\"nr_01\"].isna().any().any()\n",
    "\n",
    "if existem_nulos:\n",
    "    print(\"Existem valores nulos na coluna.\")\n",
    "else:\n",
    "    print(\"Não existem valores nulos na coluna.\")"
   ]
  },
  {
   "cell_type": "code",
   "execution_count": 25,
   "metadata": {},
   "outputs": [
    {
     "name": "stdout",
     "output_type": "stream",
     "text": [
      "Existem valores nulos na coluna.\n"
     ]
    }
   ],
   "source": [
    "existem_nulos = df[\"nr_02\"].isna().any().any()\n",
    "\n",
    "if existem_nulos:\n",
    "    print(\"Existem valores nulos na coluna.\")\n",
    "else:\n",
    "    print(\"Não existem valores nulos na coluna.\")"
   ]
  },
  {
   "cell_type": "code",
   "execution_count": 26,
   "metadata": {},
   "outputs": [
    {
     "name": "stdout",
     "output_type": "stream",
     "text": [
      "moda = 0.0\n",
      "Não existem valores nulos na coluna.\n"
     ]
    }
   ],
   "source": [
    "moda = df[\"nr_02\"].mode().values[0]\n",
    "print(\"moda =\",moda)\n",
    "df[\"nr_02\"].fillna(moda, inplace=True)\n",
    "existem_nulos = df[\"nr_02\"].isna().any().any()\n",
    "\n",
    "if existem_nulos:\n",
    "    print(\"Existem valores nulos na coluna.\")\n",
    "else:\n",
    "    print(\"Não existem valores nulos na coluna.\")"
   ]
  },
  {
   "cell_type": "code",
   "execution_count": 27,
   "metadata": {},
   "outputs": [
    {
     "name": "stdout",
     "output_type": "stream",
     "text": [
      "Existem valores nulos na coluna.\n"
     ]
    }
   ],
   "source": [
    "existem_nulos = df[\"nr_03\"].isna().any().any()\n",
    "\n",
    "if existem_nulos:\n",
    "    print(\"Existem valores nulos na coluna.\")\n",
    "else:\n",
    "    print(\"Não existem valores nulos na coluna.\")"
   ]
  },
  {
   "cell_type": "code",
   "execution_count": 28,
   "metadata": {},
   "outputs": [
    {
     "name": "stdout",
     "output_type": "stream",
     "text": [
      "moda = 0.0\n",
      "Não existem valores nulos na coluna.\n"
     ]
    }
   ],
   "source": [
    "moda = df[\"nr_03\"].mode().values[0]\n",
    "print(\"moda =\",moda)\n",
    "df[\"nr_03\"].fillna(moda, inplace=True)\n",
    "existem_nulos = df[\"nr_03\"].isna().any().any()\n",
    "\n",
    "if existem_nulos:\n",
    "    print(\"Existem valores nulos na coluna.\")\n",
    "else:\n",
    "    print(\"Não existem valores nulos na coluna.\")"
   ]
  },
  {
   "cell_type": "code",
   "execution_count": 29,
   "metadata": {},
   "outputs": [
    {
     "name": "stdout",
     "output_type": "stream",
     "text": [
      "Existem valores nulos na coluna.\n"
     ]
    }
   ],
   "source": [
    "existem_nulos = df[\"nr_04\"].isna().any().any()\n",
    "\n",
    "if existem_nulos:\n",
    "    print(\"Existem valores nulos na coluna.\")\n",
    "else:\n",
    "    print(\"Não existem valores nulos na coluna.\")"
   ]
  },
  {
   "cell_type": "code",
   "execution_count": 30,
   "metadata": {},
   "outputs": [
    {
     "name": "stdout",
     "output_type": "stream",
     "text": [
      "moda = 0.0\n",
      "Não existem valores nulos na coluna.\n"
     ]
    }
   ],
   "source": [
    "moda = df[\"nr_04\"].mode().values[0]\n",
    "print(\"moda =\",moda)\n",
    "df[\"nr_04\"].fillna(moda, inplace=True)\n",
    "existem_nulos = df[\"nr_04\"].isna().any().any()\n",
    "\n",
    "if existem_nulos:\n",
    "    print(\"Existem valores nulos na coluna.\")\n",
    "else:\n",
    "    print(\"Não existem valores nulos na coluna.\")"
   ]
  },
  {
   "cell_type": "code",
   "execution_count": 31,
   "metadata": {},
   "outputs": [
    {
     "name": "stdout",
     "output_type": "stream",
     "text": [
      "Existem valores nulos na coluna.\n"
     ]
    }
   ],
   "source": [
    "existem_nulos = df[\"nr_07\"].isna().any().any()\n",
    "\n",
    "if existem_nulos:\n",
    "    print(\"Existem valores nulos na coluna.\")\n",
    "else:\n",
    "    print(\"Não existem valores nulos na coluna.\")"
   ]
  },
  {
   "cell_type": "code",
   "execution_count": 32,
   "metadata": {},
   "outputs": [
    {
     "name": "stdout",
     "output_type": "stream",
     "text": [
      "moda = 0.0\n",
      "Não existem valores nulos na coluna.\n"
     ]
    }
   ],
   "source": [
    "moda = df[\"nr_07\"].mode().values[0]\n",
    "print(\"moda =\",moda)\n",
    "df[\"nr_07\"].fillna(moda, inplace=True)\n",
    "existem_nulos = df[\"nr_07\"].isna().any().any()\n",
    "\n",
    "if existem_nulos:\n",
    "    print(\"Existem valores nulos na coluna.\")\n",
    "else:\n",
    "    print(\"Não existem valores nulos na coluna.\")"
   ]
  },
  {
   "cell_type": "code",
   "execution_count": 33,
   "metadata": {},
   "outputs": [
    {
     "name": "stdout",
     "output_type": "stream",
     "text": [
      "Existem valores nulos na coluna.\n"
     ]
    }
   ],
   "source": [
    "existem_nulos = df[\"nr_08\"].isna().any().any()\n",
    "\n",
    "if existem_nulos:\n",
    "    print(\"Existem valores nulos na coluna.\")\n",
    "else:\n",
    "    print(\"Não existem valores nulos na coluna.\")"
   ]
  },
  {
   "cell_type": "code",
   "execution_count": 34,
   "metadata": {},
   "outputs": [
    {
     "name": "stdout",
     "output_type": "stream",
     "text": [
      "moda = 0.0\n",
      "Não existem valores nulos na coluna.\n"
     ]
    }
   ],
   "source": [
    "moda = df[\"nr_08\"].mode().values[0]\n",
    "print(\"moda =\",moda)\n",
    "df[\"nr_08\"].fillna(moda, inplace=True)\n",
    "existem_nulos = df[\"nr_08\"].isna().any().any()\n",
    "\n",
    "if existem_nulos:\n",
    "    print(\"Existem valores nulos na coluna.\")\n",
    "else:\n",
    "    print(\"Não existem valores nulos na coluna.\")"
   ]
  },
  {
   "cell_type": "code",
   "execution_count": 35,
   "metadata": {},
   "outputs": [
    {
     "name": "stdout",
     "output_type": "stream",
     "text": [
      "Existem valores nulos na coluna.\n"
     ]
    }
   ],
   "source": [
    "existem_nulos = df[\"np_01\"].isna().any().any()\n",
    "\n",
    "if existem_nulos:\n",
    "    print(\"Existem valores nulos na coluna.\")\n",
    "else:\n",
    "    print(\"Não existem valores nulos na coluna.\")"
   ]
  },
  {
   "cell_type": "code",
   "execution_count": 36,
   "metadata": {},
   "outputs": [
    {
     "name": "stdout",
     "output_type": "stream",
     "text": [
      "moda = 0.0\n",
      "Não existem valores nulos na coluna.\n"
     ]
    }
   ],
   "source": [
    "moda = df[\"np_01\"].mode().values[0]\n",
    "print(\"moda =\",moda)\n",
    "df[\"np_01\"].fillna(moda, inplace=True)\n",
    "existem_nulos = df[\"np_01\"].isna().any().any()\n",
    "\n",
    "if existem_nulos:\n",
    "    print(\"Existem valores nulos na coluna.\")\n",
    "else:\n",
    "    print(\"Não existem valores nulos na coluna.\")"
   ]
  },
  {
   "cell_type": "code",
   "execution_count": 37,
   "metadata": {},
   "outputs": [
    {
     "name": "stdout",
     "output_type": "stream",
     "text": [
      "Existem valores nulos na coluna.\n"
     ]
    }
   ],
   "source": [
    "existem_nulos = df[\"np_04\"].isna().any().any()\n",
    "\n",
    "if existem_nulos:\n",
    "    print(\"Existem valores nulos na coluna.\")\n",
    "else:\n",
    "    print(\"Não existem valores nulos na coluna.\")"
   ]
  },
  {
   "cell_type": "code",
   "execution_count": 38,
   "metadata": {},
   "outputs": [
    {
     "name": "stdout",
     "output_type": "stream",
     "text": [
      "moda = 0.0\n",
      "Não existem valores nulos na coluna.\n"
     ]
    }
   ],
   "source": [
    "moda = df[\"np_04\"].mode().values[0]\n",
    "print(\"moda =\",moda)\n",
    "df[\"np_04\"].fillna(moda, inplace=True)\n",
    "existem_nulos = df[\"np_04\"].isna().any().any()\n",
    "\n",
    "if existem_nulos:\n",
    "    print(\"Existem valores nulos na coluna.\")\n",
    "else:\n",
    "    print(\"Não existem valores nulos na coluna.\")"
   ]
  },
  {
   "cell_type": "code",
   "execution_count": 39,
   "metadata": {},
   "outputs": [
    {
     "name": "stdout",
     "output_type": "stream",
     "text": [
      "Existem valores nulos na coluna.\n"
     ]
    }
   ],
   "source": [
    "existem_nulos = df[\"np_05\"].isna().any().any()\n",
    "\n",
    "if existem_nulos:\n",
    "    print(\"Existem valores nulos na coluna.\")\n",
    "else:\n",
    "    print(\"Não existem valores nulos na coluna.\")"
   ]
  },
  {
   "cell_type": "code",
   "execution_count": 40,
   "metadata": {},
   "outputs": [
    {
     "name": "stdout",
     "output_type": "stream",
     "text": [
      "moda = 0.0\n",
      "Não existem valores nulos na coluna.\n"
     ]
    }
   ],
   "source": [
    "moda = df[\"np_05\"].mode().values[0]\n",
    "print(\"moda =\",moda)\n",
    "df[\"np_05\"].fillna(moda, inplace=True)\n",
    "existem_nulos = df[\"np_05\"].isna().any().any()\n",
    "\n",
    "if existem_nulos:\n",
    "    print(\"Existem valores nulos na coluna.\")\n",
    "else:\n",
    "    print(\"Não existem valores nulos na coluna.\")"
   ]
  },
  {
   "cell_type": "code",
   "execution_count": 41,
   "metadata": {},
   "outputs": [
    {
     "name": "stdout",
     "output_type": "stream",
     "text": [
      "Existem valores nulos na coluna.\n"
     ]
    }
   ],
   "source": [
    "existem_nulos = df[\"np_07\"].isna().any().any()\n",
    "\n",
    "if existem_nulos:\n",
    "    print(\"Existem valores nulos na coluna.\")\n",
    "else:\n",
    "    print(\"Não existem valores nulos na coluna.\")"
   ]
  },
  {
   "cell_type": "code",
   "execution_count": 42,
   "metadata": {},
   "outputs": [
    {
     "name": "stdout",
     "output_type": "stream",
     "text": [
      "moda = 0.0\n",
      "Não existem valores nulos na coluna.\n"
     ]
    }
   ],
   "source": [
    "moda = df[\"np_07\"].mode().values[0]\n",
    "print(\"moda =\",moda)\n",
    "df[\"np_07\"].fillna(moda, inplace=True)\n",
    "existem_nulos = df[\"np_07\"].isna().any().any()\n",
    "\n",
    "if existem_nulos:\n",
    "    print(\"Existem valores nulos na coluna.\")\n",
    "else:\n",
    "    print(\"Não existem valores nulos na coluna.\")"
   ]
  },
  {
   "cell_type": "code",
   "execution_count": 43,
   "metadata": {},
   "outputs": [
    {
     "name": "stdout",
     "output_type": "stream",
     "text": [
      "Existem valores nulos na coluna.\n"
     ]
    }
   ],
   "source": [
    "existem_nulos = df[\"np_08\"].isna().any().any()\n",
    "\n",
    "if existem_nulos:\n",
    "    print(\"Existem valores nulos na coluna.\")\n",
    "else:\n",
    "    print(\"Não existem valores nulos na coluna.\")"
   ]
  },
  {
   "cell_type": "code",
   "execution_count": 44,
   "metadata": {},
   "outputs": [
    {
     "name": "stdout",
     "output_type": "stream",
     "text": [
      "moda = 0.0\n",
      "Não existem valores nulos na coluna.\n"
     ]
    }
   ],
   "source": [
    "moda = df[\"np_08\"].mode().values[0]\n",
    "print(\"moda =\",moda)\n",
    "df[\"np_08\"].fillna(moda, inplace=True)\n",
    "existem_nulos = df[\"np_08\"].isna().any().any()\n",
    "\n",
    "if existem_nulos:\n",
    "    print(\"Existem valores nulos na coluna.\")\n",
    "else:\n",
    "    print(\"Não existem valores nulos na coluna.\")"
   ]
  },
  {
   "cell_type": "code",
   "execution_count": 45,
   "metadata": {},
   "outputs": [
    {
     "name": "stdout",
     "output_type": "stream",
     "text": [
      "Existem valores nulos na coluna.\n"
     ]
    }
   ],
   "source": [
    "existem_nulos = df[\"np_09\"].isna().any().any()\n",
    "\n",
    "if existem_nulos:\n",
    "    print(\"Existem valores nulos na coluna.\")\n",
    "else:\n",
    "    print(\"Não existem valores nulos na coluna.\")"
   ]
  },
  {
   "cell_type": "code",
   "execution_count": 46,
   "metadata": {},
   "outputs": [
    {
     "name": "stdout",
     "output_type": "stream",
     "text": [
      "moda = 0.0\n",
      "Não existem valores nulos na coluna.\n"
     ]
    }
   ],
   "source": [
    "moda = df[\"np_09\"].mode().values[0]\n",
    "print(\"moda =\",moda)\n",
    "df[\"np_09\"].fillna(moda, inplace=True)\n",
    "existem_nulos = df[\"np_09\"].isna().any().any()\n",
    "\n",
    "if existem_nulos:\n",
    "    print(\"Existem valores nulos na coluna.\")\n",
    "else:\n",
    "    print(\"Não existem valores nulos na coluna.\")"
   ]
  },
  {
   "cell_type": "code",
   "execution_count": 47,
   "metadata": {},
   "outputs": [
    {
     "name": "stdout",
     "output_type": "stream",
     "text": [
      "Existem valores nulos na coluna.\n"
     ]
    }
   ],
   "source": [
    "existem_nulos = df[\"np_10\"].isna().any().any()\n",
    "\n",
    "if existem_nulos:\n",
    "    print(\"Existem valores nulos na coluna.\")\n",
    "else:\n",
    "    print(\"Não existem valores nulos na coluna.\")"
   ]
  },
  {
   "cell_type": "code",
   "execution_count": 48,
   "metadata": {},
   "outputs": [
    {
     "name": "stdout",
     "output_type": "stream",
     "text": [
      "moda = 0.0\n",
      "Não existem valores nulos na coluna.\n"
     ]
    }
   ],
   "source": [
    "moda = df[\"np_10\"].mode().values[0]\n",
    "print(\"moda =\",moda)\n",
    "df[\"np_10\"].fillna(moda, inplace=True)\n",
    "existem_nulos = df[\"np_10\"].isna().any().any()\n",
    "\n",
    "if existem_nulos:\n",
    "    print(\"Existem valores nulos na coluna.\")\n",
    "else:\n",
    "    print(\"Não existem valores nulos na coluna.\")"
   ]
  },
  {
   "cell_type": "code",
   "execution_count": 49,
   "metadata": {},
   "outputs": [
    {
     "name": "stdout",
     "output_type": "stream",
     "text": [
      "Existem valores nulos na coluna.\n"
     ]
    }
   ],
   "source": [
    "existem_nulos = df[\"endocr_01\"].isna().any().any()\n",
    "\n",
    "if existem_nulos:\n",
    "    print(\"Existem valores nulos na coluna.\")\n",
    "else:\n",
    "    print(\"Não existem valores nulos na coluna.\")"
   ]
  },
  {
   "cell_type": "code",
   "execution_count": 50,
   "metadata": {},
   "outputs": [
    {
     "name": "stdout",
     "output_type": "stream",
     "text": [
      "moda = 0.0\n",
      "Não existem valores nulos na coluna.\n"
     ]
    }
   ],
   "source": [
    "moda = df[\"endocr_01\"].mode().values[0]\n",
    "print(\"moda =\",moda)\n",
    "df[\"endocr_01\"].fillna(moda, inplace=True)\n",
    "existem_nulos = df[\"endocr_01\"].isna().any().any()\n",
    "\n",
    "if existem_nulos:\n",
    "    print(\"Existem valores nulos na coluna.\")\n",
    "else:\n",
    "    print(\"Não existem valores nulos na coluna.\")"
   ]
  },
  {
   "cell_type": "code",
   "execution_count": 51,
   "metadata": {},
   "outputs": [
    {
     "name": "stdout",
     "output_type": "stream",
     "text": [
      "Existem valores nulos na coluna.\n"
     ]
    }
   ],
   "source": [
    "existem_nulos = df[\"endocr_02\"].isna().any().any()\n",
    "\n",
    "if existem_nulos:\n",
    "    print(\"Existem valores nulos na coluna.\")\n",
    "else:\n",
    "    print(\"Não existem valores nulos na coluna.\")"
   ]
  },
  {
   "cell_type": "code",
   "execution_count": 52,
   "metadata": {},
   "outputs": [
    {
     "name": "stdout",
     "output_type": "stream",
     "text": [
      "moda = 0.0\n",
      "Não existem valores nulos na coluna.\n"
     ]
    }
   ],
   "source": [
    "moda = df[\"endocr_02\"].mode().values[0]\n",
    "print(\"moda =\",moda)\n",
    "df[\"endocr_02\"].fillna(moda, inplace=True)\n",
    "existem_nulos = df[\"endocr_02\"].isna().any().any()\n",
    "\n",
    "if existem_nulos:\n",
    "    print(\"Existem valores nulos na coluna.\")\n",
    "else:\n",
    "    print(\"Não existem valores nulos na coluna.\")"
   ]
  },
  {
   "cell_type": "code",
   "execution_count": 53,
   "metadata": {},
   "outputs": [
    {
     "name": "stdout",
     "output_type": "stream",
     "text": [
      "Existem valores nulos na coluna.\n"
     ]
    }
   ],
   "source": [
    "existem_nulos = df[\"endocr_03\"].isna().any().any()\n",
    "\n",
    "if existem_nulos:\n",
    "    print(\"Existem valores nulos na coluna.\")\n",
    "else:\n",
    "    print(\"Não existem valores nulos na coluna.\")"
   ]
  },
  {
   "cell_type": "code",
   "execution_count": 54,
   "metadata": {},
   "outputs": [
    {
     "name": "stdout",
     "output_type": "stream",
     "text": [
      "moda = 0.0\n",
      "Não existem valores nulos na coluna.\n"
     ]
    }
   ],
   "source": [
    "moda = df[\"endocr_03\"].mode().values[0]\n",
    "print(\"moda =\",moda)\n",
    "df[\"endocr_03\"].fillna(moda, inplace=True)\n",
    "existem_nulos = df[\"endocr_03\"].isna().any().any()\n",
    "\n",
    "if existem_nulos:\n",
    "    print(\"Existem valores nulos na coluna.\")\n",
    "else:\n",
    "    print(\"Não existem valores nulos na coluna.\")"
   ]
  },
  {
   "cell_type": "code",
   "execution_count": 55,
   "metadata": {},
   "outputs": [
    {
     "name": "stdout",
     "output_type": "stream",
     "text": [
      "Existem valores nulos na coluna.\n"
     ]
    }
   ],
   "source": [
    "existem_nulos = df[\"zab_leg_01\"].isna().any().any()\n",
    "\n",
    "if existem_nulos:\n",
    "    print(\"Existem valores nulos na coluna.\")\n",
    "else:\n",
    "    print(\"Não existem valores nulos na coluna.\")"
   ]
  },
  {
   "cell_type": "code",
   "execution_count": 56,
   "metadata": {},
   "outputs": [
    {
     "name": "stdout",
     "output_type": "stream",
     "text": [
      "moda = 0.0\n",
      "Não existem valores nulos na coluna.\n"
     ]
    }
   ],
   "source": [
    "moda = df[\"zab_leg_01\"].mode().values[0]\n",
    "print(\"moda =\",moda)\n",
    "df[\"zab_leg_01\"].fillna(moda, inplace=True)\n",
    "existem_nulos = df[\"zab_leg_01\"].isna().any().any()\n",
    "\n",
    "if existem_nulos:\n",
    "    print(\"Existem valores nulos na coluna.\")\n",
    "else:\n",
    "    print(\"Não existem valores nulos na coluna.\")"
   ]
  },
  {
   "cell_type": "code",
   "execution_count": 57,
   "metadata": {},
   "outputs": [
    {
     "name": "stdout",
     "output_type": "stream",
     "text": [
      "Existem valores nulos na coluna.\n"
     ]
    }
   ],
   "source": [
    "existem_nulos = df[\"zab_leg_02\"].isna().any().any()\n",
    "\n",
    "if existem_nulos:\n",
    "    print(\"Existem valores nulos na coluna.\")\n",
    "else:\n",
    "    print(\"Não existem valores nulos na coluna.\")"
   ]
  },
  {
   "cell_type": "code",
   "execution_count": 58,
   "metadata": {},
   "outputs": [
    {
     "name": "stdout",
     "output_type": "stream",
     "text": [
      "moda = 0.0\n",
      "Não existem valores nulos na coluna.\n"
     ]
    }
   ],
   "source": [
    "moda = df[\"zab_leg_02\"].mode().values[0]\n",
    "print(\"moda =\",moda)\n",
    "df[\"zab_leg_02\"].fillna(moda, inplace=True)\n",
    "existem_nulos = df[\"zab_leg_02\"].isna().any().any()\n",
    "\n",
    "if existem_nulos:\n",
    "    print(\"Existem valores nulos na coluna.\")\n",
    "else:\n",
    "    print(\"Não existem valores nulos na coluna.\")"
   ]
  },
  {
   "cell_type": "code",
   "execution_count": 59,
   "metadata": {},
   "outputs": [
    {
     "name": "stdout",
     "output_type": "stream",
     "text": [
      "Existem valores nulos na coluna.\n"
     ]
    }
   ],
   "source": [
    "existem_nulos = df[\"zab_leg_03\"].isna().any().any()\n",
    "\n",
    "if existem_nulos:\n",
    "    print(\"Existem valores nulos na coluna.\")\n",
    "else:\n",
    "    print(\"Não existem valores nulos na coluna.\")"
   ]
  },
  {
   "cell_type": "code",
   "execution_count": 60,
   "metadata": {},
   "outputs": [
    {
     "name": "stdout",
     "output_type": "stream",
     "text": [
      "moda = 0.0\n",
      "Não existem valores nulos na coluna.\n"
     ]
    }
   ],
   "source": [
    "moda = df[\"zab_leg_03\"].mode().values[0]\n",
    "print(\"moda =\",moda)\n",
    "df[\"zab_leg_03\"].fillna(moda, inplace=True)\n",
    "existem_nulos = df[\"zab_leg_03\"].isna().any().any()\n",
    "\n",
    "if existem_nulos:\n",
    "    print(\"Existem valores nulos na coluna.\")\n",
    "else:\n",
    "    print(\"Não existem valores nulos na coluna.\")"
   ]
  },
  {
   "cell_type": "code",
   "execution_count": 61,
   "metadata": {},
   "outputs": [
    {
     "name": "stdout",
     "output_type": "stream",
     "text": [
      "Existem valores nulos na coluna.\n"
     ]
    }
   ],
   "source": [
    "existem_nulos = df[\"zab_leg_06\"].isna().any().any()\n",
    "\n",
    "if existem_nulos:\n",
    "    print(\"Existem valores nulos na coluna.\")\n",
    "else:\n",
    "    print(\"Não existem valores nulos na coluna.\")"
   ]
  },
  {
   "cell_type": "code",
   "execution_count": 62,
   "metadata": {},
   "outputs": [
    {
     "name": "stdout",
     "output_type": "stream",
     "text": [
      "moda = 0.0\n",
      "Não existem valores nulos na coluna.\n"
     ]
    }
   ],
   "source": [
    "moda = df[\"zab_leg_06\"].mode().values[0]\n",
    "print(\"moda =\",moda)\n",
    "df[\"zab_leg_06\"].fillna(moda, inplace=True)\n",
    "existem_nulos = df[\"zab_leg_06\"].isna().any().any()\n",
    "\n",
    "if existem_nulos:\n",
    "    print(\"Existem valores nulos na coluna.\")\n",
    "else:\n",
    "    print(\"Não existem valores nulos na coluna.\")"
   ]
  },
  {
   "cell_type": "code",
   "execution_count": 63,
   "metadata": {},
   "outputs": [
    {
     "name": "stdout",
     "output_type": "stream",
     "text": [
      "Existem valores nulos na coluna.\n"
     ]
    }
   ],
   "source": [
    "existem_nulos = df[\"S_AD_KBRIG\"].isna().any().any()\n",
    "\n",
    "if existem_nulos:\n",
    "    print(\"Existem valores nulos na coluna.\")\n",
    "else:\n",
    "    print(\"Não existem valores nulos na coluna.\")"
   ]
  },
  {
   "cell_type": "markdown",
   "metadata": {},
   "source": [
    "A coluna \"S_AD_KBRIG\" e \"D_AD_KBRIG\" tem cerca de 63% de dados faltantes"
   ]
  },
  {
   "cell_type": "code",
   "execution_count": 64,
   "metadata": {},
   "outputs": [
    {
     "name": "stdout",
     "output_type": "stream",
     "text": [
      "Existem valores nulos na coluna.\n"
     ]
    }
   ],
   "source": [
    "existem_nulos = df[\"S_AD_ORIT\"].isna().any().any()\n",
    "\n",
    "if existem_nulos:\n",
    "    print(\"Existem valores nulos na coluna.\")\n",
    "else:\n",
    "    print(\"Não existem valores nulos na coluna.\")"
   ]
  },
  {
   "cell_type": "code",
   "execution_count": 65,
   "metadata": {},
   "outputs": [
    {
     "name": "stdout",
     "output_type": "stream",
     "text": [
      "mediana = 130.0\n",
      "Não existem valores nulos na coluna.\n"
     ]
    }
   ],
   "source": [
    "mediana = df[\"S_AD_ORIT\"].median()\n",
    "print(\"mediana =\",mediana)\n",
    "df[\"S_AD_ORIT\"].fillna(mediana, inplace=True)\n",
    "existem_nulos = df[\"S_AD_ORIT\"].isna().any().any()\n",
    "\n",
    "if existem_nulos:\n",
    "    print(\"Existem valores nulos na coluna.\")\n",
    "else:\n",
    "    print(\"Não existem valores nulos na coluna.\")"
   ]
  },
  {
   "cell_type": "code",
   "execution_count": 66,
   "metadata": {},
   "outputs": [
    {
     "name": "stdout",
     "output_type": "stream",
     "text": [
      "Existem valores nulos na coluna.\n"
     ]
    }
   ],
   "source": [
    "existem_nulos = df[\"D_AD_ORIT\"].isna().any().any()\n",
    "\n",
    "if existem_nulos:\n",
    "    print(\"Existem valores nulos na coluna.\")\n",
    "else:\n",
    "    print(\"Não existem valores nulos na coluna.\")"
   ]
  },
  {
   "cell_type": "code",
   "execution_count": 67,
   "metadata": {},
   "outputs": [
    {
     "name": "stdout",
     "output_type": "stream",
     "text": [
      "mediana = 80.0\n",
      "Não existem valores nulos na coluna.\n"
     ]
    }
   ],
   "source": [
    "mediana = df[\"D_AD_ORIT\"].median()\n",
    "print(\"mediana =\",mediana)\n",
    "df[\"D_AD_ORIT\"].fillna(mediana, inplace=True)\n",
    "existem_nulos = df[\"D_AD_ORIT\"].isna().any().any()\n",
    "\n",
    "if existem_nulos:\n",
    "    print(\"Existem valores nulos na coluna.\")\n",
    "else:\n",
    "    print(\"Não existem valores nulos na coluna.\")"
   ]
  },
  {
   "cell_type": "code",
   "execution_count": 68,
   "metadata": {},
   "outputs": [
    {
     "name": "stdout",
     "output_type": "stream",
     "text": [
      "Existem valores nulos na coluna.\n"
     ]
    }
   ],
   "source": [
    "existem_nulos = df[\"O_L_POST\"].isna().any().any()\n",
    "\n",
    "if existem_nulos:\n",
    "    print(\"Existem valores nulos na coluna.\")\n",
    "else:\n",
    "    print(\"Não existem valores nulos na coluna.\")"
   ]
  },
  {
   "cell_type": "code",
   "execution_count": 69,
   "metadata": {},
   "outputs": [
    {
     "name": "stdout",
     "output_type": "stream",
     "text": [
      "moda = 0.0\n",
      "Não existem valores nulos na coluna.\n"
     ]
    }
   ],
   "source": [
    "moda = df[\"O_L_POST\"].mode().values[0]\n",
    "print(\"moda =\",moda)\n",
    "df[\"O_L_POST\"].fillna(moda, inplace=True)\n",
    "existem_nulos = df[\"O_L_POST\"].isna().any().any()\n",
    "\n",
    "if existem_nulos:\n",
    "    print(\"Existem valores nulos na coluna.\")\n",
    "else:\n",
    "    print(\"Não existem valores nulos na coluna.\")"
   ]
  },
  {
   "cell_type": "code",
   "execution_count": 70,
   "metadata": {},
   "outputs": [
    {
     "name": "stdout",
     "output_type": "stream",
     "text": [
      "Existem valores nulos na coluna.\n"
     ]
    }
   ],
   "source": [
    "existem_nulos = df[\"K_SH_POST\"].isna().any().any()\n",
    "\n",
    "if existem_nulos:\n",
    "    print(\"Existem valores nulos na coluna.\")\n",
    "else:\n",
    "    print(\"Não existem valores nulos na coluna.\")"
   ]
  },
  {
   "cell_type": "code",
   "execution_count": 71,
   "metadata": {},
   "outputs": [
    {
     "name": "stdout",
     "output_type": "stream",
     "text": [
      "moda = 0.0\n",
      "Não existem valores nulos na coluna.\n"
     ]
    }
   ],
   "source": [
    "moda = df[\"K_SH_POST\"].mode().values[0]\n",
    "print(\"moda =\",moda)\n",
    "df[\"K_SH_POST\"].fillna(moda, inplace=True)\n",
    "existem_nulos = df[\"K_SH_POST\"].isna().any().any()\n",
    "\n",
    "if existem_nulos:\n",
    "    print(\"Existem valores nulos na coluna.\")\n",
    "else:\n",
    "    print(\"Não existem valores nulos na coluna.\")"
   ]
  },
  {
   "cell_type": "code",
   "execution_count": 72,
   "metadata": {},
   "outputs": [
    {
     "name": "stdout",
     "output_type": "stream",
     "text": [
      "Existem valores nulos na coluna.\n"
     ]
    }
   ],
   "source": [
    "existem_nulos = df[\"MP_TP_POST\"].isna().any().any()\n",
    "\n",
    "if existem_nulos:\n",
    "    print(\"Existem valores nulos na coluna.\")\n",
    "else:\n",
    "    print(\"Não existem valores nulos na coluna.\")"
   ]
  },
  {
   "cell_type": "code",
   "execution_count": 73,
   "metadata": {},
   "outputs": [
    {
     "name": "stdout",
     "output_type": "stream",
     "text": [
      "moda = 0.0\n",
      "Não existem valores nulos na coluna.\n"
     ]
    }
   ],
   "source": [
    "moda = df[\"MP_TP_POST\"].mode().values[0]\n",
    "print(\"moda =\",moda)\n",
    "df[\"MP_TP_POST\"].fillna(moda, inplace=True)\n",
    "existem_nulos = df[\"MP_TP_POST\"].isna().any().any()\n",
    "\n",
    "if existem_nulos:\n",
    "    print(\"Existem valores nulos na coluna.\")\n",
    "else:\n",
    "    print(\"Não existem valores nulos na coluna.\")"
   ]
  },
  {
   "cell_type": "code",
   "execution_count": 74,
   "metadata": {},
   "outputs": [
    {
     "name": "stdout",
     "output_type": "stream",
     "text": [
      "Existem valores nulos na coluna.\n"
     ]
    }
   ],
   "source": [
    "existem_nulos = df[\"SVT_POST\"].isna().any().any()\n",
    "\n",
    "if existem_nulos:\n",
    "    print(\"Existem valores nulos na coluna.\")\n",
    "else:\n",
    "    print(\"Não existem valores nulos na coluna.\")"
   ]
  },
  {
   "cell_type": "code",
   "execution_count": 75,
   "metadata": {},
   "outputs": [
    {
     "name": "stdout",
     "output_type": "stream",
     "text": [
      "moda = 0.0\n",
      "Não existem valores nulos na coluna.\n"
     ]
    }
   ],
   "source": [
    "moda = df[\"SVT_POST\"].mode().values[0]\n",
    "print(\"moda =\",moda)\n",
    "df[\"SVT_POST\"].fillna(moda, inplace=True)\n",
    "existem_nulos = df[\"SVT_POST\"].isna().any().any()\n",
    "\n",
    "if existem_nulos:\n",
    "    print(\"Existem valores nulos na coluna.\")\n",
    "else:\n",
    "    print(\"Não existem valores nulos na coluna.\")"
   ]
  },
  {
   "cell_type": "code",
   "execution_count": 76,
   "metadata": {},
   "outputs": [
    {
     "name": "stdout",
     "output_type": "stream",
     "text": [
      "Existem valores nulos na coluna.\n"
     ]
    }
   ],
   "source": [
    "existem_nulos = df[\"GT_POST\"].isna().any().any()\n",
    "\n",
    "if existem_nulos:\n",
    "    print(\"Existem valores nulos na coluna.\")\n",
    "else:\n",
    "    print(\"Não existem valores nulos na coluna.\")"
   ]
  },
  {
   "cell_type": "code",
   "execution_count": 77,
   "metadata": {},
   "outputs": [
    {
     "name": "stdout",
     "output_type": "stream",
     "text": [
      "moda = 0.0\n",
      "Não existem valores nulos na coluna.\n"
     ]
    }
   ],
   "source": [
    "moda = df[\"GT_POST\"].mode().values[0]\n",
    "print(\"moda =\",moda)\n",
    "df[\"np_01\"].fillna(moda, inplace=True)\n",
    "existem_nulos = df[\"np_01\"].isna().any().any()\n",
    "\n",
    "if existem_nulos:\n",
    "    print(\"Existem valores nulos na coluna.\")\n",
    "else:\n",
    "    print(\"Não existem valores nulos na coluna.\")"
   ]
  },
  {
   "cell_type": "code",
   "execution_count": 78,
   "metadata": {},
   "outputs": [
    {
     "name": "stdout",
     "output_type": "stream",
     "text": [
      "Existem valores nulos na coluna.\n"
     ]
    }
   ],
   "source": [
    "existem_nulos = df[\"FIB_G_POST\"].isna().any().any()\n",
    "\n",
    "if existem_nulos:\n",
    "    print(\"Existem valores nulos na coluna.\")\n",
    "else:\n",
    "    print(\"Não existem valores nulos na coluna.\")"
   ]
  },
  {
   "cell_type": "code",
   "execution_count": 79,
   "metadata": {},
   "outputs": [
    {
     "name": "stdout",
     "output_type": "stream",
     "text": [
      "moda = 0.0\n",
      "Não existem valores nulos na coluna.\n"
     ]
    }
   ],
   "source": [
    "moda = df[\"FIB_G_POST\"].mode().values[0]\n",
    "print(\"moda =\",moda)\n",
    "df[\"FIB_G_POST\"].fillna(moda, inplace=True)\n",
    "existem_nulos = df[\"FIB_G_POST\"].isna().any().any()\n",
    "\n",
    "if existem_nulos:\n",
    "    print(\"Existem valores nulos na coluna.\")\n",
    "else:\n",
    "    print(\"Não existem valores nulos na coluna.\")"
   ]
  },
  {
   "cell_type": "code",
   "execution_count": 80,
   "metadata": {},
   "outputs": [
    {
     "name": "stdout",
     "output_type": "stream",
     "text": [
      "Existem valores nulos na coluna.\n"
     ]
    }
   ],
   "source": [
    "existem_nulos = df[\"ant_im\"].isna().any().any()\n",
    "\n",
    "if existem_nulos:\n",
    "    print(\"Existem valores nulos na coluna.\")\n",
    "else:\n",
    "    print(\"Não existem valores nulos na coluna.\")"
   ]
  },
  {
   "cell_type": "code",
   "execution_count": 81,
   "metadata": {},
   "outputs": [
    {
     "name": "stdout",
     "output_type": "stream",
     "text": [
      "moda = 0.0\n",
      "Não existem valores nulos na coluna.\n"
     ]
    }
   ],
   "source": [
    "moda = df[\"ant_im\"].mode().values[0]\n",
    "print(\"moda =\",moda)\n",
    "df[\"ant_im\"].fillna(moda, inplace=True)\n",
    "existem_nulos = df[\"ant_im\"].isna().any().any()\n",
    "\n",
    "if existem_nulos:\n",
    "    print(\"Existem valores nulos na coluna.\")\n",
    "else:\n",
    "    print(\"Não existem valores nulos na coluna.\")"
   ]
  },
  {
   "cell_type": "code",
   "execution_count": 82,
   "metadata": {},
   "outputs": [
    {
     "name": "stdout",
     "output_type": "stream",
     "text": [
      "Existem valores nulos na coluna.\n"
     ]
    }
   ],
   "source": [
    "existem_nulos = df[\"lat_im\"].isna().any().any()\n",
    "\n",
    "if existem_nulos:\n",
    "    print(\"Existem valores nulos na coluna.\")\n",
    "else:\n",
    "    print(\"Não existem valores nulos na coluna.\")"
   ]
  },
  {
   "cell_type": "code",
   "execution_count": 83,
   "metadata": {},
   "outputs": [
    {
     "name": "stdout",
     "output_type": "stream",
     "text": [
      "moda = 1.0\n",
      "Não existem valores nulos na coluna.\n"
     ]
    }
   ],
   "source": [
    "moda = df[\"lat_im\"].mode().values[0]\n",
    "print(\"moda =\",moda)\n",
    "df[\"lat_im\"].fillna(moda, inplace=True)\n",
    "existem_nulos = df[\"lat_im\"].isna().any().any()\n",
    "\n",
    "if existem_nulos:\n",
    "    print(\"Existem valores nulos na coluna.\")\n",
    "else:\n",
    "    print(\"Não existem valores nulos na coluna.\")"
   ]
  },
  {
   "cell_type": "code",
   "execution_count": 84,
   "metadata": {},
   "outputs": [
    {
     "name": "stdout",
     "output_type": "stream",
     "text": [
      "Existem valores nulos na coluna.\n"
     ]
    }
   ],
   "source": [
    "existem_nulos = df[\"inf_im\"].isna().any().any()\n",
    "\n",
    "if existem_nulos:\n",
    "    print(\"Existem valores nulos na coluna.\")\n",
    "else:\n",
    "    print(\"Não existem valores nulos na coluna.\")"
   ]
  },
  {
   "cell_type": "code",
   "execution_count": 85,
   "metadata": {},
   "outputs": [
    {
     "name": "stdout",
     "output_type": "stream",
     "text": [
      "moda = 0.0\n",
      "Não existem valores nulos na coluna.\n"
     ]
    }
   ],
   "source": [
    "moda = df[\"inf_im\"].mode().values[0]\n",
    "print(\"moda =\",moda)\n",
    "df[\"inf_im\"].fillna(moda, inplace=True)\n",
    "existem_nulos = df[\"inf_im\"].isna().any().any()\n",
    "\n",
    "if existem_nulos:\n",
    "    print(\"Existem valores nulos na coluna.\")\n",
    "else:\n",
    "    print(\"Não existem valores nulos na coluna.\")"
   ]
  },
  {
   "cell_type": "code",
   "execution_count": 86,
   "metadata": {},
   "outputs": [
    {
     "name": "stdout",
     "output_type": "stream",
     "text": [
      "Existem valores nulos na coluna.\n"
     ]
    }
   ],
   "source": [
    "existem_nulos = df[\"post_im\"].isna().any().any()\n",
    "\n",
    "if existem_nulos:\n",
    "    print(\"Existem valores nulos na coluna.\")\n",
    "else:\n",
    "    print(\"Não existem valores nulos na coluna.\")"
   ]
  },
  {
   "cell_type": "code",
   "execution_count": 87,
   "metadata": {},
   "outputs": [
    {
     "name": "stdout",
     "output_type": "stream",
     "text": [
      "moda = 0.0\n",
      "Não existem valores nulos na coluna.\n"
     ]
    }
   ],
   "source": [
    "moda = df[\"post_im\"].mode().values[0]\n",
    "print(\"moda =\",moda)\n",
    "df[\"post_im\"].fillna(moda, inplace=True)\n",
    "existem_nulos = df[\"post_im\"].isna().any().any()\n",
    "\n",
    "if existem_nulos:\n",
    "    print(\"Existem valores nulos na coluna.\")\n",
    "else:\n",
    "    print(\"Não existem valores nulos na coluna.\")"
   ]
  },
  {
   "cell_type": "code",
   "execution_count": 88,
   "metadata": {},
   "outputs": [
    {
     "name": "stdout",
     "output_type": "stream",
     "text": [
      "Existem valores nulos na coluna.\n"
     ]
    }
   ],
   "source": [
    "existem_nulos = df[\"IM_PG_P\"].isna().any().any()\n",
    "\n",
    "if existem_nulos:\n",
    "    print(\"Existem valores nulos na coluna.\")\n",
    "else:\n",
    "    print(\"Não existem valores nulos na coluna.\")"
   ]
  },
  {
   "cell_type": "code",
   "execution_count": 89,
   "metadata": {},
   "outputs": [
    {
     "name": "stdout",
     "output_type": "stream",
     "text": [
      "moda = 0.0\n",
      "Não existem valores nulos na coluna.\n"
     ]
    }
   ],
   "source": [
    "moda = df[\"IM_PG_P\"].mode().values[0]\n",
    "print(\"moda =\",moda)\n",
    "df[\"IM_PG_P\"].fillna(moda, inplace=True)\n",
    "existem_nulos = df[\"IM_PG_P\"].isna().any().any()\n",
    "\n",
    "if existem_nulos:\n",
    "    print(\"Existem valores nulos na coluna.\")\n",
    "else:\n",
    "    print(\"Não existem valores nulos na coluna.\")"
   ]
  },
  {
   "cell_type": "code",
   "execution_count": 90,
   "metadata": {},
   "outputs": [
    {
     "name": "stdout",
     "output_type": "stream",
     "text": [
      "Existem valores nulos na coluna.\n"
     ]
    }
   ],
   "source": [
    "existem_nulos = df[\"ritm_ecg_p_01\"].isna().any().any()\n",
    "\n",
    "if existem_nulos:\n",
    "    print(\"Existem valores nulos na coluna.\")\n",
    "else:\n",
    "    print(\"Não existem valores nulos na coluna.\")"
   ]
  },
  {
   "cell_type": "code",
   "execution_count": 91,
   "metadata": {},
   "outputs": [
    {
     "name": "stdout",
     "output_type": "stream",
     "text": [
      "moda = 1.0\n",
      "Não existem valores nulos na coluna.\n"
     ]
    }
   ],
   "source": [
    "moda = df[\"ritm_ecg_p_01\"].mode().values[0]\n",
    "print(\"moda =\",moda)\n",
    "df[\"ritm_ecg_p_01\"].fillna(moda, inplace=True)\n",
    "existem_nulos = df[\"ritm_ecg_p_01\"].isna().any().any()\n",
    "\n",
    "if existem_nulos:\n",
    "    print(\"Existem valores nulos na coluna.\")\n",
    "else:\n",
    "    print(\"Não existem valores nulos na coluna.\")"
   ]
  },
  {
   "cell_type": "code",
   "execution_count": 92,
   "metadata": {},
   "outputs": [
    {
     "name": "stdout",
     "output_type": "stream",
     "text": [
      "Existem valores nulos na coluna.\n"
     ]
    }
   ],
   "source": [
    "existem_nulos = df[\"ritm_ecg_p_02\"].isna().any().any()\n",
    "\n",
    "if existem_nulos:\n",
    "    print(\"Existem valores nulos na coluna.\")\n",
    "else:\n",
    "    print(\"Não existem valores nulos na coluna.\")"
   ]
  },
  {
   "cell_type": "code",
   "execution_count": 93,
   "metadata": {},
   "outputs": [
    {
     "name": "stdout",
     "output_type": "stream",
     "text": [
      "moda = 0.0\n",
      "Não existem valores nulos na coluna.\n"
     ]
    }
   ],
   "source": [
    "moda = df[\"ritm_ecg_p_02\"].mode().values[0]\n",
    "print(\"moda =\",moda)\n",
    "df[\"ritm_ecg_p_02\"].fillna(moda, inplace=True)\n",
    "existem_nulos = df[\"ritm_ecg_p_02\"].isna().any().any()\n",
    "\n",
    "if existem_nulos:\n",
    "    print(\"Existem valores nulos na coluna.\")\n",
    "else:\n",
    "    print(\"Não existem valores nulos na coluna.\")"
   ]
  },
  {
   "cell_type": "code",
   "execution_count": 94,
   "metadata": {},
   "outputs": [
    {
     "name": "stdout",
     "output_type": "stream",
     "text": [
      "Existem valores nulos na coluna.\n"
     ]
    }
   ],
   "source": [
    "existem_nulos = df[\"ritm_ecg_p_04\"].isna().any().any()\n",
    "\n",
    "if existem_nulos:\n",
    "    print(\"Existem valores nulos na coluna.\")\n",
    "else:\n",
    "    print(\"Não existem valores nulos na coluna.\")"
   ]
  },
  {
   "cell_type": "code",
   "execution_count": 95,
   "metadata": {},
   "outputs": [
    {
     "name": "stdout",
     "output_type": "stream",
     "text": [
      "moda = 0.0\n",
      "Não existem valores nulos na coluna.\n"
     ]
    }
   ],
   "source": [
    "moda = df[\"ritm_ecg_p_04\"].mode().values[0]\n",
    "print(\"moda =\",moda)\n",
    "df[\"ritm_ecg_p_04\"].fillna(moda, inplace=True)\n",
    "existem_nulos = df[\"ritm_ecg_p_04\"].isna().any().any()\n",
    "\n",
    "if existem_nulos:\n",
    "    print(\"Existem valores nulos na coluna.\")\n",
    "else:\n",
    "    print(\"Não existem valores nulos na coluna.\")"
   ]
  },
  {
   "cell_type": "code",
   "execution_count": 96,
   "metadata": {},
   "outputs": [
    {
     "name": "stdout",
     "output_type": "stream",
     "text": [
      "Existem valores nulos na coluna.\n"
     ]
    }
   ],
   "source": [
    "existem_nulos = df[\"ritm_ecg_p_06\"].isna().any().any()\n",
    "\n",
    "if existem_nulos:\n",
    "    print(\"Existem valores nulos na coluna.\")\n",
    "else:\n",
    "    print(\"Não existem valores nulos na coluna.\")"
   ]
  },
  {
   "cell_type": "code",
   "execution_count": 97,
   "metadata": {},
   "outputs": [
    {
     "name": "stdout",
     "output_type": "stream",
     "text": [
      "moda = 0.0\n",
      "Não existem valores nulos na coluna.\n"
     ]
    }
   ],
   "source": [
    "moda = df[\"ritm_ecg_p_06\"].mode().values[0]\n",
    "print(\"moda =\",moda)\n",
    "df[\"ritm_ecg_p_06\"].fillna(moda, inplace=True)\n",
    "existem_nulos = df[\"ritm_ecg_p_06\"].isna().any().any()\n",
    "\n",
    "if existem_nulos:\n",
    "    print(\"Existem valores nulos na coluna.\")\n",
    "else:\n",
    "    print(\"Não existem valores nulos na coluna.\")"
   ]
  },
  {
   "cell_type": "code",
   "execution_count": 98,
   "metadata": {},
   "outputs": [
    {
     "name": "stdout",
     "output_type": "stream",
     "text": [
      "Existem valores nulos na coluna.\n"
     ]
    }
   ],
   "source": [
    "existem_nulos = df[\"ritm_ecg_p_07\"].isna().any().any()\n",
    "\n",
    "if existem_nulos:\n",
    "    print(\"Existem valores nulos na coluna.\")\n",
    "else:\n",
    "    print(\"Não existem valores nulos na coluna.\")"
   ]
  },
  {
   "cell_type": "code",
   "execution_count": 99,
   "metadata": {},
   "outputs": [
    {
     "name": "stdout",
     "output_type": "stream",
     "text": [
      "moda = 0.0\n",
      "Não existem valores nulos na coluna.\n"
     ]
    }
   ],
   "source": [
    "moda = df[\"ritm_ecg_p_07\"].mode().values[0]\n",
    "print(\"moda =\",moda)\n",
    "df[\"ritm_ecg_p_07\"].fillna(moda, inplace=True)\n",
    "existem_nulos = df[\"ritm_ecg_p_07\"].isna().any().any()\n",
    "\n",
    "if existem_nulos:\n",
    "    print(\"Existem valores nulos na coluna.\")\n",
    "else:\n",
    "    print(\"Não existem valores nulos na coluna.\")"
   ]
  },
  {
   "cell_type": "code",
   "execution_count": 100,
   "metadata": {},
   "outputs": [
    {
     "name": "stdout",
     "output_type": "stream",
     "text": [
      "Existem valores nulos na coluna.\n"
     ]
    }
   ],
   "source": [
    "existem_nulos = df[\"ritm_ecg_p_08\"].isna().any().any()\n",
    "\n",
    "if existem_nulos:\n",
    "    print(\"Existem valores nulos na coluna.\")\n",
    "else:\n",
    "    print(\"Não existem valores nulos na coluna.\")"
   ]
  },
  {
   "cell_type": "code",
   "execution_count": 101,
   "metadata": {},
   "outputs": [
    {
     "name": "stdout",
     "output_type": "stream",
     "text": [
      "moda = 0.0\n",
      "Não existem valores nulos na coluna.\n"
     ]
    }
   ],
   "source": [
    "moda = df[\"ritm_ecg_p_08\"].mode().values[0]\n",
    "print(\"moda =\",moda)\n",
    "df[\"ritm_ecg_p_08\"].fillna(moda, inplace=True)\n",
    "existem_nulos = df[\"ritm_ecg_p_08\"].isna().any().any()\n",
    "\n",
    "if existem_nulos:\n",
    "    print(\"Existem valores nulos na coluna.\")\n",
    "else:\n",
    "    print(\"Não existem valores nulos na coluna.\")"
   ]
  },
  {
   "cell_type": "code",
   "execution_count": 102,
   "metadata": {},
   "outputs": [
    {
     "name": "stdout",
     "output_type": "stream",
     "text": [
      "Existem valores nulos na coluna.\n"
     ]
    }
   ],
   "source": [
    "existem_nulos = df[\"n_r_ecg_p_01\"].isna().any().any()\n",
    "\n",
    "if existem_nulos:\n",
    "    print(\"Existem valores nulos na coluna.\")\n",
    "else:\n",
    "    print(\"Não existem valores nulos na coluna.\")"
   ]
  },
  {
   "cell_type": "code",
   "execution_count": 103,
   "metadata": {},
   "outputs": [
    {
     "name": "stdout",
     "output_type": "stream",
     "text": [
      "moda = 0.0\n",
      "Não existem valores nulos na coluna.\n"
     ]
    }
   ],
   "source": [
    "moda = df[\"n_r_ecg_p_01\"].mode().values[0]\n",
    "print(\"moda =\",moda)\n",
    "df[\"n_r_ecg_p_01\"].fillna(moda, inplace=True)\n",
    "existem_nulos = df[\"n_r_ecg_p_01\"].isna().any().any()\n",
    "\n",
    "if existem_nulos:\n",
    "    print(\"Existem valores nulos na coluna.\")\n",
    "else:\n",
    "    print(\"Não existem valores nulos na coluna.\")"
   ]
  },
  {
   "cell_type": "code",
   "execution_count": 104,
   "metadata": {},
   "outputs": [
    {
     "name": "stdout",
     "output_type": "stream",
     "text": [
      "Existem valores nulos na coluna.\n"
     ]
    }
   ],
   "source": [
    "existem_nulos = df[\"n_r_ecg_p_02\"].isna().any().any()\n",
    "\n",
    "if existem_nulos:\n",
    "    print(\"Existem valores nulos na coluna.\")\n",
    "else:\n",
    "    print(\"Não existem valores nulos na coluna.\")"
   ]
  },
  {
   "cell_type": "code",
   "execution_count": 105,
   "metadata": {},
   "outputs": [
    {
     "name": "stdout",
     "output_type": "stream",
     "text": [
      "moda = 0.0\n",
      "Não existem valores nulos na coluna.\n"
     ]
    }
   ],
   "source": [
    "moda = df[\"n_r_ecg_p_02\"].mode().values[0]\n",
    "print(\"moda =\",moda)\n",
    "df[\"n_r_ecg_p_02\"].fillna(moda, inplace=True)\n",
    "existem_nulos = df[\"n_r_ecg_p_02\"].isna().any().any()\n",
    "\n",
    "if existem_nulos:\n",
    "    print(\"Existem valores nulos na coluna.\")\n",
    "else:\n",
    "    print(\"Não existem valores nulos na coluna.\")"
   ]
  },
  {
   "cell_type": "code",
   "execution_count": 106,
   "metadata": {},
   "outputs": [
    {
     "name": "stdout",
     "output_type": "stream",
     "text": [
      "Existem valores nulos na coluna.\n"
     ]
    }
   ],
   "source": [
    "existem_nulos = df[\"n_r_ecg_p_03\"].isna().any().any()\n",
    "\n",
    "if existem_nulos:\n",
    "    print(\"Existem valores nulos na coluna.\")\n",
    "else:\n",
    "    print(\"Não existem valores nulos na coluna.\")"
   ]
  },
  {
   "cell_type": "code",
   "execution_count": 107,
   "metadata": {},
   "outputs": [
    {
     "name": "stdout",
     "output_type": "stream",
     "text": [
      "moda = 0.0\n",
      "Não existem valores nulos na coluna.\n"
     ]
    }
   ],
   "source": [
    "moda = df[\"n_r_ecg_p_03\"].mode().values[0]\n",
    "print(\"moda =\",moda)\n",
    "df[\"n_r_ecg_p_03\"].fillna(moda, inplace=True)\n",
    "existem_nulos = df[\"n_r_ecg_p_03\"].isna().any().any()\n",
    "\n",
    "if existem_nulos:\n",
    "    print(\"Existem valores nulos na coluna.\")\n",
    "else:\n",
    "    print(\"Não existem valores nulos na coluna.\")"
   ]
  },
  {
   "cell_type": "code",
   "execution_count": 108,
   "metadata": {},
   "outputs": [
    {
     "name": "stdout",
     "output_type": "stream",
     "text": [
      "Existem valores nulos na coluna.\n"
     ]
    }
   ],
   "source": [
    "existem_nulos = df[\"n_r_ecg_p_04\"].isna().any().any()\n",
    "\n",
    "if existem_nulos:\n",
    "    print(\"Existem valores nulos na coluna.\")\n",
    "else:\n",
    "    print(\"Não existem valores nulos na coluna.\")"
   ]
  },
  {
   "cell_type": "code",
   "execution_count": 109,
   "metadata": {},
   "outputs": [
    {
     "name": "stdout",
     "output_type": "stream",
     "text": [
      "moda = 0.0\n",
      "Não existem valores nulos na coluna.\n"
     ]
    }
   ],
   "source": [
    "moda = df[\"n_r_ecg_p_04\"].mode().values[0]\n",
    "print(\"moda =\",moda)\n",
    "df[\"n_r_ecg_p_04\"].fillna(moda, inplace=True)\n",
    "existem_nulos = df[\"n_r_ecg_p_04\"].isna().any().any()\n",
    "\n",
    "if existem_nulos:\n",
    "    print(\"Existem valores nulos na coluna.\")\n",
    "else:\n",
    "    print(\"Não existem valores nulos na coluna.\")"
   ]
  },
  {
   "cell_type": "code",
   "execution_count": 110,
   "metadata": {},
   "outputs": [
    {
     "name": "stdout",
     "output_type": "stream",
     "text": [
      "Existem valores nulos na coluna.\n"
     ]
    }
   ],
   "source": [
    "existem_nulos = df[\"n_r_ecg_p_05\"].isna().any().any()\n",
    "\n",
    "if existem_nulos:\n",
    "    print(\"Existem valores nulos na coluna.\")\n",
    "else:\n",
    "    print(\"Não existem valores nulos na coluna.\")"
   ]
  },
  {
   "cell_type": "code",
   "execution_count": 111,
   "metadata": {},
   "outputs": [
    {
     "name": "stdout",
     "output_type": "stream",
     "text": [
      "moda = 0.0\n",
      "Não existem valores nulos na coluna.\n"
     ]
    }
   ],
   "source": [
    "moda = df[\"n_r_ecg_p_05\"].mode().values[0]\n",
    "print(\"moda =\",moda)\n",
    "df[\"n_r_ecg_p_05\"].fillna(moda, inplace=True)\n",
    "existem_nulos = df[\"n_r_ecg_p_05\"].isna().any().any()\n",
    "\n",
    "if existem_nulos:\n",
    "    print(\"Existem valores nulos na coluna.\")\n",
    "else:\n",
    "    print(\"Não existem valores nulos na coluna.\")"
   ]
  },
  {
   "cell_type": "code",
   "execution_count": 112,
   "metadata": {},
   "outputs": [
    {
     "name": "stdout",
     "output_type": "stream",
     "text": [
      "Existem valores nulos na coluna.\n"
     ]
    }
   ],
   "source": [
    "existem_nulos = df[\"n_r_ecg_p_06\"].isna().any().any()\n",
    "\n",
    "if existem_nulos:\n",
    "    print(\"Existem valores nulos na coluna.\")\n",
    "else:\n",
    "    print(\"Não existem valores nulos na coluna.\")"
   ]
  },
  {
   "cell_type": "code",
   "execution_count": 113,
   "metadata": {},
   "outputs": [
    {
     "name": "stdout",
     "output_type": "stream",
     "text": [
      "moda = 0.0\n",
      "Não existem valores nulos na coluna.\n"
     ]
    }
   ],
   "source": [
    "moda = df[\"n_r_ecg_p_06\"].mode().values[0]\n",
    "print(\"moda =\",moda)\n",
    "df[\"n_r_ecg_p_06\"].fillna(moda, inplace=True)\n",
    "existem_nulos = df[\"n_r_ecg_p_06\"].isna().any().any()\n",
    "\n",
    "if existem_nulos:\n",
    "    print(\"Existem valores nulos na coluna.\")\n",
    "else:\n",
    "    print(\"Não existem valores nulos na coluna.\")"
   ]
  },
  {
   "cell_type": "code",
   "execution_count": 114,
   "metadata": {},
   "outputs": [
    {
     "name": "stdout",
     "output_type": "stream",
     "text": [
      "Existem valores nulos na coluna.\n"
     ]
    }
   ],
   "source": [
    "existem_nulos = df[\"n_r_ecg_p_08\"].isna().any().any()\n",
    "\n",
    "if existem_nulos:\n",
    "    print(\"Existem valores nulos na coluna.\")\n",
    "else:\n",
    "    print(\"Não existem valores nulos na coluna.\")"
   ]
  },
  {
   "cell_type": "code",
   "execution_count": 115,
   "metadata": {},
   "outputs": [
    {
     "name": "stdout",
     "output_type": "stream",
     "text": [
      "moda = 0.0\n",
      "Não existem valores nulos na coluna.\n"
     ]
    }
   ],
   "source": [
    "moda = df[\"n_r_ecg_p_08\"].mode().values[0]\n",
    "print(\"moda =\",moda)\n",
    "df[\"n_r_ecg_p_08\"].fillna(moda, inplace=True)\n",
    "existem_nulos = df[\"n_r_ecg_p_08\"].isna().any().any()\n",
    "\n",
    "if existem_nulos:\n",
    "    print(\"Existem valores nulos na coluna.\")\n",
    "else:\n",
    "    print(\"Não existem valores nulos na coluna.\")"
   ]
  },
  {
   "cell_type": "code",
   "execution_count": 116,
   "metadata": {},
   "outputs": [
    {
     "name": "stdout",
     "output_type": "stream",
     "text": [
      "Existem valores nulos na coluna.\n"
     ]
    }
   ],
   "source": [
    "existem_nulos = df[\"n_r_ecg_p_09\"].isna().any().any()\n",
    "\n",
    "if existem_nulos:\n",
    "    print(\"Existem valores nulos na coluna.\")\n",
    "else:\n",
    "    print(\"Não existem valores nulos na coluna.\")"
   ]
  },
  {
   "cell_type": "code",
   "execution_count": 117,
   "metadata": {},
   "outputs": [
    {
     "name": "stdout",
     "output_type": "stream",
     "text": [
      "moda = 0.0\n",
      "Não existem valores nulos na coluna.\n"
     ]
    }
   ],
   "source": [
    "moda = df[\"n_r_ecg_p_09\"].mode().values[0]\n",
    "print(\"moda =\",moda)\n",
    "df[\"n_r_ecg_p_09\"].fillna(moda, inplace=True)\n",
    "existem_nulos = df[\"n_r_ecg_p_09\"].isna().any().any()\n",
    "\n",
    "if existem_nulos:\n",
    "    print(\"Existem valores nulos na coluna.\")\n",
    "else:\n",
    "    print(\"Não existem valores nulos na coluna.\")"
   ]
  },
  {
   "cell_type": "code",
   "execution_count": 118,
   "metadata": {},
   "outputs": [
    {
     "name": "stdout",
     "output_type": "stream",
     "text": [
      "Existem valores nulos na coluna.\n"
     ]
    }
   ],
   "source": [
    "existem_nulos = df[\"n_r_ecg_p_10\"].isna().any().any()\n",
    "\n",
    "if existem_nulos:\n",
    "    print(\"Existem valores nulos na coluna.\")\n",
    "else:\n",
    "    print(\"Não existem valores nulos na coluna.\")"
   ]
  },
  {
   "cell_type": "code",
   "execution_count": 119,
   "metadata": {},
   "outputs": [
    {
     "name": "stdout",
     "output_type": "stream",
     "text": [
      "moda = 0.0\n",
      "Não existem valores nulos na coluna.\n"
     ]
    }
   ],
   "source": [
    "moda = df[\"n_r_ecg_p_10\"].mode().values[0]\n",
    "print(\"moda =\",moda)\n",
    "df[\"n_r_ecg_p_10\"].fillna(moda, inplace=True)\n",
    "existem_nulos = df[\"n_r_ecg_p_10\"].isna().any().any()\n",
    "\n",
    "if existem_nulos:\n",
    "    print(\"Existem valores nulos na coluna.\")\n",
    "else:\n",
    "    print(\"Não existem valores nulos na coluna.\")"
   ]
  },
  {
   "cell_type": "code",
   "execution_count": 120,
   "metadata": {},
   "outputs": [
    {
     "name": "stdout",
     "output_type": "stream",
     "text": [
      "Existem valores nulos na coluna.\n"
     ]
    }
   ],
   "source": [
    "existem_nulos = df[\"n_p_ecg_p_01\"].isna().any().any()\n",
    "\n",
    "if existem_nulos:\n",
    "    print(\"Existem valores nulos na coluna.\")\n",
    "else:\n",
    "    print(\"Não existem valores nulos na coluna.\")"
   ]
  },
  {
   "cell_type": "code",
   "execution_count": 121,
   "metadata": {},
   "outputs": [
    {
     "name": "stdout",
     "output_type": "stream",
     "text": [
      "moda = 0.0\n",
      "Não existem valores nulos na coluna.\n"
     ]
    }
   ],
   "source": [
    "moda = df[\"n_p_ecg_p_01\"].mode().values[0]\n",
    "print(\"moda =\",moda)\n",
    "df[\"n_p_ecg_p_01\"].fillna(moda, inplace=True)\n",
    "existem_nulos = df[\"n_p_ecg_p_01\"].isna().any().any()\n",
    "\n",
    "if existem_nulos:\n",
    "    print(\"Existem valores nulos na coluna.\")\n",
    "else:\n",
    "    print(\"Não existem valores nulos na coluna.\")"
   ]
  },
  {
   "cell_type": "code",
   "execution_count": 122,
   "metadata": {},
   "outputs": [
    {
     "name": "stdout",
     "output_type": "stream",
     "text": [
      "Existem valores nulos na coluna.\n"
     ]
    }
   ],
   "source": [
    "existem_nulos = df[\"n_p_ecg_p_03\"].isna().any().any()\n",
    "\n",
    "if existem_nulos:\n",
    "    print(\"Existem valores nulos na coluna.\")\n",
    "else:\n",
    "    print(\"Não existem valores nulos na coluna.\")"
   ]
  },
  {
   "cell_type": "code",
   "execution_count": 123,
   "metadata": {},
   "outputs": [
    {
     "name": "stdout",
     "output_type": "stream",
     "text": [
      "moda = 0.0\n",
      "Não existem valores nulos na coluna.\n"
     ]
    }
   ],
   "source": [
    "moda = df[\"n_p_ecg_p_03\"].mode().values[0]\n",
    "print(\"moda =\",moda)\n",
    "df[\"n_p_ecg_p_03\"].fillna(moda, inplace=True)\n",
    "existem_nulos = df[\"n_p_ecg_p_03\"].isna().any().any()\n",
    "\n",
    "if existem_nulos:\n",
    "    print(\"Existem valores nulos na coluna.\")\n",
    "else:\n",
    "    print(\"Não existem valores nulos na coluna.\")"
   ]
  },
  {
   "cell_type": "code",
   "execution_count": 124,
   "metadata": {},
   "outputs": [
    {
     "name": "stdout",
     "output_type": "stream",
     "text": [
      "Existem valores nulos na coluna.\n"
     ]
    }
   ],
   "source": [
    "existem_nulos = df[\"n_p_ecg_p_04\"].isna().any().any()\n",
    "\n",
    "if existem_nulos:\n",
    "    print(\"Existem valores nulos na coluna.\")\n",
    "else:\n",
    "    print(\"Não existem valores nulos na coluna.\")"
   ]
  },
  {
   "cell_type": "code",
   "execution_count": 125,
   "metadata": {},
   "outputs": [
    {
     "name": "stdout",
     "output_type": "stream",
     "text": [
      "moda = 0.0\n",
      "Não existem valores nulos na coluna.\n"
     ]
    }
   ],
   "source": [
    "moda = df[\"n_p_ecg_p_04\"].mode().values[0]\n",
    "print(\"moda =\",moda)\n",
    "df[\"n_p_ecg_p_04\"].fillna(moda, inplace=True)\n",
    "existem_nulos = df[\"n_p_ecg_p_04\"].isna().any().any()\n",
    "\n",
    "if existem_nulos:\n",
    "    print(\"Existem valores nulos na coluna.\")\n",
    "else:\n",
    "    print(\"Não existem valores nulos na coluna.\")"
   ]
  },
  {
   "cell_type": "code",
   "execution_count": 126,
   "metadata": {},
   "outputs": [
    {
     "name": "stdout",
     "output_type": "stream",
     "text": [
      "Existem valores nulos na coluna.\n"
     ]
    }
   ],
   "source": [
    "existem_nulos = df[\"n_p_ecg_p_05\"].isna().any().any()\n",
    "\n",
    "if existem_nulos:\n",
    "    print(\"Existem valores nulos na coluna.\")\n",
    "else:\n",
    "    print(\"Não existem valores nulos na coluna.\")"
   ]
  },
  {
   "cell_type": "code",
   "execution_count": 127,
   "metadata": {},
   "outputs": [
    {
     "name": "stdout",
     "output_type": "stream",
     "text": [
      "moda = 0.0\n",
      "Não existem valores nulos na coluna.\n"
     ]
    }
   ],
   "source": [
    "moda = df[\"n_p_ecg_p_05\"].mode().values[0]\n",
    "print(\"moda =\",moda)\n",
    "df[\"n_p_ecg_p_05\"].fillna(moda, inplace=True)\n",
    "existem_nulos = df[\"n_p_ecg_p_05\"].isna().any().any()\n",
    "\n",
    "if existem_nulos:\n",
    "    print(\"Existem valores nulos na coluna.\")\n",
    "else:\n",
    "    print(\"Não existem valores nulos na coluna.\")"
   ]
  },
  {
   "cell_type": "code",
   "execution_count": 128,
   "metadata": {},
   "outputs": [
    {
     "name": "stdout",
     "output_type": "stream",
     "text": [
      "Existem valores nulos na coluna.\n"
     ]
    }
   ],
   "source": [
    "existem_nulos = df[\"n_p_ecg_p_06\"].isna().any().any()\n",
    "\n",
    "if existem_nulos:\n",
    "    print(\"Existem valores nulos na coluna.\")\n",
    "else:\n",
    "    print(\"Não existem valores nulos na coluna.\")"
   ]
  },
  {
   "cell_type": "code",
   "execution_count": 129,
   "metadata": {},
   "outputs": [
    {
     "name": "stdout",
     "output_type": "stream",
     "text": [
      "moda = 0.0\n",
      "Não existem valores nulos na coluna.\n"
     ]
    }
   ],
   "source": [
    "moda = df[\"n_p_ecg_p_06\"].mode().values[0]\n",
    "print(\"moda =\",moda)\n",
    "df[\"n_p_ecg_p_06\"].fillna(moda, inplace=True)\n",
    "existem_nulos = df[\"n_p_ecg_p_06\"].isna().any().any()\n",
    "\n",
    "if existem_nulos:\n",
    "    print(\"Existem valores nulos na coluna.\")\n",
    "else:\n",
    "    print(\"Não existem valores nulos na coluna.\")"
   ]
  },
  {
   "cell_type": "code",
   "execution_count": 130,
   "metadata": {},
   "outputs": [
    {
     "name": "stdout",
     "output_type": "stream",
     "text": [
      "Existem valores nulos na coluna.\n"
     ]
    }
   ],
   "source": [
    "existem_nulos = df[\"n_p_ecg_p_07\"].isna().any().any()\n",
    "\n",
    "if existem_nulos:\n",
    "    print(\"Existem valores nulos na coluna.\")\n",
    "else:\n",
    "    print(\"Não existem valores nulos na coluna.\")"
   ]
  },
  {
   "cell_type": "code",
   "execution_count": 131,
   "metadata": {},
   "outputs": [
    {
     "name": "stdout",
     "output_type": "stream",
     "text": [
      "moda = 0.0\n",
      "Não existem valores nulos na coluna.\n"
     ]
    }
   ],
   "source": [
    "moda = df[\"n_p_ecg_p_07\"].mode().values[0]\n",
    "print(\"moda =\",moda)\n",
    "df[\"n_p_ecg_p_07\"].fillna(moda, inplace=True)\n",
    "existem_nulos = df[\"n_p_ecg_p_07\"].isna().any().any()\n",
    "\n",
    "if existem_nulos:\n",
    "    print(\"Existem valores nulos na coluna.\")\n",
    "else:\n",
    "    print(\"Não existem valores nulos na coluna.\")"
   ]
  },
  {
   "cell_type": "code",
   "execution_count": 132,
   "metadata": {},
   "outputs": [
    {
     "name": "stdout",
     "output_type": "stream",
     "text": [
      "Existem valores nulos na coluna.\n"
     ]
    }
   ],
   "source": [
    "existem_nulos = df[\"n_p_ecg_p_08\"].isna().any().any()\n",
    "\n",
    "if existem_nulos:\n",
    "    print(\"Existem valores nulos na coluna.\")\n",
    "else:\n",
    "    print(\"Não existem valores nulos na coluna.\")"
   ]
  },
  {
   "cell_type": "code",
   "execution_count": 133,
   "metadata": {},
   "outputs": [
    {
     "name": "stdout",
     "output_type": "stream",
     "text": [
      "moda = 0.0\n",
      "Não existem valores nulos na coluna.\n"
     ]
    }
   ],
   "source": [
    "moda = df[\"n_p_ecg_p_08\"].mode().values[0]\n",
    "print(\"moda =\",moda)\n",
    "df[\"n_p_ecg_p_08\"].fillna(moda, inplace=True)\n",
    "existem_nulos = df[\"n_p_ecg_p_08\"].isna().any().any()\n",
    "\n",
    "if existem_nulos:\n",
    "    print(\"Existem valores nulos na coluna.\")\n",
    "else:\n",
    "    print(\"Não existem valores nulos na coluna.\")"
   ]
  },
  {
   "cell_type": "code",
   "execution_count": 134,
   "metadata": {},
   "outputs": [
    {
     "name": "stdout",
     "output_type": "stream",
     "text": [
      "Existem valores nulos na coluna.\n"
     ]
    }
   ],
   "source": [
    "existem_nulos = df[\"n_p_ecg_p_09\"].isna().any().any()\n",
    "\n",
    "if existem_nulos:\n",
    "    print(\"Existem valores nulos na coluna.\")\n",
    "else:\n",
    "    print(\"Não existem valores nulos na coluna.\")"
   ]
  },
  {
   "cell_type": "code",
   "execution_count": 135,
   "metadata": {},
   "outputs": [
    {
     "name": "stdout",
     "output_type": "stream",
     "text": [
      "moda = 0.0\n",
      "Não existem valores nulos na coluna.\n"
     ]
    }
   ],
   "source": [
    "moda = df[\"n_p_ecg_p_09\"].mode().values[0]\n",
    "print(\"moda =\",moda)\n",
    "df[\"n_p_ecg_p_09\"].fillna(moda, inplace=True)\n",
    "existem_nulos = df[\"n_p_ecg_p_09\"].isna().any().any()\n",
    "\n",
    "if existem_nulos:\n",
    "    print(\"Existem valores nulos na coluna.\")\n",
    "else:\n",
    "    print(\"Não existem valores nulos na coluna.\")"
   ]
  },
  {
   "cell_type": "code",
   "execution_count": 136,
   "metadata": {},
   "outputs": [
    {
     "name": "stdout",
     "output_type": "stream",
     "text": [
      "Existem valores nulos na coluna.\n"
     ]
    }
   ],
   "source": [
    "existem_nulos = df[\"n_p_ecg_p_10\"].isna().any().any()\n",
    "\n",
    "if existem_nulos:\n",
    "    print(\"Existem valores nulos na coluna.\")\n",
    "else:\n",
    "    print(\"Não existem valores nulos na coluna.\")"
   ]
  },
  {
   "cell_type": "code",
   "execution_count": 137,
   "metadata": {},
   "outputs": [
    {
     "name": "stdout",
     "output_type": "stream",
     "text": [
      "moda = 0.0\n",
      "Não existem valores nulos na coluna.\n"
     ]
    }
   ],
   "source": [
    "moda = df[\"n_p_ecg_p_10\"].mode().values[0]\n",
    "print(\"moda =\",moda)\n",
    "df[\"n_p_ecg_p_10\"].fillna(moda, inplace=True)\n",
    "existem_nulos = df[\"n_p_ecg_p_10\"].isna().any().any()\n",
    "\n",
    "if existem_nulos:\n",
    "    print(\"Existem valores nulos na coluna.\")\n",
    "else:\n",
    "    print(\"Não existem valores nulos na coluna.\")"
   ]
  },
  {
   "cell_type": "code",
   "execution_count": 138,
   "metadata": {},
   "outputs": [
    {
     "name": "stdout",
     "output_type": "stream",
     "text": [
      "Existem valores nulos na coluna.\n"
     ]
    }
   ],
   "source": [
    "existem_nulos = df[\"n_p_ecg_p_11\"].isna().any().any()\n",
    "\n",
    "if existem_nulos:\n",
    "    print(\"Existem valores nulos na coluna.\")\n",
    "else:\n",
    "    print(\"Não existem valores nulos na coluna.\")"
   ]
  },
  {
   "cell_type": "code",
   "execution_count": 139,
   "metadata": {},
   "outputs": [
    {
     "name": "stdout",
     "output_type": "stream",
     "text": [
      "moda = 0.0\n",
      "Não existem valores nulos na coluna.\n"
     ]
    }
   ],
   "source": [
    "moda = df[\"n_p_ecg_p_11\"].mode().values[0]\n",
    "print(\"moda =\",moda)\n",
    "df[\"n_p_ecg_p_11\"].fillna(moda, inplace=True)\n",
    "existem_nulos = df[\"n_p_ecg_p_11\"].isna().any().any()\n",
    "\n",
    "if existem_nulos:\n",
    "    print(\"Existem valores nulos na coluna.\")\n",
    "else:\n",
    "    print(\"Não existem valores nulos na coluna.\")"
   ]
  },
  {
   "cell_type": "code",
   "execution_count": 140,
   "metadata": {},
   "outputs": [
    {
     "name": "stdout",
     "output_type": "stream",
     "text": [
      "Existem valores nulos na coluna.\n"
     ]
    }
   ],
   "source": [
    "existem_nulos = df[\"n_p_ecg_p_12\"].isna().any().any()\n",
    "\n",
    "if existem_nulos:\n",
    "    print(\"Existem valores nulos na coluna.\")\n",
    "else:\n",
    "    print(\"Não existem valores nulos na coluna.\")"
   ]
  },
  {
   "cell_type": "code",
   "execution_count": 141,
   "metadata": {},
   "outputs": [
    {
     "name": "stdout",
     "output_type": "stream",
     "text": [
      "moda = 0.0\n",
      "Não existem valores nulos na coluna.\n"
     ]
    }
   ],
   "source": [
    "moda = df[\"n_p_ecg_p_12\"].mode().values[0]\n",
    "print(\"moda =\",moda)\n",
    "df[\"n_p_ecg_p_12\"].fillna(moda, inplace=True)\n",
    "existem_nulos = df[\"n_p_ecg_p_12\"].isna().any().any()\n",
    "\n",
    "if existem_nulos:\n",
    "    print(\"Existem valores nulos na coluna.\")\n",
    "else:\n",
    "    print(\"Não existem valores nulos na coluna.\")"
   ]
  },
  {
   "cell_type": "code",
   "execution_count": 142,
   "metadata": {},
   "outputs": [
    {
     "name": "stdout",
     "output_type": "stream",
     "text": [
      "Existem valores nulos na coluna.\n"
     ]
    }
   ],
   "source": [
    "existem_nulos = df[\"fibr_ter_01\"].isna().any().any()\n",
    "\n",
    "if existem_nulos:\n",
    "    print(\"Existem valores nulos na coluna.\")\n",
    "else:\n",
    "    print(\"Não existem valores nulos na coluna.\")"
   ]
  },
  {
   "cell_type": "code",
   "execution_count": 143,
   "metadata": {},
   "outputs": [
    {
     "name": "stdout",
     "output_type": "stream",
     "text": [
      "moda = 0.0\n",
      "Não existem valores nulos na coluna.\n"
     ]
    }
   ],
   "source": [
    "moda = df[\"fibr_ter_01\"].mode().values[0]\n",
    "print(\"moda =\",moda)\n",
    "df[\"fibr_ter_01\"].fillna(moda, inplace=True)\n",
    "existem_nulos = df[\"fibr_ter_01\"].isna().any().any()\n",
    "\n",
    "if existem_nulos:\n",
    "    print(\"Existem valores nulos na coluna.\")\n",
    "else:\n",
    "    print(\"Não existem valores nulos na coluna.\")"
   ]
  },
  {
   "cell_type": "code",
   "execution_count": 144,
   "metadata": {},
   "outputs": [
    {
     "name": "stdout",
     "output_type": "stream",
     "text": [
      "Existem valores nulos na coluna.\n"
     ]
    }
   ],
   "source": [
    "existem_nulos = df[\"fibr_ter_02\"].isna().any().any()\n",
    "\n",
    "if existem_nulos:\n",
    "    print(\"Existem valores nulos na coluna.\")\n",
    "else:\n",
    "    print(\"Não existem valores nulos na coluna.\")"
   ]
  },
  {
   "cell_type": "code",
   "execution_count": 145,
   "metadata": {},
   "outputs": [
    {
     "name": "stdout",
     "output_type": "stream",
     "text": [
      "moda = 0.0\n",
      "Não existem valores nulos na coluna.\n"
     ]
    }
   ],
   "source": [
    "moda = df[\"fibr_ter_02\"].mode().values[0]\n",
    "print(\"moda =\",moda)\n",
    "df[\"fibr_ter_02\"].fillna(moda, inplace=True)\n",
    "existem_nulos = df[\"fibr_ter_02\"].isna().any().any()\n",
    "\n",
    "if existem_nulos:\n",
    "    print(\"Existem valores nulos na coluna.\")\n",
    "else:\n",
    "    print(\"Não existem valores nulos na coluna.\")"
   ]
  },
  {
   "cell_type": "code",
   "execution_count": 146,
   "metadata": {},
   "outputs": [
    {
     "name": "stdout",
     "output_type": "stream",
     "text": [
      "Existem valores nulos na coluna.\n"
     ]
    }
   ],
   "source": [
    "existem_nulos = df[\"fibr_ter_03\"].isna().any().any()\n",
    "\n",
    "if existem_nulos:\n",
    "    print(\"Existem valores nulos na coluna.\")\n",
    "else:\n",
    "    print(\"Não existem valores nulos na coluna.\")"
   ]
  },
  {
   "cell_type": "code",
   "execution_count": 147,
   "metadata": {},
   "outputs": [
    {
     "name": "stdout",
     "output_type": "stream",
     "text": [
      "moda = 0.0\n",
      "Não existem valores nulos na coluna.\n"
     ]
    }
   ],
   "source": [
    "moda = df[\"fibr_ter_03\"].mode().values[0]\n",
    "print(\"moda =\",moda)\n",
    "df[\"fibr_ter_03\"].fillna(moda, inplace=True)\n",
    "existem_nulos = df[\"fibr_ter_03\"].isna().any().any()\n",
    "\n",
    "if existem_nulos:\n",
    "    print(\"Existem valores nulos na coluna.\")\n",
    "else:\n",
    "    print(\"Não existem valores nulos na coluna.\")"
   ]
  },
  {
   "cell_type": "code",
   "execution_count": 148,
   "metadata": {},
   "outputs": [
    {
     "name": "stdout",
     "output_type": "stream",
     "text": [
      "Existem valores nulos na coluna.\n"
     ]
    }
   ],
   "source": [
    "existem_nulos = df[\"fibr_ter_05\"].isna().any().any()\n",
    "\n",
    "if existem_nulos:\n",
    "    print(\"Existem valores nulos na coluna.\")\n",
    "else:\n",
    "    print(\"Não existem valores nulos na coluna.\")"
   ]
  },
  {
   "cell_type": "code",
   "execution_count": 149,
   "metadata": {},
   "outputs": [
    {
     "name": "stdout",
     "output_type": "stream",
     "text": [
      "moda = 0.0\n",
      "Não existem valores nulos na coluna.\n"
     ]
    }
   ],
   "source": [
    "moda = df[\"fibr_ter_05\"].mode().values[0]\n",
    "print(\"moda =\",moda)\n",
    "df[\"fibr_ter_05\"].fillna(moda, inplace=True)\n",
    "existem_nulos = df[\"fibr_ter_05\"].isna().any().any()\n",
    "\n",
    "if existem_nulos:\n",
    "    print(\"Existem valores nulos na coluna.\")\n",
    "else:\n",
    "    print(\"Não existem valores nulos na coluna.\")"
   ]
  },
  {
   "cell_type": "code",
   "execution_count": 150,
   "metadata": {},
   "outputs": [
    {
     "name": "stdout",
     "output_type": "stream",
     "text": [
      "Existem valores nulos na coluna.\n"
     ]
    }
   ],
   "source": [
    "existem_nulos = df[\"fibr_ter_06\"].isna().any().any()\n",
    "\n",
    "if existem_nulos:\n",
    "    print(\"Existem valores nulos na coluna.\")\n",
    "else:\n",
    "    print(\"Não existem valores nulos na coluna.\")"
   ]
  },
  {
   "cell_type": "code",
   "execution_count": 151,
   "metadata": {},
   "outputs": [
    {
     "name": "stdout",
     "output_type": "stream",
     "text": [
      "moda = 0.0\n",
      "Não existem valores nulos na coluna.\n"
     ]
    }
   ],
   "source": [
    "moda = df[\"fibr_ter_06\"].mode().values[0]\n",
    "print(\"moda =\",moda)\n",
    "df[\"fibr_ter_06\"].fillna(moda, inplace=True)\n",
    "existem_nulos = df[\"fibr_ter_06\"].isna().any().any()\n",
    "\n",
    "if existem_nulos:\n",
    "    print(\"Existem valores nulos na coluna.\")\n",
    "else:\n",
    "    print(\"Não existem valores nulos na coluna.\")"
   ]
  },
  {
   "cell_type": "code",
   "execution_count": 152,
   "metadata": {},
   "outputs": [
    {
     "name": "stdout",
     "output_type": "stream",
     "text": [
      "Existem valores nulos na coluna.\n"
     ]
    }
   ],
   "source": [
    "existem_nulos = df[\"fibr_ter_07\"].isna().any().any()\n",
    "\n",
    "if existem_nulos:\n",
    "    print(\"Existem valores nulos na coluna.\")\n",
    "else:\n",
    "    print(\"Não existem valores nulos na coluna.\")"
   ]
  },
  {
   "cell_type": "code",
   "execution_count": 153,
   "metadata": {},
   "outputs": [
    {
     "name": "stdout",
     "output_type": "stream",
     "text": [
      "moda = 0.0\n",
      "Não existem valores nulos na coluna.\n"
     ]
    }
   ],
   "source": [
    "moda = df[\"fibr_ter_07\"].mode().values[0]\n",
    "print(\"moda =\",moda)\n",
    "df[\"fibr_ter_07\"].fillna(moda, inplace=True)\n",
    "existem_nulos = df[\"fibr_ter_07\"].isna().any().any()\n",
    "\n",
    "if existem_nulos:\n",
    "    print(\"Existem valores nulos na coluna.\")\n",
    "else:\n",
    "    print(\"Não existem valores nulos na coluna.\")"
   ]
  },
  {
   "cell_type": "code",
   "execution_count": 154,
   "metadata": {},
   "outputs": [
    {
     "name": "stdout",
     "output_type": "stream",
     "text": [
      "Existem valores nulos na coluna.\n"
     ]
    }
   ],
   "source": [
    "existem_nulos = df[\"fibr_ter_08\"].isna().any().any()\n",
    "\n",
    "if existem_nulos:\n",
    "    print(\"Existem valores nulos na coluna.\")\n",
    "else:\n",
    "    print(\"Não existem valores nulos na coluna.\")"
   ]
  },
  {
   "cell_type": "code",
   "execution_count": 155,
   "metadata": {},
   "outputs": [
    {
     "name": "stdout",
     "output_type": "stream",
     "text": [
      "moda = 0.0\n",
      "Não existem valores nulos na coluna.\n"
     ]
    }
   ],
   "source": [
    "moda = df[\"fibr_ter_08\"].mode().values[0]\n",
    "print(\"moda =\",moda)\n",
    "df[\"fibr_ter_08\"].fillna(moda, inplace=True)\n",
    "existem_nulos = df[\"fibr_ter_08\"].isna().any().any()\n",
    "\n",
    "if existem_nulos:\n",
    "    print(\"Existem valores nulos na coluna.\")\n",
    "else:\n",
    "    print(\"Não existem valores nulos na coluna.\")"
   ]
  },
  {
   "cell_type": "code",
   "execution_count": 156,
   "metadata": {},
   "outputs": [
    {
     "name": "stdout",
     "output_type": "stream",
     "text": [
      "Existem valores nulos na coluna.\n"
     ]
    }
   ],
   "source": [
    "existem_nulos = df[\"LID_S_n\"].isna().any().any()\n",
    "\n",
    "if existem_nulos:\n",
    "    print(\"Existem valores nulos na coluna.\")\n",
    "else:\n",
    "    print(\"Não existem valores nulos na coluna.\")"
   ]
  },
  {
   "cell_type": "code",
   "execution_count": 157,
   "metadata": {},
   "outputs": [
    {
     "name": "stdout",
     "output_type": "stream",
     "text": [
      "moda = 0.0\n",
      "Não existem valores nulos na coluna.\n"
     ]
    }
   ],
   "source": [
    "moda = df[\"LID_S_n\"].mode().values[0]\n",
    "print(\"moda =\",moda)\n",
    "df[\"LID_S_n\"].fillna(moda, inplace=True)\n",
    "existem_nulos = df[\"LID_S_n\"].isna().any().any()\n",
    "\n",
    "if existem_nulos:\n",
    "    print(\"Existem valores nulos na coluna.\")\n",
    "else:\n",
    "    print(\"Não existem valores nulos na coluna.\")"
   ]
  },
  {
   "cell_type": "code",
   "execution_count": 158,
   "metadata": {},
   "outputs": [
    {
     "name": "stdout",
     "output_type": "stream",
     "text": [
      "Existem valores nulos na coluna.\n"
     ]
    }
   ],
   "source": [
    "existem_nulos = df[\"B_BLOK_S_n\"].isna().any().any()\n",
    "\n",
    "if existem_nulos:\n",
    "    print(\"Existem valores nulos na coluna.\")\n",
    "else:\n",
    "    print(\"Não existem valores nulos na coluna.\")"
   ]
  },
  {
   "cell_type": "code",
   "execution_count": 159,
   "metadata": {},
   "outputs": [
    {
     "name": "stdout",
     "output_type": "stream",
     "text": [
      "moda = 0.0\n",
      "Não existem valores nulos na coluna.\n"
     ]
    }
   ],
   "source": [
    "moda = df[\"B_BLOK_S_n\"].mode().values[0]\n",
    "print(\"moda =\",moda)\n",
    "df[\"B_BLOK_S_n\"].fillna(moda, inplace=True)\n",
    "existem_nulos = df[\"B_BLOK_S_n\"].isna().any().any()\n",
    "\n",
    "if existem_nulos:\n",
    "    print(\"Existem valores nulos na coluna.\")\n",
    "else:\n",
    "    print(\"Não existem valores nulos na coluna.\")"
   ]
  },
  {
   "cell_type": "code",
   "execution_count": 160,
   "metadata": {},
   "outputs": [
    {
     "name": "stdout",
     "output_type": "stream",
     "text": [
      "Existem valores nulos na coluna.\n"
     ]
    }
   ],
   "source": [
    "existem_nulos = df[\"ANT_CA_S_n\"].isna().any().any()\n",
    "\n",
    "if existem_nulos:\n",
    "    print(\"Existem valores nulos na coluna.\")\n",
    "else:\n",
    "    print(\"Não existem valores nulos na coluna.\")"
   ]
  },
  {
   "cell_type": "code",
   "execution_count": 161,
   "metadata": {},
   "outputs": [
    {
     "name": "stdout",
     "output_type": "stream",
     "text": [
      "moda = 1.0\n",
      "Não existem valores nulos na coluna.\n"
     ]
    }
   ],
   "source": [
    "moda = df[\"ANT_CA_S_n\"].mode().values[0]\n",
    "print(\"moda =\",moda)\n",
    "df[\"ANT_CA_S_n\"].fillna(moda, inplace=True)\n",
    "existem_nulos = df[\"ANT_CA_S_n\"].isna().any().any()\n",
    "\n",
    "if existem_nulos:\n",
    "    print(\"Existem valores nulos na coluna.\")\n",
    "else:\n",
    "    print(\"Não existem valores nulos na coluna.\")"
   ]
  },
  {
   "cell_type": "code",
   "execution_count": 162,
   "metadata": {},
   "outputs": [
    {
     "name": "stdout",
     "output_type": "stream",
     "text": [
      "Existem valores nulos na coluna.\n"
     ]
    }
   ],
   "source": [
    "existem_nulos = df[\"GEPAR_S_n\"].isna().any().any()\n",
    "\n",
    "if existem_nulos:\n",
    "    print(\"Existem valores nulos na coluna.\")\n",
    "else:\n",
    "    print(\"Não existem valores nulos na coluna.\")"
   ]
  },
  {
   "cell_type": "code",
   "execution_count": 163,
   "metadata": {},
   "outputs": [
    {
     "name": "stdout",
     "output_type": "stream",
     "text": [
      "moda = 1.0\n",
      "Não existem valores nulos na coluna.\n"
     ]
    }
   ],
   "source": [
    "moda = df[\"GEPAR_S_n\"].mode().values[0]\n",
    "print(\"moda =\",moda)\n",
    "df[\"GEPAR_S_n\"].fillna(moda, inplace=True)\n",
    "existem_nulos = df[\"GEPAR_S_n\"].isna().any().any()\n",
    "\n",
    "if existem_nulos:\n",
    "    print(\"Existem valores nulos na coluna.\")\n",
    "else:\n",
    "    print(\"Não existem valores nulos na coluna.\")"
   ]
  },
  {
   "cell_type": "code",
   "execution_count": 164,
   "metadata": {},
   "outputs": [
    {
     "name": "stdout",
     "output_type": "stream",
     "text": [
      "Existem valores nulos na coluna.\n"
     ]
    }
   ],
   "source": [
    "existem_nulos = df[\"ASP_S_n\"].isna().any().any()\n",
    "\n",
    "if existem_nulos:\n",
    "    print(\"Existem valores nulos na coluna.\")\n",
    "else:\n",
    "    print(\"Não existem valores nulos na coluna.\")"
   ]
  },
  {
   "cell_type": "code",
   "execution_count": 165,
   "metadata": {},
   "outputs": [
    {
     "name": "stdout",
     "output_type": "stream",
     "text": [
      "moda = 1.0\n",
      "Não existem valores nulos na coluna.\n"
     ]
    }
   ],
   "source": [
    "moda = df[\"ASP_S_n\"].mode().values[0]\n",
    "print(\"moda =\",moda)\n",
    "df[\"ASP_S_n\"].fillna(moda, inplace=True)\n",
    "existem_nulos = df[\"ASP_S_n\"].isna().any().any()\n",
    "\n",
    "if existem_nulos:\n",
    "    print(\"Existem valores nulos na coluna.\")\n",
    "else:\n",
    "    print(\"Não existem valores nulos na coluna.\")"
   ]
  },
  {
   "cell_type": "code",
   "execution_count": 166,
   "metadata": {},
   "outputs": [
    {
     "name": "stdout",
     "output_type": "stream",
     "text": [
      "Existem valores nulos na coluna.\n"
     ]
    }
   ],
   "source": [
    "existem_nulos = df[\"TIKL_S_n\"].isna().any().any()\n",
    "\n",
    "if existem_nulos:\n",
    "    print(\"Existem valores nulos na coluna.\")\n",
    "else:\n",
    "    print(\"Não existem valores nulos na coluna.\")"
   ]
  },
  {
   "cell_type": "code",
   "execution_count": 167,
   "metadata": {},
   "outputs": [
    {
     "name": "stdout",
     "output_type": "stream",
     "text": [
      "moda = 0.0\n",
      "Não existem valores nulos na coluna.\n"
     ]
    }
   ],
   "source": [
    "moda = df[\"TIKL_S_n\"].mode().values[0]\n",
    "print(\"moda =\",moda)\n",
    "df[\"TIKL_S_n\"].fillna(moda, inplace=True)\n",
    "existem_nulos = df[\"TIKL_S_n\"].isna().any().any()\n",
    "\n",
    "if existem_nulos:\n",
    "    print(\"Existem valores nulos na coluna.\")\n",
    "else:\n",
    "    print(\"Não existem valores nulos na coluna.\")"
   ]
  },
  {
   "cell_type": "code",
   "execution_count": 168,
   "metadata": {},
   "outputs": [
    {
     "name": "stdout",
     "output_type": "stream",
     "text": [
      "Existem valores nulos na coluna.\n"
     ]
    }
   ],
   "source": [
    "existem_nulos = df[\"TRENT_S_n\"].isna().any().any()\n",
    "\n",
    "if existem_nulos:\n",
    "    print(\"Existem valores nulos na coluna.\")\n",
    "else:\n",
    "    print(\"Não existem valores nulos na coluna.\")"
   ]
  },
  {
   "cell_type": "code",
   "execution_count": 169,
   "metadata": {},
   "outputs": [
    {
     "name": "stdout",
     "output_type": "stream",
     "text": [
      "moda = 0.0\n",
      "Não existem valores nulos na coluna.\n"
     ]
    }
   ],
   "source": [
    "moda = df[\"TRENT_S_n\"].mode().values[0]\n",
    "print(\"moda =\",moda)\n",
    "df[\"TRENT_S_n\"].fillna(moda, inplace=True)\n",
    "existem_nulos = df[\"TRENT_S_n\"].isna().any().any()\n",
    "\n",
    "if existem_nulos:\n",
    "    print(\"Existem valores nulos na coluna.\")\n",
    "else:\n",
    "    print(\"Não existem valores nulos na coluna.\")"
   ]
  },
  {
   "cell_type": "code",
   "execution_count": 170,
   "metadata": {},
   "outputs": [
    {
     "name": "stdout",
     "output_type": "stream",
     "text": [
      "Existem valores nulos na coluna.\n"
     ]
    }
   ],
   "source": [
    "existem_nulos = df[\"R_AB_1_n\"].isna().any().any()\n",
    "\n",
    "if existem_nulos:\n",
    "    print(\"Existem valores nulos na coluna.\")\n",
    "else:\n",
    "    print(\"Não existem valores nulos na coluna.\")"
   ]
  },
  {
   "cell_type": "code",
   "execution_count": 171,
   "metadata": {},
   "outputs": [
    {
     "name": "stdout",
     "output_type": "stream",
     "text": [
      "moda = 0.0\n",
      "Não existem valores nulos na coluna.\n"
     ]
    }
   ],
   "source": [
    "moda = df[\"R_AB_1_n\"].mode().values[0]\n",
    "print(\"moda =\",moda)\n",
    "df[\"R_AB_1_n\"].fillna(moda, inplace=True)\n",
    "existem_nulos = df[\"R_AB_1_n\"].isna().any().any()\n",
    "\n",
    "if existem_nulos:\n",
    "    print(\"Existem valores nulos na coluna.\")\n",
    "else:\n",
    "    print(\"Não existem valores nulos na coluna.\")"
   ]
  },
  {
   "cell_type": "code",
   "execution_count": 172,
   "metadata": {},
   "outputs": [
    {
     "name": "stdout",
     "output_type": "stream",
     "text": [
      "Existem valores nulos na coluna.\n"
     ]
    }
   ],
   "source": [
    "existem_nulos = df[\"NA_R_1_n\"].isna().any().any()\n",
    "\n",
    "if existem_nulos:\n",
    "    print(\"Existem valores nulos na coluna.\")\n",
    "else:\n",
    "    print(\"Não existem valores nulos na coluna.\")"
   ]
  },
  {
   "cell_type": "code",
   "execution_count": 173,
   "metadata": {},
   "outputs": [
    {
     "name": "stdout",
     "output_type": "stream",
     "text": [
      "moda = 0.0\n",
      "Não existem valores nulos na coluna.\n"
     ]
    }
   ],
   "source": [
    "moda = df[\"NA_R_1_n\"].mode().values[0]\n",
    "print(\"moda =\",moda)\n",
    "df[\"NA_R_1_n\"].fillna(moda, inplace=True)\n",
    "existem_nulos = df[\"NA_R_1_n\"].isna().any().any()\n",
    "\n",
    "if existem_nulos:\n",
    "    print(\"Existem valores nulos na coluna.\")\n",
    "else:\n",
    "    print(\"Não existem valores nulos na coluna.\")"
   ]
  },
  {
   "cell_type": "code",
   "execution_count": 174,
   "metadata": {},
   "outputs": [
    {
     "name": "stdout",
     "output_type": "stream",
     "text": [
      "Existem valores nulos na coluna.\n"
     ]
    }
   ],
   "source": [
    "existem_nulos = df[\"NOT_NA_1_n\"].isna().any().any()\n",
    "\n",
    "if existem_nulos:\n",
    "    print(\"Existem valores nulos na coluna.\")\n",
    "else:\n",
    "    print(\"Não existem valores nulos na coluna.\")"
   ]
  },
  {
   "cell_type": "code",
   "execution_count": 175,
   "metadata": {},
   "outputs": [
    {
     "name": "stdout",
     "output_type": "stream",
     "text": [
      "moda = 0.0\n",
      "Não existem valores nulos na coluna.\n"
     ]
    }
   ],
   "source": [
    "moda = df[\"NOT_NA_1_n\"].mode().values[0]\n",
    "print(\"moda =\",moda)\n",
    "df[\"NOT_NA_1_n\"].fillna(moda, inplace=True)\n",
    "existem_nulos = df[\"NOT_NA_1_n\"].isna().any().any()\n",
    "\n",
    "if existem_nulos:\n",
    "    print(\"Existem valores nulos na coluna.\")\n",
    "else:\n",
    "    print(\"Não existem valores nulos na coluna.\")"
   ]
  },
  {
   "cell_type": "code",
   "execution_count": 176,
   "metadata": {},
   "outputs": [
    {
     "name": "stdout",
     "output_type": "stream",
     "text": [
      "Existem valores nulos na coluna.\n"
     ]
    }
   ],
   "source": [
    "existem_nulos = df[\"R_AB_2_n\"].isna().any().any()\n",
    "\n",
    "if existem_nulos:\n",
    "    print(\"Existem valores nulos na coluna.\")\n",
    "else:\n",
    "    print(\"Não existem valores nulos na coluna.\")"
   ]
  },
  {
   "cell_type": "code",
   "execution_count": 177,
   "metadata": {},
   "outputs": [
    {
     "name": "stdout",
     "output_type": "stream",
     "text": [
      "moda = 0.0\n",
      "Não existem valores nulos na coluna.\n"
     ]
    }
   ],
   "source": [
    "moda = df[\"R_AB_2_n\"].mode().values[0]\n",
    "print(\"moda =\",moda)\n",
    "df[\"R_AB_2_n\"].fillna(moda, inplace=True)\n",
    "existem_nulos = df[\"R_AB_2_n\"].isna().any().any()\n",
    "\n",
    "if existem_nulos:\n",
    "    print(\"Existem valores nulos na coluna.\")\n",
    "else:\n",
    "    print(\"Não existem valores nulos na coluna.\")"
   ]
  },
  {
   "cell_type": "code",
   "execution_count": 178,
   "metadata": {},
   "outputs": [
    {
     "name": "stdout",
     "output_type": "stream",
     "text": [
      "Existem valores nulos na coluna.\n"
     ]
    }
   ],
   "source": [
    "existem_nulos = df[\"NA_R_2_n\"].isna().any().any()\n",
    "\n",
    "if existem_nulos:\n",
    "    print(\"Existem valores nulos na coluna.\")\n",
    "else:\n",
    "    print(\"Não existem valores nulos na coluna.\")"
   ]
  },
  {
   "cell_type": "code",
   "execution_count": 179,
   "metadata": {},
   "outputs": [
    {
     "name": "stdout",
     "output_type": "stream",
     "text": [
      "moda = 0.0\n",
      "Não existem valores nulos na coluna.\n"
     ]
    }
   ],
   "source": [
    "moda = df[\"NA_R_2_n\"].mode().values[0]\n",
    "print(\"moda =\",moda)\n",
    "df[\"NA_R_2_n\"].fillna(moda, inplace=True)\n",
    "existem_nulos = df[\"NA_R_2_n\"].isna().any().any()\n",
    "\n",
    "if existem_nulos:\n",
    "    print(\"Existem valores nulos na coluna.\")\n",
    "else:\n",
    "    print(\"Não existem valores nulos na coluna.\")"
   ]
  },
  {
   "cell_type": "code",
   "execution_count": 180,
   "metadata": {},
   "outputs": [
    {
     "name": "stdout",
     "output_type": "stream",
     "text": [
      "Existem valores nulos na coluna.\n"
     ]
    }
   ],
   "source": [
    "existem_nulos = df[\"NOT_NA_2_n\"].isna().any().any()\n",
    "\n",
    "if existem_nulos:\n",
    "    print(\"Existem valores nulos na coluna.\")\n",
    "else:\n",
    "    print(\"Não existem valores nulos na coluna.\")"
   ]
  },
  {
   "cell_type": "code",
   "execution_count": 181,
   "metadata": {},
   "outputs": [
    {
     "name": "stdout",
     "output_type": "stream",
     "text": [
      "moda = 0.0\n",
      "Não existem valores nulos na coluna.\n"
     ]
    }
   ],
   "source": [
    "moda = df[\"NOT_NA_2_n\"].mode().values[0]\n",
    "print(\"moda =\",moda)\n",
    "df[\"NOT_NA_2_n\"].fillna(moda, inplace=True)\n",
    "existem_nulos = df[\"NOT_NA_2_n\"].isna().any().any()\n",
    "\n",
    "if existem_nulos:\n",
    "    print(\"Existem valores nulos na coluna.\")\n",
    "else:\n",
    "    print(\"Não existem valores nulos na coluna.\")"
   ]
  },
  {
   "cell_type": "code",
   "execution_count": 182,
   "metadata": {},
   "outputs": [
    {
     "name": "stdout",
     "output_type": "stream",
     "text": [
      "Existem valores nulos na coluna.\n"
     ]
    }
   ],
   "source": [
    "existem_nulos = df[\"NA_R_3_n\"].isna().any().any()\n",
    "\n",
    "if existem_nulos:\n",
    "    print(\"Existem valores nulos na coluna.\")\n",
    "else:\n",
    "    print(\"Não existem valores nulos na coluna.\")"
   ]
  },
  {
   "cell_type": "code",
   "execution_count": 183,
   "metadata": {},
   "outputs": [
    {
     "name": "stdout",
     "output_type": "stream",
     "text": [
      "moda = 0.0\n",
      "Não existem valores nulos na coluna.\n"
     ]
    }
   ],
   "source": [
    "moda = df[\"NA_R_3_n\"].mode().values[0]\n",
    "print(\"moda =\",moda)\n",
    "df[\"NA_R_3_n\"].fillna(moda, inplace=True)\n",
    "existem_nulos = df[\"NA_R_3_n\"].isna().any().any()\n",
    "\n",
    "if existem_nulos:\n",
    "    print(\"Existem valores nulos na coluna.\")\n",
    "else:\n",
    "    print(\"Não existem valores nulos na coluna.\")"
   ]
  },
  {
   "cell_type": "code",
   "execution_count": 184,
   "metadata": {},
   "outputs": [
    {
     "name": "stdout",
     "output_type": "stream",
     "text": [
      "Existem valores nulos na coluna.\n"
     ]
    }
   ],
   "source": [
    "existem_nulos = df[\"NOT_NA_3_n\"].isna().any().any()\n",
    "\n",
    "if existem_nulos:\n",
    "    print(\"Existem valores nulos na coluna.\")\n",
    "else:\n",
    "    print(\"Não existem valores nulos na coluna.\")"
   ]
  },
  {
   "cell_type": "code",
   "execution_count": 185,
   "metadata": {},
   "outputs": [
    {
     "name": "stdout",
     "output_type": "stream",
     "text": [
      "moda = 0.0\n",
      "Não existem valores nulos na coluna.\n"
     ]
    }
   ],
   "source": [
    "moda = df[\"NOT_NA_3_n\"].mode().values[0]\n",
    "print(\"moda =\",moda)\n",
    "df[\"NOT_NA_3_n\"].fillna(moda, inplace=True)\n",
    "existem_nulos = df[\"NOT_NA_3_n\"].isna().any().any()\n",
    "\n",
    "if existem_nulos:\n",
    "    print(\"Existem valores nulos na coluna.\")\n",
    "else:\n",
    "    print(\"Não existem valores nulos na coluna.\")"
   ]
  },
  {
   "cell_type": "code",
   "execution_count": 186,
   "metadata": {},
   "outputs": [
    {
     "name": "stdout",
     "output_type": "stream",
     "text": [
      "mediana = 8.0\n",
      "Não existem valores nulos na coluna.\n"
     ]
    }
   ],
   "source": [
    "mediana = df[\"L_BLOOD\"].median()\n",
    "print(\"mediana =\",mediana)\n",
    "df[\"L_BLOOD\"].fillna(mediana, inplace=True)\n",
    "existem_nulos = df[\"L_BLOOD\"].isna().any().any()\n",
    "\n",
    "if existem_nulos:\n",
    "    print(\"Existem valores nulos na coluna.\")\n",
    "else:\n",
    "    print(\"Não existem valores nulos na coluna.\")"
   ]
  },
  {
   "cell_type": "code",
   "execution_count": 187,
   "metadata": {},
   "outputs": [],
   "source": [
    "dataset_teste = 'dataset_teste.csv' \n",
    "df.to_csv(dataset_teste, index=False) "
   ]
  },
  {
   "cell_type": "code",
   "execution_count": 189,
   "metadata": {},
   "outputs": [
    {
     "data": {
      "text/html": [
       "<div>\n",
       "<style scoped>\n",
       "    .dataframe tbody tr th:only-of-type {\n",
       "        vertical-align: middle;\n",
       "    }\n",
       "\n",
       "    .dataframe tbody tr th {\n",
       "        vertical-align: top;\n",
       "    }\n",
       "\n",
       "    .dataframe thead th {\n",
       "        text-align: right;\n",
       "    }\n",
       "</style>\n",
       "<table border=\"1\" class=\"dataframe\">\n",
       "  <thead>\n",
       "    <tr style=\"text-align: right;\">\n",
       "      <th></th>\n",
       "      <th>AGE</th>\n",
       "      <th>SEX</th>\n",
       "      <th>INF_ANAM</th>\n",
       "      <th>STENOK_AN</th>\n",
       "      <th>FK_STENOK</th>\n",
       "      <th>IBS_POST</th>\n",
       "      <th>GB</th>\n",
       "      <th>SIM_GIPERT</th>\n",
       "      <th>DLIT_AG</th>\n",
       "      <th>ZSN_A</th>\n",
       "      <th>...</th>\n",
       "      <th>NOT_NA_2_n</th>\n",
       "      <th>NOT_NA_3_n</th>\n",
       "      <th>LID_S_n</th>\n",
       "      <th>B_BLOK_S_n</th>\n",
       "      <th>ANT_CA_S_n</th>\n",
       "      <th>GEPAR_S_n</th>\n",
       "      <th>ASP_S_n</th>\n",
       "      <th>TIKL_S_n</th>\n",
       "      <th>TRENT_S_n</th>\n",
       "      <th>ZSN</th>\n",
       "    </tr>\n",
       "  </thead>\n",
       "  <tbody>\n",
       "    <tr>\n",
       "      <th>0</th>\n",
       "      <td>77.0</td>\n",
       "      <td>1</td>\n",
       "      <td>2.0</td>\n",
       "      <td>1.0</td>\n",
       "      <td>1.0</td>\n",
       "      <td>2.0</td>\n",
       "      <td>3.0</td>\n",
       "      <td>0.0</td>\n",
       "      <td>7.0</td>\n",
       "      <td>0.0</td>\n",
       "      <td>...</td>\n",
       "      <td>0.0</td>\n",
       "      <td>0.0</td>\n",
       "      <td>1.0</td>\n",
       "      <td>0.0</td>\n",
       "      <td>0.0</td>\n",
       "      <td>1.0</td>\n",
       "      <td>1.0</td>\n",
       "      <td>0.0</td>\n",
       "      <td>0.0</td>\n",
       "      <td>0</td>\n",
       "    </tr>\n",
       "    <tr>\n",
       "      <th>1</th>\n",
       "      <td>55.0</td>\n",
       "      <td>1</td>\n",
       "      <td>1.0</td>\n",
       "      <td>0.0</td>\n",
       "      <td>0.0</td>\n",
       "      <td>0.0</td>\n",
       "      <td>0.0</td>\n",
       "      <td>0.0</td>\n",
       "      <td>0.0</td>\n",
       "      <td>0.0</td>\n",
       "      <td>...</td>\n",
       "      <td>0.0</td>\n",
       "      <td>0.0</td>\n",
       "      <td>1.0</td>\n",
       "      <td>0.0</td>\n",
       "      <td>1.0</td>\n",
       "      <td>1.0</td>\n",
       "      <td>1.0</td>\n",
       "      <td>0.0</td>\n",
       "      <td>1.0</td>\n",
       "      <td>0</td>\n",
       "    </tr>\n",
       "    <tr>\n",
       "      <th>2</th>\n",
       "      <td>52.0</td>\n",
       "      <td>1</td>\n",
       "      <td>0.0</td>\n",
       "      <td>0.0</td>\n",
       "      <td>0.0</td>\n",
       "      <td>2.0</td>\n",
       "      <td>2.0</td>\n",
       "      <td>0.0</td>\n",
       "      <td>2.0</td>\n",
       "      <td>0.0</td>\n",
       "      <td>...</td>\n",
       "      <td>2.0</td>\n",
       "      <td>2.0</td>\n",
       "      <td>1.0</td>\n",
       "      <td>1.0</td>\n",
       "      <td>0.0</td>\n",
       "      <td>1.0</td>\n",
       "      <td>1.0</td>\n",
       "      <td>0.0</td>\n",
       "      <td>0.0</td>\n",
       "      <td>0</td>\n",
       "    </tr>\n",
       "    <tr>\n",
       "      <th>3</th>\n",
       "      <td>68.0</td>\n",
       "      <td>0</td>\n",
       "      <td>0.0</td>\n",
       "      <td>0.0</td>\n",
       "      <td>0.0</td>\n",
       "      <td>2.0</td>\n",
       "      <td>2.0</td>\n",
       "      <td>0.0</td>\n",
       "      <td>3.0</td>\n",
       "      <td>1.0</td>\n",
       "      <td>...</td>\n",
       "      <td>0.0</td>\n",
       "      <td>0.0</td>\n",
       "      <td>0.0</td>\n",
       "      <td>0.0</td>\n",
       "      <td>1.0</td>\n",
       "      <td>1.0</td>\n",
       "      <td>1.0</td>\n",
       "      <td>0.0</td>\n",
       "      <td>0.0</td>\n",
       "      <td>1</td>\n",
       "    </tr>\n",
       "    <tr>\n",
       "      <th>4</th>\n",
       "      <td>60.0</td>\n",
       "      <td>1</td>\n",
       "      <td>0.0</td>\n",
       "      <td>0.0</td>\n",
       "      <td>0.0</td>\n",
       "      <td>2.0</td>\n",
       "      <td>3.0</td>\n",
       "      <td>0.0</td>\n",
       "      <td>7.0</td>\n",
       "      <td>0.0</td>\n",
       "      <td>...</td>\n",
       "      <td>0.0</td>\n",
       "      <td>0.0</td>\n",
       "      <td>0.0</td>\n",
       "      <td>0.0</td>\n",
       "      <td>1.0</td>\n",
       "      <td>0.0</td>\n",
       "      <td>1.0</td>\n",
       "      <td>0.0</td>\n",
       "      <td>1.0</td>\n",
       "      <td>0</td>\n",
       "    </tr>\n",
       "    <tr>\n",
       "      <th>...</th>\n",
       "      <td>...</td>\n",
       "      <td>...</td>\n",
       "      <td>...</td>\n",
       "      <td>...</td>\n",
       "      <td>...</td>\n",
       "      <td>...</td>\n",
       "      <td>...</td>\n",
       "      <td>...</td>\n",
       "      <td>...</td>\n",
       "      <td>...</td>\n",
       "      <td>...</td>\n",
       "      <td>...</td>\n",
       "      <td>...</td>\n",
       "      <td>...</td>\n",
       "      <td>...</td>\n",
       "      <td>...</td>\n",
       "      <td>...</td>\n",
       "      <td>...</td>\n",
       "      <td>...</td>\n",
       "      <td>...</td>\n",
       "      <td>...</td>\n",
       "    </tr>\n",
       "    <tr>\n",
       "      <th>1695</th>\n",
       "      <td>77.0</td>\n",
       "      <td>0</td>\n",
       "      <td>0.0</td>\n",
       "      <td>4.0</td>\n",
       "      <td>2.0</td>\n",
       "      <td>1.0</td>\n",
       "      <td>2.0</td>\n",
       "      <td>0.0</td>\n",
       "      <td>7.0</td>\n",
       "      <td>0.0</td>\n",
       "      <td>...</td>\n",
       "      <td>0.0</td>\n",
       "      <td>0.0</td>\n",
       "      <td>0.0</td>\n",
       "      <td>0.0</td>\n",
       "      <td>0.0</td>\n",
       "      <td>0.0</td>\n",
       "      <td>0.0</td>\n",
       "      <td>0.0</td>\n",
       "      <td>0.0</td>\n",
       "      <td>0</td>\n",
       "    </tr>\n",
       "    <tr>\n",
       "      <th>1696</th>\n",
       "      <td>70.0</td>\n",
       "      <td>0</td>\n",
       "      <td>0.0</td>\n",
       "      <td>6.0</td>\n",
       "      <td>2.0</td>\n",
       "      <td>1.0</td>\n",
       "      <td>2.0</td>\n",
       "      <td>0.0</td>\n",
       "      <td>7.0</td>\n",
       "      <td>0.0</td>\n",
       "      <td>...</td>\n",
       "      <td>0.0</td>\n",
       "      <td>0.0</td>\n",
       "      <td>1.0</td>\n",
       "      <td>0.0</td>\n",
       "      <td>0.0</td>\n",
       "      <td>0.0</td>\n",
       "      <td>0.0</td>\n",
       "      <td>0.0</td>\n",
       "      <td>0.0</td>\n",
       "      <td>0</td>\n",
       "    </tr>\n",
       "    <tr>\n",
       "      <th>1697</th>\n",
       "      <td>55.0</td>\n",
       "      <td>1</td>\n",
       "      <td>3.0</td>\n",
       "      <td>6.0</td>\n",
       "      <td>2.0</td>\n",
       "      <td>2.0</td>\n",
       "      <td>0.0</td>\n",
       "      <td>0.0</td>\n",
       "      <td>0.0</td>\n",
       "      <td>0.0</td>\n",
       "      <td>...</td>\n",
       "      <td>0.0</td>\n",
       "      <td>0.0</td>\n",
       "      <td>0.0</td>\n",
       "      <td>1.0</td>\n",
       "      <td>0.0</td>\n",
       "      <td>1.0</td>\n",
       "      <td>1.0</td>\n",
       "      <td>0.0</td>\n",
       "      <td>0.0</td>\n",
       "      <td>0</td>\n",
       "    </tr>\n",
       "    <tr>\n",
       "      <th>1698</th>\n",
       "      <td>79.0</td>\n",
       "      <td>0</td>\n",
       "      <td>2.0</td>\n",
       "      <td>2.0</td>\n",
       "      <td>2.0</td>\n",
       "      <td>1.0</td>\n",
       "      <td>2.0</td>\n",
       "      <td>0.0</td>\n",
       "      <td>7.0</td>\n",
       "      <td>0.0</td>\n",
       "      <td>...</td>\n",
       "      <td>0.0</td>\n",
       "      <td>0.0</td>\n",
       "      <td>1.0</td>\n",
       "      <td>0.0</td>\n",
       "      <td>1.0</td>\n",
       "      <td>1.0</td>\n",
       "      <td>1.0</td>\n",
       "      <td>0.0</td>\n",
       "      <td>0.0</td>\n",
       "      <td>0</td>\n",
       "    </tr>\n",
       "    <tr>\n",
       "      <th>1699</th>\n",
       "      <td>63.0</td>\n",
       "      <td>1</td>\n",
       "      <td>2.0</td>\n",
       "      <td>0.0</td>\n",
       "      <td>2.0</td>\n",
       "      <td>2.0</td>\n",
       "      <td>2.0</td>\n",
       "      <td>0.0</td>\n",
       "      <td>0.0</td>\n",
       "      <td>4.0</td>\n",
       "      <td>...</td>\n",
       "      <td>0.0</td>\n",
       "      <td>0.0</td>\n",
       "      <td>0.0</td>\n",
       "      <td>0.0</td>\n",
       "      <td>0.0</td>\n",
       "      <td>0.0</td>\n",
       "      <td>0.0</td>\n",
       "      <td>0.0</td>\n",
       "      <td>0.0</td>\n",
       "      <td>0</td>\n",
       "    </tr>\n",
       "  </tbody>\n",
       "</table>\n",
       "<p>1700 rows × 110 columns</p>\n",
       "</div>"
      ],
      "text/plain": [
       "       AGE  SEX  INF_ANAM  STENOK_AN  FK_STENOK  IBS_POST   GB  SIM_GIPERT  \\\n",
       "0     77.0    1       2.0        1.0        1.0       2.0  3.0         0.0   \n",
       "1     55.0    1       1.0        0.0        0.0       0.0  0.0         0.0   \n",
       "2     52.0    1       0.0        0.0        0.0       2.0  2.0         0.0   \n",
       "3     68.0    0       0.0        0.0        0.0       2.0  2.0         0.0   \n",
       "4     60.0    1       0.0        0.0        0.0       2.0  3.0         0.0   \n",
       "...    ...  ...       ...        ...        ...       ...  ...         ...   \n",
       "1695  77.0    0       0.0        4.0        2.0       1.0  2.0         0.0   \n",
       "1696  70.0    0       0.0        6.0        2.0       1.0  2.0         0.0   \n",
       "1697  55.0    1       3.0        6.0        2.0       2.0  0.0         0.0   \n",
       "1698  79.0    0       2.0        2.0        2.0       1.0  2.0         0.0   \n",
       "1699  63.0    1       2.0        0.0        2.0       2.0  2.0         0.0   \n",
       "\n",
       "      DLIT_AG  ZSN_A  ...  NOT_NA_2_n  NOT_NA_3_n  LID_S_n  B_BLOK_S_n  \\\n",
       "0         7.0    0.0  ...         0.0         0.0      1.0         0.0   \n",
       "1         0.0    0.0  ...         0.0         0.0      1.0         0.0   \n",
       "2         2.0    0.0  ...         2.0         2.0      1.0         1.0   \n",
       "3         3.0    1.0  ...         0.0         0.0      0.0         0.0   \n",
       "4         7.0    0.0  ...         0.0         0.0      0.0         0.0   \n",
       "...       ...    ...  ...         ...         ...      ...         ...   \n",
       "1695      7.0    0.0  ...         0.0         0.0      0.0         0.0   \n",
       "1696      7.0    0.0  ...         0.0         0.0      1.0         0.0   \n",
       "1697      0.0    0.0  ...         0.0         0.0      0.0         1.0   \n",
       "1698      7.0    0.0  ...         0.0         0.0      1.0         0.0   \n",
       "1699      0.0    4.0  ...         0.0         0.0      0.0         0.0   \n",
       "\n",
       "      ANT_CA_S_n  GEPAR_S_n  ASP_S_n  TIKL_S_n  TRENT_S_n  ZSN  \n",
       "0            0.0        1.0      1.0       0.0        0.0    0  \n",
       "1            1.0        1.0      1.0       0.0        1.0    0  \n",
       "2            0.0        1.0      1.0       0.0        0.0    0  \n",
       "3            1.0        1.0      1.0       0.0        0.0    1  \n",
       "4            1.0        0.0      1.0       0.0        1.0    0  \n",
       "...          ...        ...      ...       ...        ...  ...  \n",
       "1695         0.0        0.0      0.0       0.0        0.0    0  \n",
       "1696         0.0        0.0      0.0       0.0        0.0    0  \n",
       "1697         0.0        1.0      1.0       0.0        0.0    0  \n",
       "1698         1.0        1.0      1.0       0.0        0.0    0  \n",
       "1699         0.0        0.0      0.0       0.0        0.0    0  \n",
       "\n",
       "[1700 rows x 110 columns]"
      ]
     },
     "execution_count": 189,
     "metadata": {},
     "output_type": "execute_result"
    }
   ],
   "source": [
    "df.head(1700)"
   ]
  }
 ],
 "metadata": {
  "kernelspec": {
   "display_name": ".venv",
   "language": "python",
   "name": "python3"
  },
  "language_info": {
   "codemirror_mode": {
    "name": "ipython",
    "version": 3
   },
   "file_extension": ".py",
   "mimetype": "text/x-python",
   "name": "python",
   "nbconvert_exporter": "python",
   "pygments_lexer": "ipython3",
   "version": "3.11.4"
  }
 },
 "nbformat": 4,
 "nbformat_minor": 2
}
