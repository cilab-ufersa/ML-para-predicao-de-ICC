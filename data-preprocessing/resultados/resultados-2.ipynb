{
 "cells": [
  {
   "cell_type": "markdown",
   "metadata": {},
   "source": [
    "# **Técnicas Aplicadas**"
   ]
  },
  {
   "cell_type": "markdown",
   "metadata": {},
   "source": [
    "## **Cross Validation**\n",
    "\n",
    "O Cross Validation (validação cruzada), "
   ]
  },
  {
   "cell_type": "markdown",
   "metadata": {},
   "source": [
    "## **Up e Down-sampling**\n",
    "\n",
    "As técnicas Up-sampling e Down-sampling tem a função de melhorar as classes do conjunto de dados, o tornando-o equilibrado.\n",
    "\n",
    "- O Up-sampling tem como função fazer com o modelo não fique com um viés a favor das classes majoritárias, ele de forma aleatória, duplica as features do Dataset, deixando as classes minoritárias em um pé de igualdade com as majoritárias,\n",
    "\n",
    "- O Down-sampling tem a mesma função, ele de forma aleatória exclui as calsses majoritárias, deixando as classes majoritárias em um pé de igualdade com as minoritárias."
   ]
  },
  {
   "cell_type": "markdown",
   "metadata": {},
   "source": [
    "# **Resultados**"
   ]
  },
  {
   "cell_type": "markdown",
   "metadata": {},
   "source": [
    "Após a técnica de Cross Validation e Up-sampling, o modelo teve uma melhora na precisão dos resultados, fazendo as métricas ficarem com valores acima da média."
   ]
  },
  {
   "cell_type": "markdown",
   "metadata": {},
   "source": [
    "## **Resultados Anteriores com Cross Validation**"
   ]
  },
  {
   "cell_type": "markdown",
   "metadata": {},
   "source": [
    "### **Decision Tree**\n",
    "\n",
    "<center>\n",
    "\n",
    "![image.png](../figures/matriz_de_confusao-1_decision_tree.png)\n",
    "\n",
    "</center>\n",
    "\n",
    "\n",
    "<center>\n",
    "\n",
    "![image.png](../figures/grafico_treinamento_teste-1_decision_tree.png)\n",
    "\n",
    "</center>\n",
    "\n",
    "<center>\n",
    "\n",
    "![image.png](../figures/metricas-1_decision_tree.png)\n",
    "\n",
    "</center>"
   ]
  },
  {
   "cell_type": "markdown",
   "metadata": {},
   "source": [
    "### **Random Forest**\n",
    "\n",
    "<center>\n",
    "\n",
    "![image.png](../figures/matriz_de_confusao-1_random_forest.png)\n",
    "\n",
    "</center>\n",
    "\n",
    "<center>\n",
    "\n",
    "![image.png](../figures/grafico_treinamento_teste-1_random_forest.png)\n",
    "\n",
    "</center>\n",
    "\n",
    "<center>\n",
    "\n",
    "![image.png](../figures/metricas-1_random_forest.png)\n",
    "\n",
    "</center>"
   ]
  },
  {
   "cell_type": "markdown",
   "metadata": {},
   "source": [
    "### **LightGBM**\n",
    "\n",
    "<center>\n",
    "\n",
    "![image.png](../figures/matriz_de_confusao-1_lightgbm.png)\n",
    "\n",
    "</center>\n",
    "\n",
    "<center>\n",
    "\n",
    "![image.png](../figures/grafico_treinamento_teste-1_lightgbm.png)\n",
    "\n",
    "</center>\n",
    "\n",
    "<center>\n",
    "\n",
    "![image.png](../figures/metricas-1_lightgbm.png)\n",
    "\n",
    "</center>"
   ]
  },
  {
   "cell_type": "markdown",
   "metadata": {},
   "source": [
    "## **Resultados Posteriores com Cross Validation e Up-sampling**"
   ]
  },
  {
   "cell_type": "markdown",
   "metadata": {},
   "source": [
    "### **Decision Tree**\n",
    "\n",
    "<center>\n",
    "\n",
    "![image.png](../figures/matriz_de_confusao-1_decision_tree_upsampled.png)\n",
    "\n",
    "</center>\n",
    "\n",
    "<center>\n",
    "\n",
    "![image.png](../figures/grafico_treinamento_teste-1_decision_tree_upsampled.png)\n",
    "\n",
    "</center>\n",
    "\n",
    "<center>\n",
    "\n",
    "![image.png](../figures/metricas-1_decision_tree_upsampled.png)\n",
    "\n",
    "</center>"
   ]
  },
  {
   "cell_type": "markdown",
   "metadata": {},
   "source": [
    "### **Random Forest**\n",
    "\n",
    "<center>\n",
    "\n",
    "![image.png](../figures/matriz_de_confusao-1_random_forest_upsampled.png)\n",
    "\n",
    "</center>\n",
    "\n",
    "<center>\n",
    "\n",
    "![image.png](../figures/grafico_treinamento_teste-1_random_forest_upsampled.png)\n",
    "\n",
    "</center>\n",
    "\n",
    "<center>\n",
    "\n",
    "![image.png](../figures/metricas-1_random_forest_upsampled.png)\n",
    "\n",
    "</center>"
   ]
  },
  {
   "cell_type": "markdown",
   "metadata": {},
   "source": [
    "### **LightGBM**\n",
    "\n",
    "<center>\n",
    "\n",
    "![image.png](../figures/matriz_de_confusao-1_lightgbm_upsampled.png)\n",
    "\n",
    "</center>\n",
    "\n",
    "<center>\n",
    "\n",
    "![image.png](../figures/grafico_treinamento_teste-1_lightgbm_upsampled.png)\n",
    "\n",
    "</center>\n",
    "\n",
    "<center>\n",
    "\n",
    "![image.png](../figures/metricas-1_lightgbm_upsampled.png)\n",
    "\n",
    "</center>"
   ]
  },
  {
   "cell_type": "markdown",
   "metadata": {},
   "source": [
    "# **Conclusão Geral**"
   ]
  },
  {
   "cell_type": "markdown",
   "metadata": {},
   "source": [
    "É notável que mesmo com a aplicação da técnica Cross Validation, os modelos não tiveram uma melhoria tão considerável, diferente da aplicação da técnica Up-sampling, que realmente melhorou e muito os resultados obtidos, já a técnica Down-sampling só fez com que os resultados despencassem.\n",
    "\n",
    "Também podemos notar que o recal e f1-score estão com valores aproximados, ou seja, as classes estão equilibradas, significando que os modelos estão conseguindo identificar positivos verdadeiros e minimizar falsos negativos após a aplicação das técnicas.\n",
    "\n",
    "\n",
    "//ADICIONAR MAIS COISAS"
   ]
  }
 ],
 "metadata": {
  "language_info": {
   "name": "python"
  }
 },
 "nbformat": 4,
 "nbformat_minor": 2
}
