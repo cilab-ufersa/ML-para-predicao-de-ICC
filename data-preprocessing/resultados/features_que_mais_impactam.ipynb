{
 "cells": [
  {
   "cell_type": "markdown",
   "metadata": {},
   "source": [
    "# **Features**"
   ]
  },
  {
   "cell_type": "markdown",
   "metadata": {},
   "source": [
    "<center>\n",
    "\n",
    "![image.png](../figures/shap_random_forest.png)\n",
    "\n",
    "</center>"
   ]
  },
  {
   "cell_type": "markdown",
   "metadata": {
    "vscode": {
     "languageId": "plaintext"
    }
   },
   "source": [
    "- ZSN_A: Essa feature traz os dados sobre a presença da Insuficiência Cardíaca Crônica na anamnese, diálogo entre o profissional da saúde \n",
    "e o paciente, sendo essa a primeira fase de um processo de consulta. \"A anamnese, na prática clínica, consiste na rememoração dos eventos \n",
    "pregressos relacionados à saúde, na identificação dos sintomas e sinais atuais, com o intuito principal de fazer entender, com a maior \n",
    "precisão possível, a história da doença atual que traz o paciente à consulta.\" \n",
    "\n",
    "Referência: https://www.scielo.br/j/reben/a/dgpS47vnDqfq7T7XLdj68RC/\n",
    "\n",
    "- AGE: Essa feature traz a relação da idade com o ICC, pois com o passar dos anos o sistema cardiovascular sofre alterações que podem afetar a\n",
    "saúde cardiovascular. A partir dos 60 anos o coração começa a ter mais chances de sofrer danos, com o envelhecimento o coração sofre mudanças\n",
    "no músculo do miocárdio, no sistema de condução cardíaca e no endocárdio.\n",
    "\n",
    "Referência: https://www.rededorsaoluiz.com.br/noticias/artigo/o-que-acontece-com-o-coracao-conforme-envelhecemos"
   ]
  },
  {
   "cell_type": "markdown",
   "metadata": {},
   "source": [
    "- zab_leg_01: feature relacionada a bronquite crônica, seus resultados indicam que quando o paciente sofre dessa doença, as chances de se ter uma insuficiência cardíaca crônica são maiores, o porquê disso está relacionado é por conta de que as duas condições causam falta de ar no paciente. Caso o paciente sofra de bronquite crônica, ela pode causar insuficiência cardíaca do lado direito, pois os baixos níveis de oxigênio causam um aumento da pressão arterial nas artérias dos pulmões, forçando o lado direito do coração e enfraquecendo-o. Caso o paciente já sofra de insuficiência cardíaca crônica do lado esquerdo, ela não se relaciona com a bronquite, mas juntas elas podem se intensificar conjuntamente. Se comparado com o que a literatura diz e com o gráfico com as features que mais impactam, podemos observar que os resultados são condizentes, mostrando que quando o paciente têm bonquite crônica, as chances do modelo predizer a insuficiência cardíaca crônica são maiores.\n",
    "\n",
    "Referência: de Miguel Díez J, Chancafe Morgan J, Jiménez García R. The association between COPD and heart failure risk: a review. Int J Chron Obstruct Pulmon Dis. 2013;8:305-312. doi:10.2147/COPD.S31236\n",
    "\n",
    "- endocr_01: feature relacionada a diabetes mellitus, que é uma doença onde o organismo não produz uma quantidade suficiente de insulina, fazendo com que o nível de açúcar (glicose) no sangue fique excepcionalmente elevado. Por conta disso, A diabetes melito é um fator de risco significativo para o desenvolvimento de aterosclerose, uma doença onde se acumula placas de gordura nas artérias coronárias, podendo ser causada pelo excesso de açucar no sangue. Se comparado com o que a literatura diz e com o gráfico com as features que mais impactam, podemos observar que os resultados são condizentes, pois quando o paciente acusa ter diabetes mellitus, o modelo tem mais ocorrências de predizer a insuficiência cardíaca crônica.\n",
    "\n",
    "Referência: CIRILLO, WllLLIAN, OTÁVIO QMD JUNQUEIRA CLÁUDIO PINHO LUIZ, and AK BITTENCOURT. \"DIABETE MELITO E CORAÇÃO.\" Arq. Bras. Cardiol 53.5 (1989): 291-293."
   ]
  }
 ],
 "metadata": {
  "language_info": {
   "name": "python"
  }
 },
 "nbformat": 4,
 "nbformat_minor": 2
}
