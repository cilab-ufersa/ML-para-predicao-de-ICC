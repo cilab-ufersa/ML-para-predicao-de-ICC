{
 "cells": [
  {
   "cell_type": "markdown",
   "metadata": {},
   "source": [
    "# Métricas"
   ]
  },
  {
   "cell_type": "markdown",
   "metadata": {},
   "source": [
    "Métricas são usadas nos algoritmos para modelos de Aprendizado de Máquina (AM), para poder se ter uma base do quanto o modelo está errando ou acertando, referente aos valores das classes retornadas, sendo verdadeiros positivos e falsos negativos. Dessa forma, pode-se avaliar o modelo, de acordo com alguns fatores como: o modelo implementado, problema analisado e tipos de dados usados."
   ]
  },
  {
   "cell_type": "markdown",
   "metadata": {},
   "source": [
    "## Tipos de Predições"
   ]
  },
  {
   "cell_type": "markdown",
   "metadata": {},
   "source": [
    "A melhor forma de analisar um modelo é utilizando a tabela de matriz de confusão, como no exemplo abaixo."
   ]
  },
  {
   "cell_type": "markdown",
   "metadata": {},
   "source": [
    "<center>\n",
    "\n",
    "![image.png](../figures/metricas_de_avaliacao.png)\n",
    "\n",
    "</center>"
   ]
  },
  {
   "cell_type": "markdown",
   "metadata": {},
   "source": [
    "As predições de classificação binária tem quatro possíveis classes."
   ]
  },
  {
   "cell_type": "markdown",
   "metadata": {},
   "source": [
    "- **Verdadeiro Positivo:** ocorre quando o modelo prediz positivamente, e a classe era realmente positiva.\n",
    "\n",
    "- **Falso Negativo:** ocorre quando o modelo prediz negativamente, porém a classe na verdade era positiva.\n",
    "\n",
    "- **Verdadeiro Negativo:** ocore quando o modelo prediz negativamente, e a classe é negativa.\n",
    "\n",
    "- **Falso Positivo:** ocorre quando o modelo prediz positivamente, mas a classe era negativa."
   ]
  },
  {
   "cell_type": "markdown",
   "metadata": {},
   "source": [
    "## Tipos de Métricas"
   ]
  },
  {
   "cell_type": "markdown",
   "metadata": {},
   "source": [
    "Existem vários tipos de métricas que são usadas hoje em dia, e seus usos são baseados em que problema específico está sendo abordado e das características dos dados.\n",
    "Segue abaixo alguns exemplos."
   ]
  },
  {
   "cell_type": "markdown",
   "metadata": {},
   "source": [
    "- **Acurácia:** É medido com base no total de verdadeiro positivo e verdadeiro negativo dividido por tudo, ou seja, VP + VN / VP + VN + FN + FP.\n",
    "\n",
    "    Basicamente ela avalia a quantidade de acertos do seu modelo, sendo muito boa quando as classes estão balanceadas.\n",
    "\n",
    "    <img src=\"../figures/acuracy_ex.png\" alt=\"image.png\" width=\"400\">\n",
    "\n",
    "- **Precisão:** É medido com base nos valores verdadeiros positivos com base no total de valores previstos, VP / VP + FP.\n",
    "\n",
    "    Ela é ótima quando o foco é minimizar os falsos positivos, mas não tão boa quando se tem desequilíbrio entre as classes.\n",
    "\n",
    "    <img src=\"../figures/precision_ex.png\" alt=\"image.png\" width=\"400\">\n",
    "\n",
    "- **Sensibilidade:** É medido com base nos valores verdadeiros positivos em relação ao total de valores positivos do conjunto de dados, VP / VP + FN.\n",
    "\n",
    "    Ela é muito boa, pois dessa forma, podemos garantir que todos os verdadeiros positivos sejam identificados, mas isso também pode resultar na ocorrencia de falsos positivos.\n",
    "\n",
    "    <img src=\"../figures/recall_ex.png\" alt=\"image.png\" width=\"400\">\n",
    "\n",
    "- **Especificidade:** Diferente de sensibilidade, ela é medida com base nos valores verdadeiros negativos em relação ao total de valores negativos do conjunto de dados, VN / VN + FP.\n",
    "\n",
    "    Parecido com a sensibilidade, ela detecta resultados negativos.\n",
    "\n",
    "    <img src=\"../figures/especificidade_ex.png\" alt=\"image.png\" width=\"400\">\n",
    "\n",
    "- **F1-Score:** É medido com base na média harmônica entre precisão e sensibilidade, 2 * (precisão * sensibilidade) / (precisão + sensibilidade).\n",
    "\n",
    "    Muito usado quando se quer ter uma redução nos falsos positivos e falsos negativos, equilibrando as classes.\n",
    "\n",
    "    <img src=\"../figures/f1-score_ex.png\" alt=\"image.png\" width=\"400\">\n",
    "\n",
    "- **Curva ROC:** Essa métrica permite avaliar as classificações do modelo, com base na taxa de verdadeiros positivos e falsos positivos.\n",
    "\n",
    "    É plotado um gráfico, que mostra na prática qual o melhor classificador, com base em qual está mais próximo do topo do eixo Y.\n",
    "\n",
    "    ![image.png](../figures/curva_ROC.png)\n",
    "\n",
    "- **Gráfico de Treinamento e Teste:** Representa o desempenho do modelo ao longo do tempo durante o processo de treinamento e teste.\n",
    "\n",
    "    É plotado um gráfico, que mostra as métricas de desempenho do modelo.\n",
    "\n",
    "    ![image.png](../figures/grafico_treinamento_teste-1_decision_tree_downsampled.png)"
   ]
  }
 ],
 "metadata": {
  "kernelspec": {
   "display_name": ".venv",
   "language": "python",
   "name": "python3"
  },
  "language_info": {
   "codemirror_mode": {
    "name": "ipython",
    "version": 3
   },
   "file_extension": ".py",
   "mimetype": "text/x-python",
   "name": "python",
   "nbconvert_exporter": "python",
   "pygments_lexer": "ipython3",
   "version": "3.11.4"
  }
 },
 "nbformat": 4,
 "nbformat_minor": 2
}
