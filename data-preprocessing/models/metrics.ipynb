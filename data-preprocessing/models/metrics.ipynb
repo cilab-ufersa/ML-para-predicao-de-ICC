{
 "cells": [
  {
   "cell_type": "markdown",
   "metadata": {},
   "source": [
    "# Métricas"
   ]
  },
  {
   "cell_type": "markdown",
   "metadata": {},
   "source": [
    "Basicamente as métricas são usadas nos algoritmos para modelos de Aprendizado de Máquina (AM), para poder se ter uma base do quanto o modelo está errando ou acertando, referente aos valores das classes retornadas, sendo verdadeiros positivos e falsos negativos."
   ]
  },
  {
   "cell_type": "markdown",
   "metadata": {},
   "source": [
    "## Tipos de Predições"
   ]
  },
  {
   "cell_type": "markdown",
   "metadata": {},
   "source": [
    "<center>\n",
    "\n",
    "![image.png](../figures/metricas_de_avaliacao.png)\n",
    "\n",
    "</center>"
   ]
  },
  {
   "cell_type": "markdown",
   "metadata": {},
   "source": [
    "As predições de classificação binária tem quatro possíveis classes.\n",
    "- Verdadeiro Positivo: ocorre quando o modelo prediz positivamente, e a classe era realmente positiva.\n",
    "\n",
    "- Falso Negativo: ocorre quando o modelo prediz negativamente, porém a classe na verdade era positiva.\n",
    "\n",
    "- Verdadeiro Negativo: ocore quando o modelo prediz negativamente, e a classe é negativa.\n",
    "\n",
    "- Falso Positivo: ocorre quando o modelo prediz positivamente, mas a classe era negativa."
   ]
  },
  {
   "cell_type": "markdown",
   "metadata": {},
   "source": [
    "## Tipos de Métricas"
   ]
  },
  {
   "cell_type": "markdown",
   "metadata": {},
   "source": [
    "Existem vários tipos de métricas que são usadas hoje em dia, e seus usos são baseados em que problema específico está sendo abordado e das características dos dados.\n",
    "Segue abaixo alguns exemplos."
   ]
  },
  {
   "cell_type": "markdown",
   "metadata": {},
   "source": [
    "- Acurácia: É medido com base no total de verdadeiro positivo e verdadeiro negativo dividido por tudo, ou seja, VP + VN / VP + VN + FN + FP.\n",
    "\n",
    "    Basicamente ela avalia a quantidade de acertos do seu modelo, sendo muito boa quando as classes estão balanceadas.\n",
    "\n",
    "- Precisão: É medido com base nos valores verdadeiros positivos com base no total de valores previstos, VP / VP + FP.\n",
    "\n",
    "    Ela é ótima quando o foco é minimizar os falsos positivos, mas não tão boa quando se tem desequilíbrio entre as classes.\n",
    "\n",
    "- Sensibilidade: É medido com base nos valores verdadeiros positivos em relação ao total de valores positivos do conjunto de dados, VP / VP + FN.\n",
    "\n",
    "- F1-Score: É medido com base na média harmônica entre precisão e sensibilidade, 2 * (precisão * sensibilidade) / (precisão + sensibilidade)."
   ]
  }
 ],
 "metadata": {
  "kernelspec": {
   "display_name": ".venv",
   "language": "python",
   "name": "python3"
  },
  "language_info": {
   "codemirror_mode": {
    "name": "ipython",
    "version": 3
   },
   "file_extension": ".py",
   "mimetype": "text/x-python",
   "name": "python",
   "nbconvert_exporter": "python",
   "pygments_lexer": "ipython3",
   "version": "3.11.4"
  }
 },
 "nbformat": 4,
 "nbformat_minor": 2
}
