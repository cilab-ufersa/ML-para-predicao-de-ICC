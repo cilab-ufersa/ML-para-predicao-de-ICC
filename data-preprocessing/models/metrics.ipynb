{
 "cells": [
  {
   "cell_type": "markdown",
   "metadata": {},
   "source": [
    "# Métricas"
   ]
  },
  {
   "cell_type": "markdown",
   "metadata": {},
   "source": [
    "Basicamente as métricas são usadas nos algoritmos para modelos de Aprendizado de Máquina (AM), para poder se ter uma base do quanto o modelo está errando ou acertando, referente aos valores verdadeiros positivos e falsos negativos."
   ]
  },
  {
   "cell_type": "markdown",
   "metadata": {},
   "source": [
    "<center>\n",
    "\n",
    "![image.png](../figures/metricas_de_avaliacao.png)\n",
    "\n",
    "</center>"
   ]
  },
  {
   "cell_type": "markdown",
   "metadata": {},
   "source": [
    "Existem vários tipos de métricas que são usadas hoje em dia, e seus usos são baseados em que problema específico está sendo abordado e das características dos dados.\n",
    "Segue abaixo alguns exemplos."
   ]
  },
  {
   "cell_type": "markdown",
   "metadata": {},
   "source": [
    "- Acurácia: É medido com base no total de verdadeiro positivo e verdadeiro negativo dividido por tudo, ou seja, VP + VN / VP +VN + FN + FP.\n",
    "\n",
    "- Precisão: É medido com base nos valores verdadeiros positivos com base no total de valores previstos, VP / VP + FP.\n",
    "\n",
    "- Sensibilidade: É medido com base nos valores verdadeiros positivos em relação ao total de valores positivos do conjunto de dados, VP / VP + FN. "
   ]
  }
 ],
 "metadata": {
  "kernelspec": {
   "display_name": ".venv",
   "language": "python",
   "name": "python3"
  },
  "language_info": {
   "codemirror_mode": {
    "name": "ipython",
    "version": 3
   },
   "file_extension": ".py",
   "mimetype": "text/x-python",
   "name": "python",
   "nbconvert_exporter": "python",
   "pygments_lexer": "ipython3",
   "version": "3.11.4"
  }
 },
 "nbformat": 4,
 "nbformat_minor": 2
}
