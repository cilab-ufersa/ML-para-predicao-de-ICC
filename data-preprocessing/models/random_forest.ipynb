{
 "cells": [
  {
   "cell_type": "markdown",
   "metadata": {},
   "source": [
    "# Random Forest"
   ]
  },
  {
   "cell_type": "markdown",
   "metadata": {},
   "source": [
    "O random forest é um modelo de aprendizado de máquina levemente parecido com o decision tree, a diferença é que este modelo cria várias árvores de decisão, coletando seus resultados e combinando-os, para assim, poder obter uma previsão mais precisa e estável, como no exemplo abaixo.\n",
    "\n",
    "<center>\n",
    "\n",
    "![image.png](../figures/random_forest_ex.png)\n",
    "\n",
    "</center>"
   ]
  },
  {
   "cell_type": "markdown",
   "metadata": {},
   "source": [
    "## Importando as bibliotecas scikit-learn e o Pandas"
   ]
  },
  {
   "cell_type": "code",
   "execution_count": 1,
   "metadata": {},
   "outputs": [],
   "source": [
    "import pandas as pd\n",
    "from sklearn.model_selection import train_test_split\n",
    "from sklearn.ensemble import RandomForestClassifier\n",
    "from sklearn.metrics import classification_report"
   ]
  },
  {
   "cell_type": "markdown",
   "metadata": {},
   "source": [
    "## Lendo o Dataset tratado, transformando-o em um DataFrame e rmazenando nas variáveis, as colunas referentes as suas características e rótulos"
   ]
  },
  {
   "cell_type": "code",
   "execution_count": 2,
   "metadata": {},
   "outputs": [],
   "source": [
    "df = pd.read_csv('dataset_tratado.csv')\n",
    "\n",
    "x = df.drop('ZSN', axis=1)\n",
    "y = df['ZSN']"
   ]
  },
  {
   "cell_type": "markdown",
   "metadata": {},
   "source": [
    "## Dividindo os dados em conjunto de treino e teste, além de aplicar e imprimir as suas métricas"
   ]
  },
  {
   "cell_type": "code",
   "execution_count": 3,
   "metadata": {},
   "outputs": [
    {
     "name": "stdout",
     "output_type": "stream",
     "text": [
      "              precision    recall  f1-score   support\n",
      "\n",
      "           0       0.81      0.98      0.89       260\n",
      "           1       0.83      0.25      0.38        80\n",
      "\n",
      "    accuracy                           0.81       340\n",
      "   macro avg       0.82      0.62      0.64       340\n",
      "weighted avg       0.82      0.81      0.77       340\n",
      "\n"
     ]
    }
   ],
   "source": [
    "x_train, x_test, y_train, y_test = train_test_split(x, y, test_size=0.2, random_state=42)\n",
    "\n",
    "random_forest_model = RandomForestClassifier(n_estimators=100, random_state=42)\n",
    "random_forest_model.fit(x_train, y_train)\n",
    "y_pred = random_forest_model.predict(x_test)\n",
    "\n",
    "print(classification_report(y_test, y_pred, digits=2, zero_division=1))"
   ]
  }
 ],
 "metadata": {
  "kernelspec": {
   "display_name": "Python 3",
   "language": "python",
   "name": "python3"
  },
  "language_info": {
   "codemirror_mode": {
    "name": "ipython",
    "version": 3
   },
   "file_extension": ".py",
   "mimetype": "text/x-python",
   "name": "python",
   "nbconvert_exporter": "python",
   "pygments_lexer": "ipython3",
   "version": "3.11.4"
  }
 },
 "nbformat": 4,
 "nbformat_minor": 2
}
